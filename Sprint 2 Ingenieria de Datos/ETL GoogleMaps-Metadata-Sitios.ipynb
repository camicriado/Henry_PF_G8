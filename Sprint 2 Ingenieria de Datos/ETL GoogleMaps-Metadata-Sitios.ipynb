{
 "cells": [
  {
   "cell_type": "markdown",
   "metadata": {},
   "source": [
    "**ETL Metadata-Sitios**\n",
    "---"
   ]
  },
  {
   "cell_type": "code",
   "execution_count": 2,
   "metadata": {},
   "outputs": [],
   "source": [
    "import pandas as pd\n",
    "from ydata_profiling import ProfileReport\n",
    "import matplotlib.pyplot as plt\n",
    "%matplotlib inline\n",
    "import seaborn as sns \n",
    "import pyarrow as pa"
   ]
  },
  {
   "cell_type": "code",
   "execution_count": 3,
   "metadata": {},
   "outputs": [],
   "source": [
    "#Leemos el archivo\n",
    "sitiosdf1=pd.read_json('../Proyecto Final/PG 03 Google & Yeld/Google Maps/metadata-sitios/1.json',lines=True)"
   ]
  },
  {
   "cell_type": "code",
   "execution_count": 4,
   "metadata": {},
   "outputs": [],
   "source": [
    "#Borramos la columnas que no usamos\n",
    "sitiosdf1.drop(columns=['description','price','hours','MISC','state','relative_results'],inplace=True)"
   ]
  },
  {
   "cell_type": "code",
   "execution_count": 5,
   "metadata": {},
   "outputs": [
    {
     "data": {
      "text/plain": [
       "(275001, 9)"
      ]
     },
     "execution_count": 5,
     "metadata": {},
     "output_type": "execute_result"
    }
   ],
   "source": [
    "sitiosdf1.shape"
   ]
  },
  {
   "cell_type": "code",
   "execution_count": 6,
   "metadata": {},
   "outputs": [],
   "source": [
    "# Definir palabras patrones\n",
    "patrones = ['Bar', 'Hotel', 'Nightlife']\n",
    "\n",
    "# Buscar las palabras patrones en cada celda de la columna 'category'\n",
    "sitiosdf1['patrones_encontrados'] = sitiosdf1['category'].apply(\n",
    "    lambda x: any(patron in x for patron in patrones) if x is not None else False\n",
    ")\n",
    "\n",
    "# Filtrar el DataFrame por las filas que contienen las palabras patrones\n",
    "sitiosdf1_category = sitiosdf1[sitiosdf1['patrones_encontrados']]"
   ]
  },
  {
   "cell_type": "code",
   "execution_count": 7,
   "metadata": {},
   "outputs": [
    {
     "name": "stdout",
     "output_type": "stream",
     "text": [
      "<class 'pandas.core.frame.DataFrame'>\n",
      "Int64Index: 2200 entries, 75 to 274896\n",
      "Data columns (total 10 columns):\n",
      " #   Column                Non-Null Count  Dtype  \n",
      "---  ------                --------------  -----  \n",
      " 0   name                  2200 non-null   object \n",
      " 1   address               2200 non-null   object \n",
      " 2   gmap_id               2200 non-null   object \n",
      " 3   latitude              2200 non-null   float64\n",
      " 4   longitude             2200 non-null   float64\n",
      " 5   category              2200 non-null   object \n",
      " 6   avg_rating            2200 non-null   float64\n",
      " 7   num_of_reviews        2200 non-null   int64  \n",
      " 8   url                   2200 non-null   object \n",
      " 9   patrones_encontrados  2200 non-null   bool   \n",
      "dtypes: bool(1), float64(3), int64(1), object(5)\n",
      "memory usage: 174.0+ KB\n"
     ]
    }
   ],
   "source": [
    "#revisamos el dataframe resultante\n",
    "sitiosdf1_category.info()"
   ]
  },
  {
   "cell_type": "code",
   "execution_count": 8,
   "metadata": {},
   "outputs": [],
   "source": [
    "# sitiosdf1_category.to_parquet('Metadata_sitios_1.parquet')"
   ]
  },
  {
   "cell_type": "code",
   "execution_count": 9,
   "metadata": {},
   "outputs": [],
   "source": [
    "sitiosdf2=pd.read_json('../Proyecto Final/PG 03 Google & Yeld/Google Maps/metadata-sitios/2.json',lines=True)"
   ]
  },
  {
   "cell_type": "code",
   "execution_count": 10,
   "metadata": {},
   "outputs": [
    {
     "name": "stdout",
     "output_type": "stream",
     "text": [
      "<class 'pandas.core.frame.DataFrame'>\n",
      "RangeIndex: 275001 entries, 0 to 275000\n",
      "Data columns (total 15 columns):\n",
      " #   Column            Non-Null Count   Dtype  \n",
      "---  ------            --------------   -----  \n",
      " 0   name              274993 non-null  object \n",
      " 1   address           265201 non-null  object \n",
      " 2   gmap_id           275001 non-null  object \n",
      " 3   description       14111 non-null   object \n",
      " 4   latitude          275001 non-null  float64\n",
      " 5   longitude         275001 non-null  float64\n",
      " 6   category          272882 non-null  object \n",
      " 7   avg_rating        275001 non-null  float64\n",
      " 8   num_of_reviews    275001 non-null  int64  \n",
      " 9   price             14401 non-null   object \n",
      " 10  hours             192124 non-null  object \n",
      " 11  MISC              197827 non-null  object \n",
      " 12  state             195942 non-null  object \n",
      " 13  relative_results  241166 non-null  object \n",
      " 14  url               275001 non-null  object \n",
      "dtypes: float64(3), int64(1), object(11)\n",
      "memory usage: 31.5+ MB\n"
     ]
    }
   ],
   "source": [
    "sitiosdf2.info()"
   ]
  },
  {
   "cell_type": "code",
   "execution_count": 11,
   "metadata": {},
   "outputs": [],
   "source": [
    "sitiosdf2.drop(columns=['description','price','hours','MISC','state','relative_results',],inplace=True)"
   ]
  },
  {
   "cell_type": "code",
   "execution_count": 12,
   "metadata": {},
   "outputs": [],
   "source": [
    "# Definir palabras patrones\n",
    "patrones = ['Bar', 'Hotel', 'Nightlife']\n",
    "\n",
    "# Buscar las palabras patrones en cada celda de la columna 'category'\n",
    "sitiosdf2['patrones_encontrados'] = sitiosdf2['category'].apply(\n",
    "    lambda x: any(patron in x for patron in patrones) if x is not None else False\n",
    ")\n",
    "\n",
    "# Filtrar el DataFrame por las filas que contienen las palabras patrones\n",
    "sitiosdf2_category = sitiosdf2[sitiosdf2['patrones_encontrados']]"
   ]
  },
  {
   "cell_type": "code",
   "execution_count": 13,
   "metadata": {},
   "outputs": [
    {
     "name": "stdout",
     "output_type": "stream",
     "text": [
      "<class 'pandas.core.frame.DataFrame'>\n",
      "Int64Index: 2304 entries, 129 to 274958\n",
      "Data columns (total 10 columns):\n",
      " #   Column                Non-Null Count  Dtype  \n",
      "---  ------                --------------  -----  \n",
      " 0   name                  2304 non-null   object \n",
      " 1   address               2304 non-null   object \n",
      " 2   gmap_id               2304 non-null   object \n",
      " 3   latitude              2304 non-null   float64\n",
      " 4   longitude             2304 non-null   float64\n",
      " 5   category              2304 non-null   object \n",
      " 6   avg_rating            2304 non-null   float64\n",
      " 7   num_of_reviews        2304 non-null   int64  \n",
      " 8   url                   2304 non-null   object \n",
      " 9   patrones_encontrados  2304 non-null   bool   \n",
      "dtypes: bool(1), float64(3), int64(1), object(5)\n",
      "memory usage: 182.2+ KB\n"
     ]
    }
   ],
   "source": [
    "#revisamos el dataframe resultante\n",
    "sitiosdf2_category.info()"
   ]
  },
  {
   "cell_type": "code",
   "execution_count": 14,
   "metadata": {},
   "outputs": [],
   "source": [
    "# sitiosdf2_category.to_parquet('Metadata_sitios_2.parquet')"
   ]
  },
  {
   "cell_type": "code",
   "execution_count": 15,
   "metadata": {},
   "outputs": [],
   "source": [
    "sitiosdf3=pd.read_json('../Proyecto Final/PG 03 Google & Yeld/Google Maps/metadata-sitios/3.json',lines=True)"
   ]
  },
  {
   "cell_type": "code",
   "execution_count": 16,
   "metadata": {},
   "outputs": [],
   "source": [
    "sitiosdf3.drop(columns=['description','price','hours','MISC','state','relative_results'],inplace=True)"
   ]
  },
  {
   "cell_type": "code",
   "execution_count": 17,
   "metadata": {},
   "outputs": [],
   "source": [
    "# Definir palabras patrones\n",
    "patrones = ['Bar', 'Hotel', 'Nightlife']\n",
    "\n",
    "# Buscar las palabras patrones en cada celda de la columna 'category'\n",
    "sitiosdf3['patrones_encontrados'] = sitiosdf3['category'].apply(\n",
    "    lambda x: any(patron in x for patron in patrones) if x is not None else False\n",
    ")\n",
    "\n",
    "# Filtrar el DataFrame por las filas que contienen las palabras patrones\n",
    "sitiosdf3_category = sitiosdf3[sitiosdf3['patrones_encontrados']]"
   ]
  },
  {
   "cell_type": "code",
   "execution_count": 18,
   "metadata": {},
   "outputs": [],
   "source": [
    "# sitiosdf3_category.to_parquet('Metadata_sitios_3.parquet')"
   ]
  },
  {
   "cell_type": "code",
   "execution_count": 19,
   "metadata": {},
   "outputs": [],
   "source": [
    "sitiosdf4=pd.read_json('../Proyecto Final/PG 03 Google & Yeld/Google Maps/metadata-sitios/4.json',lines=True)"
   ]
  },
  {
   "cell_type": "code",
   "execution_count": 20,
   "metadata": {},
   "outputs": [],
   "source": [
    "sitiosdf4.drop(columns=['description','price','hours','MISC','state','relative_results'],inplace=True)"
   ]
  },
  {
   "cell_type": "code",
   "execution_count": 21,
   "metadata": {},
   "outputs": [],
   "source": [
    "# Definir palabras patrones\n",
    "patrones = ['Bar', 'Hotel', 'Nightlife']\n",
    "\n",
    "# Buscar las palabras patrones en cada celda de la columna 'category'\n",
    "sitiosdf4['patrones_encontrados'] = sitiosdf4['category'].apply(\n",
    "    lambda x: any(patron in x for patron in patrones) if x is not None else False\n",
    ")\n",
    "\n",
    "# Filtrar el DataFrame por las filas que contienen las palabras patrones\n",
    "sitiosdf4_category = sitiosdf4[sitiosdf4['patrones_encontrados']]"
   ]
  },
  {
   "cell_type": "code",
   "execution_count": 22,
   "metadata": {},
   "outputs": [],
   "source": [
    "# sitiosdf4_category.to_parquet('Metadata_sitios_4.parquet')"
   ]
  },
  {
   "cell_type": "code",
   "execution_count": 23,
   "metadata": {},
   "outputs": [],
   "source": [
    "sitiosdf5=pd.read_json('../Proyecto Final/PG 03 Google & Yeld/Google Maps/metadata-sitios/5.json',lines=True)"
   ]
  },
  {
   "cell_type": "code",
   "execution_count": 24,
   "metadata": {},
   "outputs": [],
   "source": [
    "#Borramos la columnas que no usamos\n",
    "sitiosdf5.drop(columns=['description','price','hours','MISC','state','relative_results'],inplace=True)"
   ]
  },
  {
   "cell_type": "code",
   "execution_count": 25,
   "metadata": {},
   "outputs": [],
   "source": [
    "# Definir palabras patrones\n",
    "patrones = ['Bar', 'Hotel', 'Nightlife']\n",
    "\n",
    "# Buscar las palabras patrones en cada celda de la columna 'category'\n",
    "sitiosdf5['patrones_encontrados'] = sitiosdf5['category'].apply(\n",
    "    lambda x: any(patron in x for patron in patrones) if x is not None else False\n",
    ")\n",
    "\n",
    "# Filtrar el DataFrame por las filas que contienen las palabras patrones\n",
    "sitiosdf5_category = sitiosdf5[sitiosdf5['patrones_encontrados']]"
   ]
  },
  {
   "cell_type": "code",
   "execution_count": 26,
   "metadata": {},
   "outputs": [],
   "source": [
    "# sitiosdf5_category.to_parquet('Metadata_sitios_5.parquet')"
   ]
  },
  {
   "cell_type": "code",
   "execution_count": 27,
   "metadata": {},
   "outputs": [],
   "source": [
    "sitiosdf6=pd.read_json('../Proyecto Final/PG 03 Google & Yeld/Google Maps/metadata-sitios/6.json',lines=True)"
   ]
  },
  {
   "cell_type": "code",
   "execution_count": 28,
   "metadata": {},
   "outputs": [],
   "source": [
    "#Borramos la columnas que no usamos\n",
    "sitiosdf6.drop(columns=['description','price','hours','MISC','state','relative_results'],inplace=True)"
   ]
  },
  {
   "cell_type": "code",
   "execution_count": 29,
   "metadata": {},
   "outputs": [],
   "source": [
    "# Definir palabras patrones\n",
    "patrones = ['Bar', 'Hotel', 'Nightlife']\n",
    "\n",
    "# Buscar las palabras patrones en cada celda de la columna 'category'\n",
    "sitiosdf6['patrones_encontrados'] = sitiosdf4['category'].apply(\n",
    "    lambda x: any(patron in x for patron in patrones) if x is not None else False\n",
    ")\n",
    "\n",
    "# Filtrar el DataFrame por las filas que contienen las palabras patrones\n",
    "sitiosdf6_category = sitiosdf6[sitiosdf6['patrones_encontrados']]"
   ]
  },
  {
   "cell_type": "code",
   "execution_count": 30,
   "metadata": {},
   "outputs": [],
   "source": [
    "# sitiosdf6_category.to_parquet('Metadata_sitios_6.parquet')"
   ]
  },
  {
   "cell_type": "code",
   "execution_count": 31,
   "metadata": {},
   "outputs": [
    {
     "ename": "KeyboardInterrupt",
     "evalue": "",
     "output_type": "error",
     "traceback": [
      "\u001b[1;31m---------------------------------------------------------------------------\u001b[0m",
      "\u001b[1;31mKeyboardInterrupt\u001b[0m                         Traceback (most recent call last)",
      "Cell \u001b[1;32mIn[31], line 1\u001b[0m\n\u001b[1;32m----> 1\u001b[0m sitiosdf7\u001b[39m=\u001b[39mpd\u001b[39m.\u001b[39;49mread_json(\u001b[39m'\u001b[39;49m\u001b[39m../Proyecto Final/PG 03 Google & Yeld/Google Maps/metadata-sitios/7.json\u001b[39;49m\u001b[39m'\u001b[39;49m,lines\u001b[39m=\u001b[39;49m\u001b[39mTrue\u001b[39;49;00m)\n",
      "File \u001b[1;32mc:\\Users\\crica\\AppData\\Local\\Programs\\Python\\Python311\\Lib\\site-packages\\pandas\\util\\_decorators.py:211\u001b[0m, in \u001b[0;36mdeprecate_kwarg.<locals>._deprecate_kwarg.<locals>.wrapper\u001b[1;34m(*args, **kwargs)\u001b[0m\n\u001b[0;32m    209\u001b[0m     \u001b[39melse\u001b[39;00m:\n\u001b[0;32m    210\u001b[0m         kwargs[new_arg_name] \u001b[39m=\u001b[39m new_arg_value\n\u001b[1;32m--> 211\u001b[0m \u001b[39mreturn\u001b[39;00m func(\u001b[39m*\u001b[39;49margs, \u001b[39m*\u001b[39;49m\u001b[39m*\u001b[39;49mkwargs)\n",
      "File \u001b[1;32mc:\\Users\\crica\\AppData\\Local\\Programs\\Python\\Python311\\Lib\\site-packages\\pandas\\util\\_decorators.py:331\u001b[0m, in \u001b[0;36mdeprecate_nonkeyword_arguments.<locals>.decorate.<locals>.wrapper\u001b[1;34m(*args, **kwargs)\u001b[0m\n\u001b[0;32m    325\u001b[0m \u001b[39mif\u001b[39;00m \u001b[39mlen\u001b[39m(args) \u001b[39m>\u001b[39m num_allow_args:\n\u001b[0;32m    326\u001b[0m     warnings\u001b[39m.\u001b[39mwarn(\n\u001b[0;32m    327\u001b[0m         msg\u001b[39m.\u001b[39mformat(arguments\u001b[39m=\u001b[39m_format_argument_list(allow_args)),\n\u001b[0;32m    328\u001b[0m         \u001b[39mFutureWarning\u001b[39;00m,\n\u001b[0;32m    329\u001b[0m         stacklevel\u001b[39m=\u001b[39mfind_stack_level(),\n\u001b[0;32m    330\u001b[0m     )\n\u001b[1;32m--> 331\u001b[0m \u001b[39mreturn\u001b[39;00m func(\u001b[39m*\u001b[39;49margs, \u001b[39m*\u001b[39;49m\u001b[39m*\u001b[39;49mkwargs)\n",
      "File \u001b[1;32mc:\\Users\\crica\\AppData\\Local\\Programs\\Python\\Python311\\Lib\\site-packages\\pandas\\io\\json\\_json.py:757\u001b[0m, in \u001b[0;36mread_json\u001b[1;34m(path_or_buf, orient, typ, dtype, convert_axes, convert_dates, keep_default_dates, numpy, precise_float, date_unit, encoding, encoding_errors, lines, chunksize, compression, nrows, storage_options)\u001b[0m\n\u001b[0;32m    754\u001b[0m     \u001b[39mreturn\u001b[39;00m json_reader\n\u001b[0;32m    756\u001b[0m \u001b[39mwith\u001b[39;00m json_reader:\n\u001b[1;32m--> 757\u001b[0m     \u001b[39mreturn\u001b[39;00m json_reader\u001b[39m.\u001b[39;49mread()\n",
      "File \u001b[1;32mc:\\Users\\crica\\AppData\\Local\\Programs\\Python\\Python311\\Lib\\site-packages\\pandas\\io\\json\\_json.py:913\u001b[0m, in \u001b[0;36mJsonReader.read\u001b[1;34m(self)\u001b[0m\n\u001b[0;32m    911\u001b[0m         data \u001b[39m=\u001b[39m ensure_str(\u001b[39mself\u001b[39m\u001b[39m.\u001b[39mdata)\n\u001b[0;32m    912\u001b[0m         data_lines \u001b[39m=\u001b[39m data\u001b[39m.\u001b[39msplit(\u001b[39m\"\u001b[39m\u001b[39m\\n\u001b[39;00m\u001b[39m\"\u001b[39m)\n\u001b[1;32m--> 913\u001b[0m         obj \u001b[39m=\u001b[39m \u001b[39mself\u001b[39;49m\u001b[39m.\u001b[39;49m_get_object_parser(\u001b[39mself\u001b[39;49m\u001b[39m.\u001b[39;49m_combine_lines(data_lines))\n\u001b[0;32m    914\u001b[0m \u001b[39melse\u001b[39;00m:\n\u001b[0;32m    915\u001b[0m     obj \u001b[39m=\u001b[39m \u001b[39mself\u001b[39m\u001b[39m.\u001b[39m_get_object_parser(\u001b[39mself\u001b[39m\u001b[39m.\u001b[39mdata)\n",
      "File \u001b[1;32mc:\\Users\\crica\\AppData\\Local\\Programs\\Python\\Python311\\Lib\\site-packages\\pandas\\io\\json\\_json.py:937\u001b[0m, in \u001b[0;36mJsonReader._get_object_parser\u001b[1;34m(self, json)\u001b[0m\n\u001b[0;32m    935\u001b[0m obj \u001b[39m=\u001b[39m \u001b[39mNone\u001b[39;00m\n\u001b[0;32m    936\u001b[0m \u001b[39mif\u001b[39;00m typ \u001b[39m==\u001b[39m \u001b[39m\"\u001b[39m\u001b[39mframe\u001b[39m\u001b[39m\"\u001b[39m:\n\u001b[1;32m--> 937\u001b[0m     obj \u001b[39m=\u001b[39m FrameParser(json, \u001b[39m*\u001b[39;49m\u001b[39m*\u001b[39;49mkwargs)\u001b[39m.\u001b[39;49mparse()\n\u001b[0;32m    939\u001b[0m \u001b[39mif\u001b[39;00m typ \u001b[39m==\u001b[39m \u001b[39m\"\u001b[39m\u001b[39mseries\u001b[39m\u001b[39m\"\u001b[39m \u001b[39mor\u001b[39;00m obj \u001b[39mis\u001b[39;00m \u001b[39mNone\u001b[39;00m:\n\u001b[0;32m    940\u001b[0m     \u001b[39mif\u001b[39;00m \u001b[39mnot\u001b[39;00m \u001b[39misinstance\u001b[39m(dtype, \u001b[39mbool\u001b[39m):\n",
      "File \u001b[1;32mc:\\Users\\crica\\AppData\\Local\\Programs\\Python\\Python311\\Lib\\site-packages\\pandas\\io\\json\\_json.py:1064\u001b[0m, in \u001b[0;36mParser.parse\u001b[1;34m(self)\u001b[0m\n\u001b[0;32m   1062\u001b[0m     \u001b[39mself\u001b[39m\u001b[39m.\u001b[39m_parse_numpy()\n\u001b[0;32m   1063\u001b[0m \u001b[39melse\u001b[39;00m:\n\u001b[1;32m-> 1064\u001b[0m     \u001b[39mself\u001b[39;49m\u001b[39m.\u001b[39;49m_parse_no_numpy()\n\u001b[0;32m   1066\u001b[0m \u001b[39mif\u001b[39;00m \u001b[39mself\u001b[39m\u001b[39m.\u001b[39mobj \u001b[39mis\u001b[39;00m \u001b[39mNone\u001b[39;00m:\n\u001b[0;32m   1067\u001b[0m     \u001b[39mreturn\u001b[39;00m \u001b[39mNone\u001b[39;00m\n",
      "File \u001b[1;32mc:\\Users\\crica\\AppData\\Local\\Programs\\Python\\Python311\\Lib\\site-packages\\pandas\\io\\json\\_json.py:1320\u001b[0m, in \u001b[0;36mFrameParser._parse_no_numpy\u001b[1;34m(self)\u001b[0m\n\u001b[0;32m   1317\u001b[0m orient \u001b[39m=\u001b[39m \u001b[39mself\u001b[39m\u001b[39m.\u001b[39morient\n\u001b[0;32m   1319\u001b[0m \u001b[39mif\u001b[39;00m orient \u001b[39m==\u001b[39m \u001b[39m\"\u001b[39m\u001b[39mcolumns\u001b[39m\u001b[39m\"\u001b[39m:\n\u001b[1;32m-> 1320\u001b[0m     \u001b[39mself\u001b[39m\u001b[39m.\u001b[39mobj \u001b[39m=\u001b[39m DataFrame(\n\u001b[0;32m   1321\u001b[0m         loads(json, precise_float\u001b[39m=\u001b[39;49m\u001b[39mself\u001b[39;49m\u001b[39m.\u001b[39;49mprecise_float), dtype\u001b[39m=\u001b[39;49m\u001b[39mNone\u001b[39;49;00m\n\u001b[0;32m   1322\u001b[0m     )\n\u001b[0;32m   1323\u001b[0m \u001b[39melif\u001b[39;00m orient \u001b[39m==\u001b[39m \u001b[39m\"\u001b[39m\u001b[39msplit\u001b[39m\u001b[39m\"\u001b[39m:\n\u001b[0;32m   1324\u001b[0m     decoded \u001b[39m=\u001b[39m {\n\u001b[0;32m   1325\u001b[0m         \u001b[39mstr\u001b[39m(k): v\n\u001b[0;32m   1326\u001b[0m         \u001b[39mfor\u001b[39;00m k, v \u001b[39min\u001b[39;00m loads(json, precise_float\u001b[39m=\u001b[39m\u001b[39mself\u001b[39m\u001b[39m.\u001b[39mprecise_float)\u001b[39m.\u001b[39mitems()\n\u001b[0;32m   1327\u001b[0m     }\n",
      "File \u001b[1;32mc:\\Users\\crica\\AppData\\Local\\Programs\\Python\\Python311\\Lib\\site-packages\\pandas\\core\\frame.py:609\u001b[0m, in \u001b[0;36mDataFrame.__init__\u001b[1;34m(self, data, index, columns, dtype, copy)\u001b[0m\n\u001b[0;32m    604\u001b[0m _constructor_sliced: Callable[\u001b[39m.\u001b[39m\u001b[39m.\u001b[39m\u001b[39m.\u001b[39m, Series] \u001b[39m=\u001b[39m Series\n\u001b[0;32m    606\u001b[0m \u001b[39m# ----------------------------------------------------------------------\u001b[39;00m\n\u001b[0;32m    607\u001b[0m \u001b[39m# Constructors\u001b[39;00m\n\u001b[1;32m--> 609\u001b[0m \u001b[39mdef\u001b[39;00m \u001b[39m__init__\u001b[39m(\n\u001b[0;32m    610\u001b[0m     \u001b[39mself\u001b[39m,\n\u001b[0;32m    611\u001b[0m     data\u001b[39m=\u001b[39m\u001b[39mNone\u001b[39;00m,\n\u001b[0;32m    612\u001b[0m     index: Axes \u001b[39m|\u001b[39m \u001b[39mNone\u001b[39;00m \u001b[39m=\u001b[39m \u001b[39mNone\u001b[39;00m,\n\u001b[0;32m    613\u001b[0m     columns: Axes \u001b[39m|\u001b[39m \u001b[39mNone\u001b[39;00m \u001b[39m=\u001b[39m \u001b[39mNone\u001b[39;00m,\n\u001b[0;32m    614\u001b[0m     dtype: Dtype \u001b[39m|\u001b[39m \u001b[39mNone\u001b[39;00m \u001b[39m=\u001b[39m \u001b[39mNone\u001b[39;00m,\n\u001b[0;32m    615\u001b[0m     copy: \u001b[39mbool\u001b[39m \u001b[39m|\u001b[39m \u001b[39mNone\u001b[39;00m \u001b[39m=\u001b[39m \u001b[39mNone\u001b[39;00m,\n\u001b[0;32m    616\u001b[0m ) \u001b[39m-\u001b[39m\u001b[39m>\u001b[39m \u001b[39mNone\u001b[39;00m:\n\u001b[0;32m    618\u001b[0m     \u001b[39mif\u001b[39;00m data \u001b[39mis\u001b[39;00m \u001b[39mNone\u001b[39;00m:\n\u001b[0;32m    619\u001b[0m         data \u001b[39m=\u001b[39m {}\n",
      "\u001b[1;31mKeyboardInterrupt\u001b[0m: "
     ]
    }
   ],
   "source": [
    "sitiosdf7=pd.read_json('../Proyecto Final/PG 03 Google & Yeld/Google Maps/metadata-sitios/7.json',lines=True)"
   ]
  },
  {
   "cell_type": "code",
   "execution_count": null,
   "metadata": {},
   "outputs": [],
   "source": [
    "#Borramos la columnas que no usamos\n",
    "sitiosdf7.drop(columns=['description','price','hours','MISC','state','relative_results'],inplace=True)"
   ]
  },
  {
   "cell_type": "code",
   "execution_count": null,
   "metadata": {},
   "outputs": [],
   "source": [
    "# Definir palabras patrones\n",
    "patrones = ['Bar', 'Hotel', 'Nightlife']\n",
    "\n",
    "# Buscar las palabras patrones en cada celda de la columna 'category'\n",
    "sitiosdf7['patrones_encontrados'] = sitiosdf7['category'].apply(\n",
    "    lambda x: any(patron in x for patron in patrones) if x is not None else False\n",
    ")\n",
    "\n",
    "# Filtrar el DataFrame por las filas que contienen las palabras patrones\n",
    "sitiosdf7_category = sitiosdf7[sitiosdf7['patrones_encontrados']]"
   ]
  },
  {
   "cell_type": "code",
   "execution_count": null,
   "metadata": {},
   "outputs": [],
   "source": [
    "# sitiosdf7_category.to_parquet('Metadata_sitios_7.parquet')"
   ]
  },
  {
   "cell_type": "code",
   "execution_count": null,
   "metadata": {},
   "outputs": [],
   "source": [
    "sitiosdf8=pd.read_json('../Proyecto Final/PG 03 Google & Yeld/Google Maps/metadata-sitios/8.json',lines=True)"
   ]
  },
  {
   "cell_type": "code",
   "execution_count": null,
   "metadata": {},
   "outputs": [],
   "source": [
    "#Borramos la columnas que no usamos\n",
    "sitiosdf8.drop(columns=['description','price','hours','MISC','state','relative_results'],inplace=True)"
   ]
  },
  {
   "cell_type": "code",
   "execution_count": null,
   "metadata": {},
   "outputs": [],
   "source": [
    "# Definir palabras patrones\n",
    "patrones = ['Bar', 'Hotel', 'Nightlife']\n",
    "\n",
    "# Buscar las palabras patrones en cada celda de la columna 'category'\n",
    "sitiosdf8['patrones_encontrados'] = sitiosdf8['category'].apply(\n",
    "    lambda x: any(patron in x for patron in patrones) if x is not None else False\n",
    ")\n",
    "\n",
    "# Filtrar el DataFrame por las filas que contienen las palabras patrones\n",
    "sitiosdf8_category = sitiosdf8[sitiosdf8['patrones_encontrados']]"
   ]
  },
  {
   "cell_type": "code",
   "execution_count": null,
   "metadata": {},
   "outputs": [],
   "source": [
    "# sitiosdf8_category.to_parquet('Metadata_sitios_8.parquet')"
   ]
  },
  {
   "cell_type": "code",
   "execution_count": null,
   "metadata": {},
   "outputs": [],
   "source": [
    "sitiosdf9=pd.read_json('../Proyecto Final/PG 03 Google & Yeld/Google Maps/metadata-sitios/9.json',lines=True)"
   ]
  },
  {
   "cell_type": "code",
   "execution_count": null,
   "metadata": {},
   "outputs": [],
   "source": [
    "#Borramos la columnas que no usamos\n",
    "sitiosdf9.drop(columns=['description','price','hours','MISC','state','relative_results'],inplace=True)"
   ]
  },
  {
   "cell_type": "code",
   "execution_count": null,
   "metadata": {},
   "outputs": [],
   "source": [
    "# Definir palabras patrones\n",
    "patrones = ['Bar', 'Hotel', 'Nightlife']\n",
    "# Buscar las palabras patrones en cada celda de la columna 'category'\n",
    "sitiosdf9['patrones_encontrados'] = sitiosdf9['category'].apply(\n",
    "    lambda x: any(patron in x for patron in patrones) if x is not None else False\n",
    ")\n",
    "\n",
    "# Filtrar el DataFrame por las filas que contienen las palabras patrones\n",
    "sitiosdf9_category = sitiosdf9[sitiosdf9['patrones_encontrados']]"
   ]
  },
  {
   "cell_type": "code",
   "execution_count": null,
   "metadata": {},
   "outputs": [],
   "source": [
    "# sitiosdf9_category.to_parquet('Metadata_sitios_9.parquet')"
   ]
  },
  {
   "cell_type": "code",
   "execution_count": null,
   "metadata": {},
   "outputs": [],
   "source": [
    "sitiosdf10=pd.read_json('../Proyecto Final/PG 03 Google & Yeld/Google Maps/metadata-sitios/10.json',lines=True)"
   ]
  },
  {
   "cell_type": "code",
   "execution_count": null,
   "metadata": {},
   "outputs": [],
   "source": [
    "#Borramos la columnas que no usamos\n",
    "sitiosdf10.drop(columns=['description','price','hours','MISC','state','relative_results'],inplace=True)"
   ]
  },
  {
   "cell_type": "code",
   "execution_count": null,
   "metadata": {},
   "outputs": [],
   "source": [
    "# Definir palabras patrones\n",
    "patrones = ['Bar', 'Hotel', 'Nightlife']\n",
    "\n",
    "# Buscar las palabras patrones en cada celda de la columna 'category'\n",
    "sitiosdf10['patrones_encontrados'] = sitiosdf10['category'].apply(\n",
    "    lambda x: any(patron in x for patron in patrones) if x is not None else False\n",
    ")\n",
    "\n",
    "# Filtrar el DataFrame por las filas que contienen las palabras patrones\n",
    "sitiosdf10_category = sitiosdf10[sitiosdf10['patrones_encontrados']]"
   ]
  },
  {
   "cell_type": "code",
   "execution_count": null,
   "metadata": {},
   "outputs": [],
   "source": [
    "# sitiosdf10_category.to_parquet('Metadata_sitios_10.parquet')"
   ]
  },
  {
   "cell_type": "code",
   "execution_count": null,
   "metadata": {},
   "outputs": [],
   "source": [
    "sitiosdf11=pd.read_json('../Proyecto Final/PG 03 Google & Yeld/Google Maps/metadata-sitios/11.json',lines=True)"
   ]
  },
  {
   "cell_type": "code",
   "execution_count": null,
   "metadata": {},
   "outputs": [],
   "source": [
    "# Borramos la columnas que no usamos\n",
    "sitiosdf11.drop(columns=['description','price','hours','MISC','state','relative_results'],inplace=True)"
   ]
  },
  {
   "cell_type": "code",
   "execution_count": null,
   "metadata": {},
   "outputs": [],
   "source": [
    "# Definir palabras patrones\n",
    "patrones = ['Bar', 'Hotel', 'Nightlife']\n",
    "\n",
    "# Buscar las palabras patrones en cada celda de la columna 'category'\n",
    "sitiosdf11['patrones_encontrados'] = sitiosdf11['category'].apply(\n",
    "    lambda x: any(patron in x for patron in patrones) if x is not None else False\n",
    ")\n",
    "\n",
    "# Filtrar el DataFrame por las filas que contienen las palabras patrones\n",
    "sitiosdf11_category = sitiosdf11[sitiosdf11['patrones_encontrados']]"
   ]
  },
  {
   "cell_type": "code",
   "execution_count": null,
   "metadata": {},
   "outputs": [],
   "source": [
    "# sitiosdf11_category.to_parquet('Metadata_sitios_11.parquet')"
   ]
  },
  {
   "cell_type": "markdown",
   "metadata": {},
   "source": [
    "Despues de tranformar los archivos se pueden cargar y concatenar para realizar los informes."
   ]
  },
  {
   "cell_type": "markdown",
   "metadata": {},
   "source": [
    "**Concatenar Dataframes**"
   ]
  },
  {
   "cell_type": "code",
   "execution_count": null,
   "metadata": {},
   "outputs": [],
   "source": [
    "sitiosdf=pd.concat([sitiosdf1_category, sitiosdf2_category, sitiosdf3_category, sitiosdf4_category,sitiosdf5_category, sitiosdf6_category, sitiosdf7_category, sitiosdf8_category,sitiosdf9_category, sitiosdf10_category, sitiosdf1_category], keys=['name', 'address', 'gmap_id', 'latitude', 'longitude', 'category', 'avg_rating', 'num_of_reviews', 'url', 'patrones_encontrados'])"
   ]
  },
  {
   "cell_type": "code",
   "execution_count": null,
   "metadata": {},
   "outputs": [
    {
     "data": {
      "text/plain": [
       "(31911, 10)"
      ]
     },
     "execution_count": 55,
     "metadata": {},
     "output_type": "execute_result"
    }
   ],
   "source": [
    "sitiosdf.shape"
   ]
  },
  {
   "cell_type": "code",
   "execution_count": null,
   "metadata": {},
   "outputs": [],
   "source": [
    "sitiosdf.to_parquet('Metadata_sitios.parquet')"
   ]
  },
  {
   "cell_type": "markdown",
   "metadata": {},
   "source": [
    "**DATASET FINAL**\n",
    "---"
   ]
  },
  {
   "cell_type": "code",
   "execution_count": null,
   "metadata": {},
   "outputs": [],
   "source": [
    "# Levantamos los archivos para unir por 'gmap_id' del metadatos sitios\n",
    "metadata_sitios=pd.read_parquet('Metadata_sitios.parquet')\n",
    "californiadf=pd.read_parquet('californiadf.parquet')\n",
    "\n",
    "# unimos los archivos por la columna 'gmap_id' solo con los valores que coinciden \n",
    "sitios_california=metadata_sitios.merge(californiadf, on=['gmap_id',\"gmap_id\"])"
   ]
  },
  {
   "cell_type": "code",
   "execution_count": null,
   "metadata": {},
   "outputs": [],
   "source": [
    "# levantamos un nuevo archivo\n",
    "sitios_california.to_parquet('sitios_california.parquet')"
   ]
  },
  {
   "cell_type": "code",
   "execution_count": null,
   "metadata": {},
   "outputs": [
    {
     "data": {
      "text/plain": [
       "(11613, 16)"
      ]
     },
     "execution_count": 59,
     "metadata": {},
     "output_type": "execute_result"
    }
   ],
   "source": [
    "sitios_california.shape"
   ]
  },
  {
   "cell_type": "code",
   "execution_count": null,
   "metadata": {},
   "outputs": [
    {
     "data": {
      "text/plain": [
       "(36142, 16)"
      ]
     },
     "execution_count": 65,
     "metadata": {},
     "output_type": "execute_result"
    }
   ],
   "source": [
    "new_yorkdf=pd.read_parquet('new_yorkdf.parquet')\n",
    "\n",
    "# unimos los archivos por la columna 'gmap_id' solo con los valores que coinciden \n",
    "sitios_new_york=metadata_sitios.merge(new_yorkdf, on=['gmap_id',\"gmap_id\"])\n",
    "\n",
    "# levantamos un nuevo archivo\n",
    "sitios_new_york.to_parquet('sitios_new_york.parquet')\n",
    "\n",
    "# dimencinamos el archivo resultante\n",
    "sitios_new_york.shape"
   ]
  },
  {
   "cell_type": "code",
   "execution_count": null,
   "metadata": {},
   "outputs": [
    {
     "data": {
      "text/plain": [
       "(12624, 16)"
      ]
     },
     "execution_count": 66,
     "metadata": {},
     "output_type": "execute_result"
    }
   ],
   "source": [
    "floridadf=pd.read_parquet('floridadf.parquet')\n",
    "\n",
    "# unimos los archivos por la columna 'gmap_id' solo con los valores que coinciden \n",
    "sitios_florida=metadata_sitios.merge(floridadf, on=['gmap_id',\"gmap_id\"])\n",
    "\n",
    "# levantamos un nuevo archivo\n",
    "sitios_florida.to_parquet('sitios_florida.parquet')\n",
    "\n",
    "# dimencinamos el archivo resultante\n",
    "sitios_florida.shape"
   ]
  },
  {
   "cell_type": "code",
   "execution_count": null,
   "metadata": {},
   "outputs": [
    {
     "data": {
      "text/plain": [
       "(21491, 16)"
      ]
     },
     "execution_count": 67,
     "metadata": {},
     "output_type": "execute_result"
    }
   ],
   "source": [
    "nevadadf=pd.read_parquet('nevadadf.parquet')\n",
    "\n",
    "# unimos los archivos por la columna 'gmap_id' solo con los valores que coinciden \n",
    "sitios_nevada=metadata_sitios.merge(nevadadf, on=['gmap_id',\"gmap_id\"])\n",
    "\n",
    "# levantamos un nuevo archivo\n",
    "sitios_nevada.to_parquet('sitios_nevada.parquet')\n",
    "\n",
    "# dimencinamos el archivo resultante\n",
    "sitios_nevada.shape"
   ]
  },
  {
   "cell_type": "code",
   "execution_count": null,
   "metadata": {},
   "outputs": [
    {
     "data": {
      "text/plain": [
       "(58783, 16)"
      ]
     },
     "execution_count": 68,
     "metadata": {},
     "output_type": "execute_result"
    }
   ],
   "source": [
    "illinoisdf=pd.read_parquet('illinoisdf.parquet')\n",
    "\n",
    "# unimos los archivos por la columna 'gmap_id' solo con los valores que coinciden \n",
    "sitios_illinois=metadata_sitios.merge(illinoisdf, on=['gmap_id',\"gmap_id\"])\n",
    "\n",
    "# levantamos un nuevo archivo\n",
    "sitios_illinois.to_parquet('sitios_illinois.parquet')\n",
    "\n",
    "# dimencinamos el archivo resultante\n",
    "sitios_illinois.shape"
   ]
  },
  {
   "cell_type": "code",
   "execution_count": null,
   "metadata": {},
   "outputs": [
    {
     "ename": "NameError",
     "evalue": "name 'sitios_illinois' is not defined",
     "output_type": "error",
     "traceback": [
      "\u001b[1;31m---------------------------------------------------------------------------\u001b[0m",
      "\u001b[1;31mNameError\u001b[0m                                 Traceback (most recent call last)",
      "Cell \u001b[1;32mIn[1], line 1\u001b[0m\n\u001b[1;32m----> 1\u001b[0m sitios_illinois\u001b[39m.\u001b[39minfo()\n",
      "\u001b[1;31mNameError\u001b[0m: name 'sitios_illinois' is not defined"
     ]
    }
   ],
   "source": [
    "sitios_illinois.info()"
   ]
  }
 ],
 "metadata": {
  "kernelspec": {
   "display_name": "Python 3",
   "language": "python",
   "name": "python3"
  },
  "language_info": {
   "codemirror_mode": {
    "name": "ipython",
    "version": 3
   },
   "file_extension": ".py",
   "mimetype": "text/x-python",
   "name": "python",
   "nbconvert_exporter": "python",
   "pygments_lexer": "ipython3",
   "version": "3.11.4"
  },
  "orig_nbformat": 4
 },
 "nbformat": 4,
 "nbformat_minor": 2
}
