{
 "cells": [
  {
   "cell_type": "markdown",
   "metadata": {},
   "source": [
    "**ETL Review-Estado** "
   ]
  },
  {
   "cell_type": "code",
   "execution_count": 1,
   "metadata": {},
   "outputs": [],
   "source": [
    "import pandas as pd\n",
    "from ydata_profiling import ProfileReport\n",
    "import matplotlib.pyplot as plt\n",
    "%matplotlib inline\n",
    "import seaborn as sns \n",
    "import pyarrow as pa"
   ]
  },
  {
   "cell_type": "markdown",
   "metadata": {},
   "source": [
    "**California**"
   ]
  },
  {
   "cell_type": "code",
   "execution_count": 2,
   "metadata": {},
   "outputs": [],
   "source": [
    "# leer archivo\n",
    "california1=pd.read_json('../Proyecto Final/PG 03 Google & Yeld/Google Maps/reviews-estados/review-california/1.json',lines=True)\n",
    "# borramos columnas que no usaremos\n",
    "california1.drop(columns=['pics', 'resp'],inplace=True)\n",
    "# Damos formato a la columna 'time'\n",
    "california1['time']=pd.to_datetime(california1['time'], unit='ms')\n",
    "# adicionamos una columna con el nombre del estado\n",
    "californiadf1=california1.assign(estado='CL')\n"
   ]
  },
  {
   "cell_type": "code",
   "execution_count": 3,
   "metadata": {},
   "outputs": [],
   "source": [
    "# leer archivo\n",
    "california2=pd.read_json('../Proyecto Final/PG 03 Google & Yeld/Google Maps/reviews-estados/review-california/2.json',lines=True)\n",
    "# borramos columnas que no usaremos\n",
    "california2.drop(columns=['pics', 'resp'],inplace=True)\n",
    "# Damos formato a la columna 'time'\n",
    "california2['time']=pd.to_datetime(california2['time'], unit='ms')\n",
    "# adicionamos una columna con el nombre del estado\n",
    "californiadf2=california2.assign(estado='CL')"
   ]
  },
  {
   "cell_type": "code",
   "execution_count": 4,
   "metadata": {},
   "outputs": [],
   "source": [
    "# leer archivo\n",
    "california3=pd.read_json('../Proyecto Final/PG 03 Google & Yeld/Google Maps/reviews-estados/review-california/3.json',lines=True)\n",
    "# borramos columnas que no usaremos\n",
    "california3.drop(columns=['pics', 'resp'],inplace=True)\n",
    "# Damos formato a la columna 'time'\n",
    "california3['time']=pd.to_datetime(california3['time'], unit='ms')\n",
    "# adicionamos una columna con el nombre del estado\n",
    "californiadf3=california3.assign(estado='CL')"
   ]
  },
  {
   "cell_type": "code",
   "execution_count": 5,
   "metadata": {},
   "outputs": [],
   "source": [
    "# leer archivo\n",
    "california4=pd.read_json('../Proyecto Final/PG 03 Google & Yeld/Google Maps/reviews-estados/review-california/4.json',lines=True)\n",
    "# borramos columnas que no usaremos\n",
    "california4.drop(columns=['pics', 'resp'],inplace=True)\n",
    "# Damos formato a la columna 'time'\n",
    "california4['time']=pd.to_datetime(california4['time'], unit='ms')\n",
    "# adicionamos una columna con el nombre del estado\n",
    "californiadf4=california4.assign(estado='CL')"
   ]
  },
  {
   "cell_type": "code",
   "execution_count": 6,
   "metadata": {},
   "outputs": [],
   "source": [
    "# leer archivo\n",
    "california5=pd.read_json('../Proyecto Final/PG 03 Google & Yeld/Google Maps/reviews-estados/review-california/5.json',lines=True)\n",
    "# borramos columnas que no usaremos\n",
    "california5.drop(columns=['pics', 'resp'],inplace=True)\n",
    "# Damos formato a la columna 'time'\n",
    "california5['time']=pd.to_datetime(california5['time'], unit='ms')\n",
    "# adicionamos una columna con el nombre del estado\n",
    "californiadf5=california5.assign(estado='CL')"
   ]
  },
  {
   "cell_type": "code",
   "execution_count": 7,
   "metadata": {},
   "outputs": [],
   "source": [
    "# leer archivo\n",
    "california6=pd.read_json('../Proyecto Final/PG 03 Google & Yeld/Google Maps/reviews-estados/review-california/6.json',lines=True)\n",
    "# borramos columnas que no usaremos\n",
    "california6.drop(columns=['pics', 'resp'],inplace=True)\n",
    "# Damos formato a la columna 'time'\n",
    "california6['time']=pd.to_datetime(california6['time'], unit='ms')\n",
    "# adicionamos una columna con el nombre del estado\n",
    "californiadf6=california6.assign(estado='CL')"
   ]
  },
  {
   "cell_type": "code",
   "execution_count": 8,
   "metadata": {},
   "outputs": [],
   "source": [
    "# leer archivo\n",
    "california7=pd.read_json('../Proyecto Final/PG 03 Google & Yeld/Google Maps/reviews-estados/review-california/7.json',lines=True)\n",
    "# borramos columnas que no usaremos\n",
    "california7.drop(columns=['pics', 'resp'],inplace=True)\n",
    "# Damos formato a la columna 'time'\n",
    "california7['time']=pd.to_datetime(california7['time'], unit='ms')\n",
    "# adicionamos una columna con el nombre del estado\n",
    "californiadf7=california7.assign(estado='CL')"
   ]
  },
  {
   "cell_type": "code",
   "execution_count": 9,
   "metadata": {},
   "outputs": [],
   "source": [
    "# leer archivo\n",
    "california8=pd.read_json('../Proyecto Final/PG 03 Google & Yeld/Google Maps/reviews-estados/review-california/8.json',lines=True)\n",
    "# borramos columnas que no usaremos\n",
    "california8.drop(columns=['pics', 'resp'],inplace=True)\n",
    "# Damos formato a la columna 'time'\n",
    "california8['time']=pd.to_datetime(california8['time'], unit='ms')\n",
    "# adicionamos una columna con el nombre del estado\n",
    "californiadf8=california8.assign(estado='CL')"
   ]
  },
  {
   "cell_type": "code",
   "execution_count": 10,
   "metadata": {},
   "outputs": [],
   "source": [
    "# leer archivo\n",
    "california9=pd.read_json('../Proyecto Final/PG 03 Google & Yeld/Google Maps/reviews-estados/review-california/9.json',lines=True)\n",
    "# borramos columnas que no usaremos\n",
    "california9.drop(columns=['pics', 'resp'],inplace=True)\n",
    "# Damos formato a la columna 'time'\n",
    "california9['time']=pd.to_datetime(california9['time'], unit='ms')\n",
    "# adicionamos una columna con el nombre del estado\n",
    "californiadf9=california9.assign(estado='CL')"
   ]
  },
  {
   "cell_type": "code",
   "execution_count": 11,
   "metadata": {},
   "outputs": [],
   "source": [
    "# leer archivo\n",
    "california10=pd.read_json('../Proyecto Final/PG 03 Google & Yeld/Google Maps/reviews-estados/review-california/10.json',lines=True)\n",
    "# borramos columnas que no usaremos\n",
    "california10.drop(columns=['pics', 'resp'],inplace=True)\n",
    "# Damos formato a la columna 'time'\n",
    "california10['time']=pd.to_datetime(california10['time'], unit='ms')\n",
    "# adicionamos una columna con el nombre del estado\n",
    "californiadf10=california10.assign(estado='CL')"
   ]
  },
  {
   "cell_type": "code",
   "execution_count": 12,
   "metadata": {},
   "outputs": [],
   "source": [
    "# leer archivo\n",
    "california11=pd.read_json('../Proyecto Final/PG 03 Google & Yeld/Google Maps/reviews-estados/review-california/11.json',lines=True)\n",
    "# borramos columnas que no usaremos\n",
    "california11.drop(columns=['pics', 'resp'],inplace=True)\n",
    "# Damos formato a la columna 'time'\n",
    "california11['time']=pd.to_datetime(california11['time'], unit='ms')\n",
    "# adicionamos una columna con el nombre del estado\n",
    "californiadf11=california11.assign(estado='CL')"
   ]
  },
  {
   "cell_type": "code",
   "execution_count": 13,
   "metadata": {},
   "outputs": [],
   "source": [
    "# leer archivo\n",
    "california12=pd.read_json('../Proyecto Final/PG 03 Google & Yeld/Google Maps/reviews-estados/review-california/12.json',lines=True)\n",
    "# borramos columnas que no usaremos\n",
    "california12.drop(columns=['pics', 'resp'],inplace=True)\n",
    "# Damos formato a la columna 'time'\n",
    "california12['time']=pd.to_datetime(california12['time'], unit='ms')\n",
    "# adicionamos una columna con el nombre del estado\n",
    "californiadf12=california12.assign(estado='CL')"
   ]
  },
  {
   "cell_type": "code",
   "execution_count": 14,
   "metadata": {},
   "outputs": [],
   "source": [
    "# leer archivo\n",
    "california13=pd.read_json('../Proyecto Final/PG 03 Google & Yeld/Google Maps/reviews-estados/review-california/13.json',lines=True)\n",
    "# borramos columnas que no usaremos\n",
    "california13.drop(columns=['pics', 'resp'],inplace=True)\n",
    "# Damos formato a la columna 'time'\n",
    "california13['time']=pd.to_datetime(california13['time'], unit='ms')\n",
    "# adicionamos una columna con el nombre del estado\n",
    "californiadf13=california13.assign(estado='CL')"
   ]
  },
  {
   "cell_type": "code",
   "execution_count": 15,
   "metadata": {},
   "outputs": [],
   "source": [
    "# leer archivo\n",
    "california14=pd.read_json('../Proyecto Final/PG 03 Google & Yeld/Google Maps/reviews-estados/review-california/14.json',lines=True)\n",
    "# borramos columnas que no usaremos\n",
    "california14.drop(columns=['pics', 'resp'],inplace=True)\n",
    "# Damos formato a la columna 'time'\n",
    "california14['time']=pd.to_datetime(california14['time'], unit='ms')\n",
    "# adicionamos una columna con el nombre del estado\n",
    "californiadf14=california14.assign(estado='CL')"
   ]
  },
  {
   "cell_type": "code",
   "execution_count": 16,
   "metadata": {},
   "outputs": [],
   "source": [
    "# leer archivo\n",
    "california15=pd.read_json('../Proyecto Final/PG 03 Google & Yeld/Google Maps/reviews-estados/review-california/15.json',lines=True)\n",
    "# borramos columnas que no usaremos\n",
    "california15.drop(columns=['pics', 'resp'],inplace=True)\n",
    "# Damos formato a la columna 'time'\n",
    "california15['time']=pd.to_datetime(california15['time'], unit='ms')\n",
    "# adicionamos una columna con el nombre del estado\n",
    "californiadf15=california15.assign(estado='CL')"
   ]
  },
  {
   "cell_type": "code",
   "execution_count": 17,
   "metadata": {},
   "outputs": [],
   "source": [
    "# leer archivo\n",
    "california16=pd.read_json('../Proyecto Final/PG 03 Google & Yeld/Google Maps/reviews-estados/review-california/16.json',lines=True)\n",
    "# borramos columnas que no usaremos\n",
    "california16.drop(columns=['pics', 'resp'],inplace=True)\n",
    "# Damos formato a la columna 'time'\n",
    "california16['time']=pd.to_datetime(california16['time'], unit='ms')\n",
    "# adicionamos una columna con el nombre del estado\n",
    "californiadf16=california16.assign(estado='CL')"
   ]
  },
  {
   "cell_type": "code",
   "execution_count": 18,
   "metadata": {},
   "outputs": [],
   "source": [
    "# leer archivo\n",
    "california17=pd.read_json('../Proyecto Final/PG 03 Google & Yeld/Google Maps/reviews-estados/review-california/17.json',lines=True)\n",
    "# borramos columnas que no usaremos\n",
    "california17.drop(columns=['pics', 'resp'],inplace=True)\n",
    "# Damos formato a la columna 'time'\n",
    "california17['time']=pd.to_datetime(california17['time'], unit='ms')\n",
    "# adicionamos una columna con el nombre del estado\n",
    "californiadf17=california17.assign(estado='CL')"
   ]
  },
  {
   "cell_type": "code",
   "execution_count": 19,
   "metadata": {},
   "outputs": [],
   "source": [
    "# leer archivo\n",
    "california18=pd.read_json('../Proyecto Final/PG 03 Google & Yeld/Google Maps/reviews-estados/review-california/18.json',lines=True)\n",
    "# borramos columnas que no usaremos\n",
    "california18.drop(columns=['pics', 'resp'],inplace=True)\n",
    "# Damos formato a la columna 'time'\n",
    "california18['time']=pd.to_datetime(california18['time'], unit='ms')\n",
    "# adicionamos una columna con el nombre del estado\n",
    "californiadf18=california18.assign(estado='CL')"
   ]
  },
  {
   "cell_type": "markdown",
   "metadata": {},
   "source": [
    "**Concatenar**"
   ]
  },
  {
   "cell_type": "code",
   "execution_count": 20,
   "metadata": {},
   "outputs": [],
   "source": [
    "# Contatenamos los archivos del estado\n",
    "californiadf=pd.concat([californiadf1,californiadf2,californiadf3,californiadf4,californiadf5,californiadf6,californiadf7,californiadf8,californiadf9,californiadf10,californiadf11,californiadf12,californiadf13,californiadf14,californiadf15,californiadf16,californiadf17,californiadf18], keys=['user_id','name','time','rating','text','gmap_id','estado']    \n",
    ")\n",
    "\n",
    "# levanto el archivo \n",
    "californiadf.to_parquet('californiadf.parquet')"
   ]
  },
  {
   "cell_type": "code",
   "execution_count": 21,
   "metadata": {},
   "outputs": [
    {
     "data": {
      "text/plain": [
       "(1050000, 7)"
      ]
     },
     "execution_count": 21,
     "metadata": {},
     "output_type": "execute_result"
    }
   ],
   "source": [
    "californiadf.shape"
   ]
  },
  {
   "cell_type": "markdown",
   "metadata": {},
   "source": [
    "**NEW YORK**"
   ]
  },
  {
   "cell_type": "code",
   "execution_count": 22,
   "metadata": {},
   "outputs": [],
   "source": [
    "# leer archivo\n",
    "new_york1=pd.read_json('../Proyecto Final/PG 03 Google & Yeld/Google Maps/reviews-estados/review-new_york/1.json',lines=True)\n",
    "# borramos columnas que no usaremos\n",
    "new_york1.drop(columns=['pics', 'resp'],inplace=True)\n",
    "# Damos formato a la columna 'time'\n",
    "new_york1['time']=pd.to_datetime(new_york1['time'], unit='ms')\n",
    "# adicionamos una columna con el nombre del estado\n",
    "new_yorkdf1=new_york1.assign(estado='NY')"
   ]
  },
  {
   "cell_type": "code",
   "execution_count": 23,
   "metadata": {},
   "outputs": [],
   "source": [
    "# leer archivo\n",
    "new_york2=pd.read_json('../Proyecto Final/PG 03 Google & Yeld/Google Maps/reviews-estados/review-new_york/2.json',lines=True)\n",
    "# borramos columnas que no usaremos\n",
    "new_york2.drop(columns=['pics', 'resp'],inplace=True)\n",
    "# Damos formato a la columna 'time'\n",
    "new_york2['time']=pd.to_datetime(new_york2['time'], unit='ms')\n",
    "# adicionamos una columna con el nombre del estado\n",
    "new_yorkdf2=new_york2.assign(estado='NY')"
   ]
  },
  {
   "cell_type": "code",
   "execution_count": 24,
   "metadata": {},
   "outputs": [],
   "source": [
    "# leer archivo\n",
    "new_york3=pd.read_json('../Proyecto Final/PG 03 Google & Yeld/Google Maps/reviews-estados/review-new_york/3.json',lines=True)\n",
    "# borramos columnas que no usaremos\n",
    "new_york3.drop(columns=['pics', 'resp'],inplace=True)\n",
    "# Damos formato a la columna 'time'\n",
    "new_york3['time']=pd.to_datetime(new_york3['time'], unit='ms')\n",
    "# adicionamos una columna con el nombre del estado\n",
    "new_yorkdf3=new_york3.assign(estado='NY')"
   ]
  },
  {
   "cell_type": "code",
   "execution_count": 25,
   "metadata": {},
   "outputs": [],
   "source": [
    "# leer archivo\n",
    "new_york4=pd.read_json('../Proyecto Final/PG 03 Google & Yeld/Google Maps/reviews-estados/review-new_york/4.json',lines=True)\n",
    "# borramos columnas que no usaremos\n",
    "new_york4.drop(columns=['pics', 'resp'],inplace=True)\n",
    "# Damos formato a la columna 'time'\n",
    "new_york4['time']=pd.to_datetime(new_york4['time'], unit='ms')\n",
    "# adicionamos una columna con el nombre del estado\n",
    "new_yorkdf4=new_york4.assign(estado='NY')"
   ]
  },
  {
   "cell_type": "code",
   "execution_count": 26,
   "metadata": {},
   "outputs": [],
   "source": [
    "# leer archivo\n",
    "new_york5=pd.read_json('../Proyecto Final/PG 03 Google & Yeld/Google Maps/reviews-estados/review-new_york/1.json',lines=True)\n",
    "# borramos columnas que no usaremos\n",
    "new_york5.drop(columns=['pics', 'resp'],inplace=True)\n",
    "# Damos formato a la columna 'time'\n",
    "new_york5['time']=pd.to_datetime(new_york5['time'], unit='ms')\n",
    "# adicionamos una columna con el nombre del estado\n",
    "new_yorkdf5=new_york5.assign(estado='NY')"
   ]
  },
  {
   "cell_type": "code",
   "execution_count": 27,
   "metadata": {},
   "outputs": [],
   "source": [
    "# leer archivo\n",
    "new_york6=pd.read_json('../Proyecto Final/PG 03 Google & Yeld/Google Maps/reviews-estados/review-new_york/6.json',lines=True)\n",
    "# borramos columnas que no usaremos\n",
    "new_york6.drop(columns=['pics', 'resp'],inplace=True)\n",
    "# Damos formato a la columna 'time'\n",
    "new_york6['time']=pd.to_datetime(new_york6['time'], unit='ms')\n",
    "# adicionamos una columna con el nombre del estado\n",
    "new_yorkdf6=new_york6.assign(estado='NY')"
   ]
  },
  {
   "cell_type": "code",
   "execution_count": 28,
   "metadata": {},
   "outputs": [],
   "source": [
    "# leer archivo\n",
    "new_york7=pd.read_json('../Proyecto Final/PG 03 Google & Yeld/Google Maps/reviews-estados/review-new_york/7.json',lines=True)\n",
    "# borramos columnas que no usaremos\n",
    "new_york7.drop(columns=['pics', 'resp'],inplace=True)\n",
    "# Damos formato a la columna 'time'\n",
    "new_york7['time']=pd.to_datetime(new_york7['time'], unit='ms')\n",
    "# adicionamos una columna con el nombre del estado\n",
    "new_yorkdf7=new_york7.assign(estado='NY')"
   ]
  },
  {
   "cell_type": "code",
   "execution_count": 29,
   "metadata": {},
   "outputs": [],
   "source": [
    "# leer archivo\n",
    "new_york8=pd.read_json('../Proyecto Final/PG 03 Google & Yeld/Google Maps/reviews-estados/review-new_york/8.json',lines=True)\n",
    "# borramos columnas que no usaremos\n",
    "new_york8.drop(columns=['pics', 'resp'],inplace=True)\n",
    "# Damos formato a la columna 'time'\n",
    "new_york8['time']=pd.to_datetime(new_york8['time'], unit='ms')\n",
    "# adicionamos una columna con el nombre del estado\n",
    "new_yorkdf8=new_york8.assign(estado='NY')"
   ]
  },
  {
   "cell_type": "code",
   "execution_count": 30,
   "metadata": {},
   "outputs": [],
   "source": [
    "# leer archivo\n",
    "new_york9=pd.read_json('../Proyecto Final/PG 03 Google & Yeld/Google Maps/reviews-estados/review-new_york/9.json',lines=True)\n",
    "# borramos columnas que no usaremos\n",
    "new_york9.drop(columns=['pics', 'resp'],inplace=True)\n",
    "# Damos formato a la columna 'time'\n",
    "new_york9['time']=pd.to_datetime(new_york9['time'], unit='ms')\n",
    "# adicionamos una columna con el nombre del estado\n",
    "new_yorkdf9=new_york9.assign(estado='NY')"
   ]
  },
  {
   "cell_type": "code",
   "execution_count": 31,
   "metadata": {},
   "outputs": [],
   "source": [
    "# leer archivo\n",
    "new_york10=pd.read_json('../Proyecto Final/PG 03 Google & Yeld/Google Maps/reviews-estados/review-new_york/10.json',lines=True)\n",
    "# borramos columnas que no usaremos\n",
    "new_york10.drop(columns=['pics', 'resp'],inplace=True)\n",
    "# Damos formato a la columna 'time'\n",
    "new_york10['time']=pd.to_datetime(new_york10['time'], unit='ms')\n",
    "# adicionamos una columna con el nombre del estado\n",
    "new_yorkdf10=new_york10.assign(estado='NY')"
   ]
  },
  {
   "cell_type": "code",
   "execution_count": 32,
   "metadata": {},
   "outputs": [],
   "source": [
    "# leer archivo\n",
    "new_york11=pd.read_json('../Proyecto Final/PG 03 Google & Yeld/Google Maps/reviews-estados/review-new_york/11.json',lines=True)\n",
    "# borramos columnas que no usaremos\n",
    "new_york11.drop(columns=['pics', 'resp'],inplace=True)\n",
    "# Damos formato a la columna 'time'\n",
    "new_york11['time']=pd.to_datetime(new_york11['time'], unit='ms')\n",
    "# adicionamos una columna con el nombre del estado\n",
    "new_yorkdf11=new_york11.assign(estado='NY')"
   ]
  },
  {
   "cell_type": "code",
   "execution_count": 33,
   "metadata": {},
   "outputs": [],
   "source": [
    "# leer archivo\n",
    "new_york12=pd.read_json('../Proyecto Final/PG 03 Google & Yeld/Google Maps/reviews-estados/review-new_york/12.json',lines=True)\n",
    "# borramos columnas que no usaremos\n",
    "new_york12.drop(columns=['pics', 'resp'],inplace=True)\n",
    "# Damos formato a la columna 'time'\n",
    "new_york12['time']=pd.to_datetime(new_york12['time'], unit='ms')\n",
    "# adicionamos una columna con el nombre del estado\n",
    "new_yorkdf12=new_york12.assign(estado='NY')"
   ]
  },
  {
   "cell_type": "code",
   "execution_count": 34,
   "metadata": {},
   "outputs": [],
   "source": [
    "# leer archivo\n",
    "new_york13=pd.read_json('../Proyecto Final/PG 03 Google & Yeld/Google Maps/reviews-estados/review-new_york/13.json',lines=True)\n",
    "# borramos columnas que no usaremos\n",
    "new_york13.drop(columns=['pics', 'resp'],inplace=True)\n",
    "# Damos formato a la columna 'time'\n",
    "new_york13['time']=pd.to_datetime(new_york13['time'], unit='ms')\n",
    "# adicionamos una columna con el nombre del estado\n",
    "new_yorkdf13=new_york13.assign(estado='NY')"
   ]
  },
  {
   "cell_type": "code",
   "execution_count": 35,
   "metadata": {},
   "outputs": [],
   "source": [
    "# leer archivo\n",
    "new_york14=pd.read_json('../Proyecto Final/PG 03 Google & Yeld/Google Maps/reviews-estados/review-new_york/14.json',lines=True)\n",
    "# borramos columnas que no usaremos\n",
    "new_york14.drop(columns=['pics', 'resp'],inplace=True)\n",
    "# Damos formato a la columna 'time'\n",
    "new_york14['time']=pd.to_datetime(new_york14['time'], unit='ms')\n",
    "# adicionamos una columna con el nombre del estado\n",
    "new_yorkdf14=new_york14.assign(estado='NY')"
   ]
  },
  {
   "cell_type": "code",
   "execution_count": 36,
   "metadata": {},
   "outputs": [],
   "source": [
    "# leer archivo\n",
    "new_york15=pd.read_json('../Proyecto Final/PG 03 Google & Yeld/Google Maps/reviews-estados/review-new_york/15.json',lines=True)\n",
    "# borramos columnas que no usaremos\n",
    "new_york15.drop(columns=['pics', 'resp'],inplace=True)\n",
    "# Damos formato a la columna 'time'\n",
    "new_york15['time']=pd.to_datetime(new_york15['time'], unit='ms')\n",
    "# adicionamos una columna con el nombre del estado\n",
    "new_yorkdf15=new_york15.assign(estado='NY')"
   ]
  },
  {
   "cell_type": "code",
   "execution_count": 37,
   "metadata": {},
   "outputs": [],
   "source": [
    "# leer archivo\n",
    "new_york16=pd.read_json('../Proyecto Final/PG 03 Google & Yeld/Google Maps/reviews-estados/review-new_york/16.json',lines=True)\n",
    "# borramos columnas que no usaremos\n",
    "new_york16.drop(columns=['pics', 'resp'],inplace=True)\n",
    "# Damos formato a la columna 'time'\n",
    "new_york16['time']=pd.to_datetime(new_york16['time'], unit='ms')\n",
    "# adicionamos una columna con el nombre del estado\n",
    "new_yorkdf16=new_york16.assign(estado='NY')"
   ]
  },
  {
   "cell_type": "code",
   "execution_count": 38,
   "metadata": {},
   "outputs": [],
   "source": [
    "# leer archivo\n",
    "new_york17=pd.read_json('../Proyecto Final/PG 03 Google & Yeld/Google Maps/reviews-estados/review-new_york/17.json',lines=True)\n",
    "# borramos columnas que no usaremos\n",
    "new_york17.drop(columns=['pics', 'resp'],inplace=True)\n",
    "# Damos formato a la columna 'time'\n",
    "new_york17['time']=pd.to_datetime(new_york17['time'], unit='ms')\n",
    "# adicionamos una columna con el nombre del estado\n",
    "new_yorkdf17=new_york17.assign(estado='NY')"
   ]
  },
  {
   "cell_type": "code",
   "execution_count": 39,
   "metadata": {},
   "outputs": [],
   "source": [
    "# leer archivo\n",
    "new_york18=pd.read_json('../Proyecto Final/PG 03 Google & Yeld/Google Maps/reviews-estados/review-new_york/1.json',lines=True)\n",
    "# borramos columnas que no usaremos\n",
    "new_york18.drop(columns=['pics', 'resp'],inplace=True)\n",
    "# Damos formato a la columna 'time'\n",
    "new_york18['time']=pd.to_datetime(new_york18['time'], unit='ms')\n",
    "# adicionamos una columna con el nombre del estado\n",
    "new_yorkdf18=new_york18.assign(estado='NY')"
   ]
  },
  {
   "cell_type": "code",
   "execution_count": 40,
   "metadata": {},
   "outputs": [],
   "source": [
    "# Contatenamos los archivos del estado\n",
    "new_yorkdf=pd.concat([new_yorkdf1,new_yorkdf2,new_yorkdf3,new_yorkdf4,new_yorkdf5,new_yorkdf6,new_yorkdf7,new_yorkdf8,new_yorkdf9,new_yorkdf10,new_yorkdf11,new_yorkdf12,new_yorkdf13,new_yorkdf14,new_yorkdf15,new_yorkdf16,new_yorkdf17,new_yorkdf18], keys=['user_id','name','time','rating','text','gmap_id','estado']    \n",
    ")\n",
    "\n",
    "# levanto el archivo \n",
    "new_yorkdf.to_parquet('new_yorkdf.parquet')"
   ]
  },
  {
   "cell_type": "markdown",
   "metadata": {},
   "source": [
    "**Florida**"
   ]
  },
  {
   "cell_type": "code",
   "execution_count": 41,
   "metadata": {},
   "outputs": [],
   "source": [
    "# leer archivo\n",
    "florida1=pd.read_json('../Proyecto Final/PG 03 Google & Yeld/Google Maps/reviews-estados/review-florida/1.json',lines=True)\n",
    "# borramos columnas que no usaremos\n",
    "florida1.drop(columns=['pics', 'resp'],inplace=True)\n",
    "# Damos formato a la columna 'time'\n",
    "florida1['time']=pd.to_datetime(florida1['time'], unit='ms')\n",
    "# adicionamos una columna con el nombre del estado\n",
    "floridadf1=florida1.assign(estado='FL')"
   ]
  },
  {
   "cell_type": "code",
   "execution_count": 42,
   "metadata": {},
   "outputs": [],
   "source": [
    "# leer archivo\n",
    "florida2=pd.read_json('../Proyecto Final/PG 03 Google & Yeld/Google Maps/reviews-estados/review-florida/2.json',lines=True)\n",
    "# borramos columnas que no usaremos\n",
    "florida2.drop(columns=['pics', 'resp'],inplace=True)\n",
    "# Damos formato a la columna 'time'\n",
    "florida2['time']=pd.to_datetime(florida2['time'], unit='ms')\n",
    "# adicionamos una columna con el nombre del estado\n",
    "floridadf2=florida2.assign(estado='FL')"
   ]
  },
  {
   "cell_type": "code",
   "execution_count": 43,
   "metadata": {},
   "outputs": [],
   "source": [
    "# leer archivo\n",
    "florida3=pd.read_json('../Proyecto Final/PG 03 Google & Yeld/Google Maps/reviews-estados/review-florida/3.json',lines=True)\n",
    "# borramos columnas que no usaremos\n",
    "florida3.drop(columns=['pics', 'resp'],inplace=True)\n",
    "# Damos formato a la columna 'time'\n",
    "florida3['time']=pd.to_datetime(florida3['time'], unit='ms')\n",
    "# adicionamos una columna con el nombre del estado\n",
    "floridadf3=florida3.assign(estado='FL')"
   ]
  },
  {
   "cell_type": "code",
   "execution_count": 44,
   "metadata": {},
   "outputs": [],
   "source": [
    "# leer archivo\n",
    "florida4=pd.read_json('../Proyecto Final/PG 03 Google & Yeld/Google Maps/reviews-estados/review-florida/4.json',lines=True)\n",
    "# borramos columnas que no usaremos\n",
    "florida4.drop(columns=['pics', 'resp'],inplace=True)\n",
    "# Damos formato a la columna 'time'\n",
    "florida4['time']=pd.to_datetime(florida4['time'], unit='ms')\n",
    "# adicionamos una columna con el nombre del estado\n",
    "floridadf4=florida4.assign(estado='FL')"
   ]
  },
  {
   "cell_type": "code",
   "execution_count": 45,
   "metadata": {},
   "outputs": [],
   "source": [
    "# leer archivo\n",
    "florida5=pd.read_json('../Proyecto Final/PG 03 Google & Yeld/Google Maps/reviews-estados/review-florida/5.json',lines=True)\n",
    "# borramos columnas que no usaremos\n",
    "florida5.drop(columns=['pics', 'resp'],inplace=True)\n",
    "# Damos formato a la columna 'time'\n",
    "florida5['time']=pd.to_datetime(florida5['time'], unit='ms')\n",
    "# adicionamos una columna con el nombre del estado\n",
    "floridadf5=florida5.assign(estado='FL')"
   ]
  },
  {
   "cell_type": "code",
   "execution_count": 46,
   "metadata": {},
   "outputs": [],
   "source": [
    "# leer archivo\n",
    "florida6=pd.read_json('../Proyecto Final/PG 03 Google & Yeld/Google Maps/reviews-estados/review-florida/6.json',lines=True)\n",
    "# borramos columnas que no usaremos\n",
    "florida6.drop(columns=['pics', 'resp'],inplace=True)\n",
    "# Damos formato a la columna 'time'\n",
    "florida6['time']=pd.to_datetime(florida6['time'], unit='ms')\n",
    "# adicionamos una columna con el nombre del estado\n",
    "floridadf6=florida6.assign(estado='FL')"
   ]
  },
  {
   "cell_type": "code",
   "execution_count": 47,
   "metadata": {},
   "outputs": [],
   "source": [
    "# leer archivo\n",
    "florida7=pd.read_json('../Proyecto Final/PG 03 Google & Yeld/Google Maps/reviews-estados/review-florida/7.json',lines=True)\n",
    "# borramos columnas que no usaremos\n",
    "florida7.drop(columns=['pics', 'resp'],inplace=True)\n",
    "# Damos formato a la columna 'time'\n",
    "florida7['time']=pd.to_datetime(florida7['time'], unit='ms')\n",
    "# adicionamos una columna con el nombre del estado\n",
    "floridadf7=florida7.assign(estado='FL')"
   ]
  },
  {
   "cell_type": "code",
   "execution_count": 48,
   "metadata": {},
   "outputs": [],
   "source": [
    "# leer archivo\n",
    "florida8=pd.read_json('../Proyecto Final/PG 03 Google & Yeld/Google Maps/reviews-estados/review-florida/8.json',lines=True)\n",
    "# borramos columnas que no usaremos\n",
    "florida8.drop(columns=['pics', 'resp'],inplace=True)\n",
    "# Damos formato a la columna 'time'\n",
    "florida8['time']=pd.to_datetime(florida8['time'], unit='ms')\n",
    "# adicionamos una columna con el nombre del estado\n",
    "floridadf8=florida8.assign(estado='FL')"
   ]
  },
  {
   "cell_type": "code",
   "execution_count": 49,
   "metadata": {},
   "outputs": [],
   "source": [
    "# leer archivo\n",
    "florida9=pd.read_json('../Proyecto Final/PG 03 Google & Yeld/Google Maps/reviews-estados/review-florida/9.json',lines=True)\n",
    "# borramos columnas que no usaremos\n",
    "florida9.drop(columns=['pics', 'resp'],inplace=True)\n",
    "# Damos formato a la columna 'time'\n",
    "florida9['time']=pd.to_datetime(florida9['time'], unit='ms')\n",
    "# adicionamos una columna con el nombre del estado\n",
    "floridadf9=florida9.assign(estado='FL')"
   ]
  },
  {
   "cell_type": "code",
   "execution_count": 50,
   "metadata": {},
   "outputs": [],
   "source": [
    "# leer archivo\n",
    "florida10=pd.read_json('../Proyecto Final/PG 03 Google & Yeld/Google Maps/reviews-estados/review-florida/10.json',lines=True)\n",
    "# borramos columnas que no usaremos\n",
    "florida10.drop(columns=['pics', 'resp'],inplace=True)\n",
    "# Damos formato a la columna 'time'\n",
    "florida10['time']=pd.to_datetime(florida10['time'], unit='ms')\n",
    "# adicionamos una columna con el nombre del estado\n",
    "floridadf10=florida10.assign(estado='FL')"
   ]
  },
  {
   "cell_type": "code",
   "execution_count": 51,
   "metadata": {},
   "outputs": [],
   "source": [
    "# leer archivo\n",
    "florida11=pd.read_json('../Proyecto Final/PG 03 Google & Yeld/Google Maps/reviews-estados/review-florida/11.json',lines=True)\n",
    "# borramos columnas que no usaremos\n",
    "florida11.drop(columns=['pics', 'resp'],inplace=True)\n",
    "# Damos formato a la columna 'time'\n",
    "florida11['time']=pd.to_datetime(florida11['time'], unit='ms')\n",
    "# adicionamos una columna con el nombre del estado\n",
    "floridadf11=florida11.assign(estado='FL')"
   ]
  },
  {
   "cell_type": "code",
   "execution_count": 52,
   "metadata": {},
   "outputs": [],
   "source": [
    "# leer archivo\n",
    "florida12=pd.read_json('../Proyecto Final/PG 03 Google & Yeld/Google Maps/reviews-estados/review-florida/12.json',lines=True)\n",
    "# borramos columnas que no usaremos\n",
    "florida12.drop(columns=['pics', 'resp'],inplace=True)\n",
    "# Damos formato a la columna 'time'\n",
    "florida12['time']=pd.to_datetime(florida12['time'], unit='ms')\n",
    "# adicionamos una columna con el nombre del estado\n",
    "floridadf12=florida12.assign(estado='FL')"
   ]
  },
  {
   "cell_type": "code",
   "execution_count": 53,
   "metadata": {},
   "outputs": [],
   "source": [
    "# leer archivo\n",
    "florida13=pd.read_json('../Proyecto Final/PG 03 Google & Yeld/Google Maps/reviews-estados/review-florida/13.json',lines=True)\n",
    "# borramos columnas que no usaremos\n",
    "florida13.drop(columns=['pics', 'resp'],inplace=True)\n",
    "# Damos formato a la columna 'time'\n",
    "florida13['time']=pd.to_datetime(florida13['time'], unit='ms')\n",
    "# adicionamos una columna con el nombre del estado\n",
    "floridadf13=florida13.assign(estado='FL')"
   ]
  },
  {
   "cell_type": "code",
   "execution_count": 54,
   "metadata": {},
   "outputs": [],
   "source": [
    "# leer archivo\n",
    "florida14=pd.read_json('../Proyecto Final/PG 03 Google & Yeld/Google Maps/reviews-estados/review-florida/14.json',lines=True)\n",
    "# borramos columnas que no usaremos\n",
    "florida14.drop(columns=['pics', 'resp'],inplace=True)\n",
    "# Damos formato a la columna 'time'\n",
    "florida14['time']=pd.to_datetime(florida14['time'], unit='ms')\n",
    "# adicionamos una columna con el nombre del estado\n",
    "floridadf14=florida14.assign(estado='FL')"
   ]
  },
  {
   "cell_type": "code",
   "execution_count": 55,
   "metadata": {},
   "outputs": [],
   "source": [
    "# leer archivo\n",
    "florida15=pd.read_json('../Proyecto Final/PG 03 Google & Yeld/Google Maps/reviews-estados/review-florida/15.json',lines=True)\n",
    "# borramos columnas que no usaremos\n",
    "florida15.drop(columns=['pics', 'resp'],inplace=True)\n",
    "# Damos formato a la columna 'time'\n",
    "florida15['time']=pd.to_datetime(florida15['time'], unit='ms')\n",
    "# adicionamos una columna con el nombre del estado\n",
    "floridadf15=florida15.assign(estado='FL')"
   ]
  },
  {
   "cell_type": "code",
   "execution_count": 56,
   "metadata": {},
   "outputs": [],
   "source": [
    "# leer archivo\n",
    "florida16=pd.read_json('../Proyecto Final/PG 03 Google & Yeld/Google Maps/reviews-estados/review-florida/16.json',lines=True)\n",
    "# borramos columnas que no usaremos\n",
    "florida16.drop(columns=['pics', 'resp'],inplace=True)\n",
    "# Damos formato a la columna 'time'\n",
    "florida16['time']=pd.to_datetime(florida16['time'], unit='ms')\n",
    "# adicionamos una columna con el nombre del estado\n",
    "floridadf16=florida16.assign(estado='FL')"
   ]
  },
  {
   "cell_type": "code",
   "execution_count": 57,
   "metadata": {},
   "outputs": [],
   "source": [
    "# leer archivo\n",
    "florida17=pd.read_json('../Proyecto Final/PG 03 Google & Yeld/Google Maps/reviews-estados/review-florida/17.json',lines=True)\n",
    "# borramos columnas que no usaremos\n",
    "florida17.drop(columns=['pics', 'resp'],inplace=True)\n",
    "# Damos formato a la columna 'time'\n",
    "florida17['time']=pd.to_datetime(florida17['time'], unit='ms')\n",
    "# adicionamos una columna con el nombre del estado\n",
    "floridadf17=florida17.assign(estado='FL')"
   ]
  },
  {
   "cell_type": "code",
   "execution_count": 58,
   "metadata": {},
   "outputs": [],
   "source": [
    "# leer archivo\n",
    "florida18=pd.read_json('../Proyecto Final/PG 03 Google & Yeld/Google Maps/reviews-estados/review-florida/18.json',lines=True)\n",
    "# borramos columnas que no usaremos\n",
    "florida18.drop(columns=['pics', 'resp'],inplace=True)\n",
    "# Damos formato a la columna 'time'\n",
    "florida18['time']=pd.to_datetime(florida18['time'], unit='ms')\n",
    "# adicionamos una columna con el nombre del estado\n",
    "floridadf18=florida18.assign(estado='FL')"
   ]
  },
  {
   "cell_type": "code",
   "execution_count": 59,
   "metadata": {},
   "outputs": [],
   "source": [
    "# leer archivo\n",
    "florida19=pd.read_json('../Proyecto Final/PG 03 Google & Yeld/Google Maps/reviews-estados/review-florida/19.json',lines=True)\n",
    "# borramos columnas que no usaremos\n",
    "florida19.drop(columns=['pics', 'resp'],inplace=True)\n",
    "# Damos formato a la columna 'time'\n",
    "florida19['time']=pd.to_datetime(florida19['time'], unit='ms')\n",
    "# adicionamos una columna con el nombre del estado\n",
    "floridadf19=florida19.assign(estado='FL')"
   ]
  },
  {
   "cell_type": "code",
   "execution_count": 60,
   "metadata": {},
   "outputs": [],
   "source": [
    "# Contatenamos los archivos del estado\n",
    "floridadf=pd.concat([floridadf1,floridadf2,floridadf3,floridadf4,floridadf5,floridadf6,floridadf7,floridadf8,floridadf9,floridadf10,floridadf11,floridadf12,floridadf13,floridadf14,floridadf15,floridadf16,floridadf17,floridadf18,floridadf19], keys=['user_id','name','time','rating','text','gmap_id','estado']    \n",
    ")\n",
    "\n",
    "# levanto el archivo \n",
    "floridadf.to_parquet('floridadf.parquet')"
   ]
  },
  {
   "cell_type": "markdown",
   "metadata": {},
   "source": [
    "**Nevada**"
   ]
  },
  {
   "cell_type": "code",
   "execution_count": 61,
   "metadata": {},
   "outputs": [],
   "source": [
    "# leer archivo\n",
    "nevada1=pd.read_json('../Proyecto Final/PG 03 Google & Yeld/Google Maps/reviews-estados/review-nevada/1.json',lines=True)\n",
    "# borramos columnas que no usaremos\n",
    "nevada1.drop(columns=['pics', 'resp'],inplace=True)\n",
    "# Damos formato a la columna 'time'\n",
    "nevada1['time']=pd.to_datetime(nevada1['time'], unit='ms')\n",
    "# adicionamos una columna con el nombre del estado\n",
    "nevadadf1=nevada1.assign(estado='NV')"
   ]
  },
  {
   "cell_type": "code",
   "execution_count": 62,
   "metadata": {},
   "outputs": [],
   "source": [
    "# leer archivo\n",
    "nevada2=pd.read_json('../Proyecto Final/PG 03 Google & Yeld/Google Maps/reviews-estados/review-nevada/2.json',lines=True)\n",
    "# borramos columnas que no usaremos\n",
    "nevada2.drop(columns=['pics', 'resp'],inplace=True)\n",
    "# Damos formato a la columna 'time'\n",
    "nevada2['time']=pd.to_datetime(nevada2['time'], unit='ms')\n",
    "# adicionamos una columna con el nombre del estado\n",
    "nevadadf2=nevada2.assign(estado='NV')"
   ]
  },
  {
   "cell_type": "code",
   "execution_count": 63,
   "metadata": {},
   "outputs": [],
   "source": [
    "# leer archivo\n",
    "nevada3=pd.read_json('../Proyecto Final/PG 03 Google & Yeld/Google Maps/reviews-estados/review-nevada/3.json',lines=True)\n",
    "# borramos columnas que no usaremos\n",
    "nevada3.drop(columns=['pics', 'resp'],inplace=True)\n",
    "# Damos formato a la columna 'time'\n",
    "nevada3['time']=pd.to_datetime(nevada3['time'], unit='ms')\n",
    "# adicionamos una columna con el nombre del estado\n",
    "nevadadf3=nevada3.assign(estado='NV')"
   ]
  },
  {
   "cell_type": "code",
   "execution_count": 64,
   "metadata": {},
   "outputs": [],
   "source": [
    "# leer archivo\n",
    "nevada4=pd.read_json('../Proyecto Final/PG 03 Google & Yeld/Google Maps/reviews-estados/review-nevada/4.json',lines=True)\n",
    "# borramos columnas que no usaremos\n",
    "nevada4.drop(columns=['pics', 'resp'],inplace=True)\n",
    "# Damos formato a la columna 'time'\n",
    "nevada4['time']=pd.to_datetime(nevada4['time'], unit='ms')\n",
    "# adicionamos una columna con el nombre del estado\n",
    "nevadadf4=nevada4.assign(estado='NV')"
   ]
  },
  {
   "cell_type": "code",
   "execution_count": 65,
   "metadata": {},
   "outputs": [],
   "source": [
    "# leer archivo\n",
    "nevada5=pd.read_json('../Proyecto Final/PG 03 Google & Yeld/Google Maps/reviews-estados/review-nevada/5.json',lines=True)\n",
    "# borramos columnas que no usaremos\n",
    "nevada5.drop(columns=['pics', 'resp'],inplace=True)\n",
    "# Damos formato a la columna 'time'\n",
    "nevada5['time']=pd.to_datetime(nevada5['time'], unit='ms')\n",
    "# adicionamos una columna con el nombre del estado\n",
    "nevadadf5=nevada5.assign(estado='NV')"
   ]
  },
  {
   "cell_type": "code",
   "execution_count": 66,
   "metadata": {},
   "outputs": [],
   "source": [
    "# leer archivo\n",
    "nevada6=pd.read_json('../Proyecto Final/PG 03 Google & Yeld/Google Maps/reviews-estados/review-nevada/6.json',lines=True)\n",
    "# borramos columnas que no usaremos\n",
    "nevada6.drop(columns=['pics', 'resp'],inplace=True)\n",
    "# Damos formato a la columna 'time'\n",
    "nevada6['time']=pd.to_datetime(nevada6['time'], unit='ms')\n",
    "# adicionamos una columna con el nombre del estado\n",
    "nevadadf6=nevada6.assign(estado='NV')"
   ]
  },
  {
   "cell_type": "code",
   "execution_count": 67,
   "metadata": {},
   "outputs": [],
   "source": [
    "# leer archivo\n",
    "nevada7=pd.read_json('../Proyecto Final/PG 03 Google & Yeld/Google Maps/reviews-estados/review-nevada/7.json',lines=True)\n",
    "# borramos columnas que no usaremos\n",
    "nevada7.drop(columns=['pics', 'resp'],inplace=True)\n",
    "# Damos formato a la columna 'time'\n",
    "nevada7['time']=pd.to_datetime(nevada7['time'], unit='ms')\n",
    "# adicionamos una columna con el nombre del estado\n",
    "nevadadf7=nevada7.assign(estado='NV')"
   ]
  },
  {
   "cell_type": "code",
   "execution_count": 68,
   "metadata": {},
   "outputs": [],
   "source": [
    "# leer archivo\n",
    "nevada8=pd.read_json('../Proyecto Final/PG 03 Google & Yeld/Google Maps/reviews-estados/review-nevada/8.json',lines=True)\n",
    "# borramos columnas que no usaremos\n",
    "nevada8.drop(columns=['pics', 'resp'],inplace=True)\n",
    "# Damos formato a la columna 'time'\n",
    "nevada8['time']=pd.to_datetime(nevada8['time'], unit='ms')\n",
    "# adicionamos una columna con el nombre del estado\n",
    "nevadadf8=nevada8.assign(estado='NV')"
   ]
  },
  {
   "cell_type": "code",
   "execution_count": 69,
   "metadata": {},
   "outputs": [],
   "source": [
    "# leer archivo\n",
    "nevada9=pd.read_json('../Proyecto Final/PG 03 Google & Yeld/Google Maps/reviews-estados/review-nevada/9.json',lines=True)\n",
    "# borramos columnas que no usaremos\n",
    "nevada9.drop(columns=['pics', 'resp'],inplace=True)\n",
    "# Damos formato a la columna 'time'\n",
    "nevada9['time']=pd.to_datetime(nevada9['time'], unit='ms')\n",
    "# adicionamos una columna con el nombre del estado\n",
    "nevadadf9=nevada9.assign(estado='NV')"
   ]
  },
  {
   "cell_type": "code",
   "execution_count": 70,
   "metadata": {},
   "outputs": [],
   "source": [
    "# leer archivo\n",
    "nevada10=pd.read_json('../Proyecto Final/PG 03 Google & Yeld/Google Maps/reviews-estados/review-nevada/10.json',lines=True)\n",
    "# borramos columnas que no usaremos\n",
    "nevada10.drop(columns=['pics', 'resp'],inplace=True)\n",
    "# Damos formato a la columna 'time'\n",
    "nevada10['time']=pd.to_datetime(nevada10['time'], unit='ms')\n",
    "# adicionamos una columna con el nombre del estado\n",
    "nevadadf10=nevada10.assign(estado='NV')"
   ]
  },
  {
   "cell_type": "code",
   "execution_count": 71,
   "metadata": {},
   "outputs": [],
   "source": [
    "# leer archivo\n",
    "nevada11=pd.read_json('../Proyecto Final/PG 03 Google & Yeld/Google Maps/reviews-estados/review-nevada/11.json',lines=True)\n",
    "# borramos columnas que no usaremos\n",
    "nevada11.drop(columns=['pics', 'resp'],inplace=True)\n",
    "# Damos formato a la columna 'time'\n",
    "nevada11['time']=pd.to_datetime(nevada11['time'], unit='ms')\n",
    "# adicionamos una columna con el nombre del estado\n",
    "nevadadf11=nevada11.assign(estado='NV')"
   ]
  },
  {
   "cell_type": "code",
   "execution_count": 72,
   "metadata": {},
   "outputs": [],
   "source": [
    "# leer archivo\n",
    "nevada12=pd.read_json('../Proyecto Final/PG 03 Google & Yeld/Google Maps/reviews-estados/review-nevada/12.json',lines=True)\n",
    "# borramos columnas que no usaremos\n",
    "nevada12.drop(columns=['pics', 'resp'],inplace=True)\n",
    "# Damos formato a la columna 'time'\n",
    "nevada12['time']=pd.to_datetime(nevada12['time'], unit='ms')\n",
    "# adicionamos una columna con el nombre del estado\n",
    "nevadadf12=nevada12.assign(estado='NV')"
   ]
  },
  {
   "cell_type": "code",
   "execution_count": 73,
   "metadata": {},
   "outputs": [],
   "source": [
    "# Contatenamos los archivos del estado\n",
    "nevadadf=pd.concat([nevadadf1,nevadadf2,nevadadf3,nevadadf4,nevadadf5,nevadadf6,nevadadf7,nevadadf8,nevadadf9,nevadadf10,nevadadf11,nevadadf12], keys=['user_id','name','time','rating','text','gmap_id','estado']    \n",
    ")\n",
    "\n",
    "# levanto el archivo \n",
    "nevadadf.to_parquet('nevadadf.parquet')"
   ]
  },
  {
   "cell_type": "markdown",
   "metadata": {},
   "source": [
    "**Illinois**"
   ]
  },
  {
   "cell_type": "code",
   "execution_count": 74,
   "metadata": {},
   "outputs": [],
   "source": [
    "# leer archivo\n",
    "illinois1=pd.read_json('../Proyecto Final/PG 03 Google & Yeld/Google Maps/reviews-estados/review-illinois/1.json',lines=True)\n",
    "# borramos columnas que no usaremos\n",
    "illinois1.drop(columns=['pics', 'resp'],inplace=True)\n",
    "# Damos formato a la columna 'time'\n",
    "illinois1['time']=pd.to_datetime(illinois1['time'], unit='ms')\n",
    "# adicionamos una columna con el nombre del estado\n",
    "illinoisdf1=illinois1.assign(estado='IL')"
   ]
  },
  {
   "cell_type": "code",
   "execution_count": 75,
   "metadata": {},
   "outputs": [],
   "source": [
    "# leer archivo\n",
    "illinois2=pd.read_json('../Proyecto Final/PG 03 Google & Yeld/Google Maps/reviews-estados/review-illinois/2.json',lines=True)\n",
    "# borramos columnas que no usaremos\n",
    "illinois2.drop(columns=['pics', 'resp'],inplace=True)\n",
    "# Damos formato a la columna 'time'\n",
    "illinois2['time']=pd.to_datetime(illinois2['time'], unit='ms')\n",
    "# adicionamos una columna con el nombre del estado\n",
    "illinoisdf2=illinois2.assign(estado='IL')"
   ]
  },
  {
   "cell_type": "code",
   "execution_count": 76,
   "metadata": {},
   "outputs": [],
   "source": [
    "# leer archivo\n",
    "illinois3=pd.read_json('../Proyecto Final/PG 03 Google & Yeld/Google Maps/reviews-estados/review-illinois/3.json',lines=True)\n",
    "# borramos columnas que no usaremos\n",
    "illinois3.drop(columns=['pics', 'resp'],inplace=True)\n",
    "# Damos formato a la columna 'time'\n",
    "illinois3['time']=pd.to_datetime(illinois3['time'], unit='ms')\n",
    "# adicionamos una columna con el nombre del estado\n",
    "illinoisdf3=illinois3.assign(estado='IL')"
   ]
  },
  {
   "cell_type": "code",
   "execution_count": 77,
   "metadata": {},
   "outputs": [],
   "source": [
    "# leer archivo\n",
    "illinois4=pd.read_json('../Proyecto Final/PG 03 Google & Yeld/Google Maps/reviews-estados/review-illinois/4.json',lines=True)\n",
    "# borramos columnas que no usaremos\n",
    "illinois4.drop(columns=['pics', 'resp'],inplace=True)\n",
    "# Damos formato a la columna 'time'\n",
    "illinois4['time']=pd.to_datetime(illinois4['time'], unit='ms')\n",
    "# adicionamos una columna con el nombre del estado\n",
    "illinoisdf4=illinois4.assign(estado='IL')"
   ]
  },
  {
   "cell_type": "code",
   "execution_count": 78,
   "metadata": {},
   "outputs": [],
   "source": [
    "# leer archivo\n",
    "illinois5=pd.read_json('../Proyecto Final/PG 03 Google & Yeld/Google Maps/reviews-estados/review-illinois/5.json',lines=True)\n",
    "# borramos columnas que no usaremos\n",
    "illinois5.drop(columns=['pics', 'resp'],inplace=True)\n",
    "# Damos formato a la columna 'time'\n",
    "illinois5['time']=pd.to_datetime(illinois5['time'], unit='ms')\n",
    "# adicionamos una columna con el nombre del estado\n",
    "illinoisdf5=illinois5.assign(estado='IL')"
   ]
  },
  {
   "cell_type": "code",
   "execution_count": 79,
   "metadata": {},
   "outputs": [],
   "source": [
    "# leer archivo\n",
    "illinois6=pd.read_json('../Proyecto Final/PG 03 Google & Yeld/Google Maps/reviews-estados/review-illinois/6.json',lines=True)\n",
    "# borramos columnas que no usaremos\n",
    "illinois6.drop(columns=['pics', 'resp'],inplace=True)\n",
    "# Damos formato a la columna 'time'\n",
    "illinois6['time']=pd.to_datetime(illinois6['time'], unit='ms')\n",
    "# adicionamos una columna con el nombre del estado\n",
    "illinoisdf6=illinois6.assign(estado='IL')"
   ]
  },
  {
   "cell_type": "code",
   "execution_count": 80,
   "metadata": {},
   "outputs": [],
   "source": [
    "# leer archivo\n",
    "illinois7=pd.read_json('../Proyecto Final/PG 03 Google & Yeld/Google Maps/reviews-estados/review-illinois/7.json',lines=True)\n",
    "# borramos columnas que no usaremos\n",
    "illinois7.drop(columns=['pics', 'resp'],inplace=True)\n",
    "# Damos formato a la columna 'time'\n",
    "illinois7['time']=pd.to_datetime(illinois7['time'], unit='ms')\n",
    "# adicionamos una columna con el nombre del estado\n",
    "illinoisdf7=illinois7.assign(estado='IL')"
   ]
  },
  {
   "cell_type": "code",
   "execution_count": 81,
   "metadata": {},
   "outputs": [],
   "source": [
    "# leer archivo\n",
    "illinois8=pd.read_json('../Proyecto Final/PG 03 Google & Yeld/Google Maps/reviews-estados/review-illinois/8.json',lines=True)\n",
    "# borramos columnas que no usaremos\n",
    "illinois8.drop(columns=['pics', 'resp'],inplace=True)\n",
    "# Damos formato a la columna 'time'\n",
    "illinois8['time']=pd.to_datetime(illinois8['time'], unit='ms')\n",
    "# adicionamos una columna con el nombre del estado\n",
    "illinoisdf8=illinois8.assign(estado='IL')"
   ]
  },
  {
   "cell_type": "code",
   "execution_count": 82,
   "metadata": {},
   "outputs": [],
   "source": [
    "# leer archivo\n",
    "illinois9=pd.read_json('../Proyecto Final/PG 03 Google & Yeld/Google Maps/reviews-estados/review-illinois/9.json',lines=True)\n",
    "# borramos columnas que no usaremos\n",
    "illinois9.drop(columns=['pics', 'resp'],inplace=True)\n",
    "# Damos formato a la columna 'time'\n",
    "illinois9['time']=pd.to_datetime(illinois9['time'], unit='ms')\n",
    "# adicionamos una columna con el nombre del estado\n",
    "illinoisdf9=illinois9.assign(estado='IL')"
   ]
  },
  {
   "cell_type": "code",
   "execution_count": 83,
   "metadata": {},
   "outputs": [],
   "source": [
    "# leer archivo\n",
    "illinois10=pd.read_json('../Proyecto Final/PG 03 Google & Yeld/Google Maps/reviews-estados/review-illinois/10.json',lines=True)\n",
    "# borramos columnas que no usaremos\n",
    "illinois10.drop(columns=['pics', 'resp'],inplace=True)\n",
    "# Damos formato a la columna 'time'\n",
    "illinois10['time']=pd.to_datetime(illinois10['time'], unit='ms')\n",
    "# adicionamos una columna con el nombre del estado\n",
    "illinoisdf10=illinois10.assign(estado='IL')"
   ]
  },
  {
   "cell_type": "code",
   "execution_count": 84,
   "metadata": {},
   "outputs": [],
   "source": [
    "# leer archivo\n",
    "illinois11=pd.read_json('../Proyecto Final/PG 03 Google & Yeld/Google Maps/reviews-estados/review-illinois/11.json',lines=True)\n",
    "# borramos columnas que no usaremos\n",
    "illinois11.drop(columns=['pics', 'resp'],inplace=True)\n",
    "# Damos formato a la columna 'time'\n",
    "illinois11['time']=pd.to_datetime(illinois11['time'], unit='ms')\n",
    "# adicionamos una columna con el nombre del estado\n",
    "illinoisdf11=illinois11.assign(estado='IL')"
   ]
  },
  {
   "cell_type": "code",
   "execution_count": 85,
   "metadata": {},
   "outputs": [],
   "source": [
    "# leer archivo\n",
    "illinois12=pd.read_json('../Proyecto Final/PG 03 Google & Yeld/Google Maps/reviews-estados/review-illinois/12.json',lines=True)\n",
    "# borramos columnas que no usaremos\n",
    "illinois12.drop(columns=['pics', 'resp'],inplace=True)\n",
    "# Damos formato a la columna 'time'\n",
    "illinois12['time']=pd.to_datetime(illinois12['time'], unit='ms')\n",
    "# adicionamos una columna con el nombre del estado\n",
    "illinoisdf12=illinois12.assign(estado='IL')"
   ]
  },
  {
   "cell_type": "code",
   "execution_count": 86,
   "metadata": {},
   "outputs": [],
   "source": [
    "# leer archivo\n",
    "illinois13=pd.read_json('../Proyecto Final/PG 03 Google & Yeld/Google Maps/reviews-estados/review-illinois/13.json',lines=True)\n",
    "# borramos columnas que no usaremos\n",
    "illinois13.drop(columns=['pics', 'resp'],inplace=True)\n",
    "# Damos formato a la columna 'time'\n",
    "illinois13['time']=pd.to_datetime(illinois13['time'], unit='ms')\n",
    "# adicionamos una columna con el nombre del estado\n",
    "illinoisdf13=illinois13.assign(estado='IL')"
   ]
  },
  {
   "cell_type": "code",
   "execution_count": 87,
   "metadata": {},
   "outputs": [],
   "source": [
    "# leer archivo\n",
    "illinois14=pd.read_json('../Proyecto Final/PG 03 Google & Yeld/Google Maps/reviews-estados/review-illinois/14.json',lines=True)\n",
    "# borramos columnas que no usaremos\n",
    "illinois14.drop(columns=['pics', 'resp'],inplace=True)\n",
    "# Damos formato a la columna 'time'\n",
    "illinois14['time']=pd.to_datetime(illinois14['time'], unit='ms')\n",
    "# adicionamos una columna con el nombre del estado\n",
    "illinoisdf14=illinois14.assign(estado='IL')"
   ]
  },
  {
   "cell_type": "code",
   "execution_count": 88,
   "metadata": {},
   "outputs": [],
   "source": [
    "# Contatenamos los archivos del estado\n",
    "illinoisdf=pd.concat([illinoisdf1,illinoisdf2,illinoisdf3,illinoisdf4,illinoisdf5,illinoisdf6,illinoisdf7,illinoisdf8,illinoisdf9,illinoisdf10,illinoisdf11,illinoisdf12,illinoisdf13,illinoisdf14], keys=['user_id','name','time','rating','text','gmap_id','estado']    \n",
    ")\n",
    "\n",
    "# levanto el archivo \n",
    "illinoisdf.to_parquet('illinoisdf.parquet')"
   ]
  },
  {
   "cell_type": "code",
   "execution_count": 89,
   "metadata": {},
   "outputs": [
    {
     "name": "stdout",
     "output_type": "stream",
     "text": [
      "<class 'pandas.core.frame.DataFrame'>\n",
      "MultiIndex: 1050000 entries, ('user_id', 0) to ('estado', 149999)\n",
      "Data columns (total 7 columns):\n",
      " #   Column   Non-Null Count    Dtype         \n",
      "---  ------   --------------    -----         \n",
      " 0   user_id  1050000 non-null  float64       \n",
      " 1   name     1050000 non-null  object        \n",
      " 2   time     1050000 non-null  datetime64[ns]\n",
      " 3   rating   1050000 non-null  int64         \n",
      " 4   text     591537 non-null   object        \n",
      " 5   gmap_id  1050000 non-null  object        \n",
      " 6   estado   1050000 non-null  object        \n",
      "dtypes: datetime64[ns](1), float64(1), int64(1), object(4)\n",
      "memory usage: 61.1+ MB\n"
     ]
    }
   ],
   "source": [
    "illinoisdf.info()"
   ]
  }
 ],
 "metadata": {
  "kernelspec": {
   "display_name": "Python 3",
   "language": "python",
   "name": "python3"
  },
  "language_info": {
   "codemirror_mode": {
    "name": "ipython",
    "version": 3
   },
   "file_extension": ".py",
   "mimetype": "text/x-python",
   "name": "python",
   "nbconvert_exporter": "python",
   "pygments_lexer": "ipython3",
   "version": "3.11.4"
  },
  "orig_nbformat": 4
 },
 "nbformat": 4,
 "nbformat_minor": 2
}
