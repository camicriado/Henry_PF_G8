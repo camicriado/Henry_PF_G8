{
 "cells": [
  {
   "cell_type": "markdown",
   "metadata": {},
   "source": [
    "# ETL de los dataset de YElP"
   ]
  },
  {
   "cell_type": "code",
   "execution_count": 2,
   "metadata": {},
   "outputs": [],
   "source": [
    "#inportamos librerias necesarias\n",
    "import pandas as pd"
   ]
  },
  {
   "cell_type": "code",
   "execution_count": 3,
   "metadata": {},
   "outputs": [
    {
     "name": "stdout",
     "output_type": "stream",
     "text": [
      "Collecting pyarrow\n",
      "  Downloading pyarrow-12.0.1-cp311-cp311-win_amd64.whl (21.5 MB)\n",
      "                                              0.0/21.5 MB ? eta -:--:--\n",
      "                                              0.1/21.5 MB 1.1 MB/s eta 0:00:20\n",
      "                                              0.2/21.5 MB 2.3 MB/s eta 0:00:10\n",
      "     -                                        0.6/21.5 MB 4.0 MB/s eta 0:00:06\n",
      "     --                                       1.1/21.5 MB 6.0 MB/s eta 0:00:04\n",
      "     ---                                      1.8/21.5 MB 8.0 MB/s eta 0:00:03\n",
      "     ----                                     2.4/21.5 MB 9.1 MB/s eta 0:00:03\n",
      "     -----                                    3.1/21.5 MB 9.9 MB/s eta 0:00:02\n",
      "     ------                                   3.7/21.5 MB 10.4 MB/s eta 0:00:02\n",
      "     --------                                 4.4/21.5 MB 10.7 MB/s eta 0:00:02\n",
      "     ---------                                5.0/21.5 MB 11.0 MB/s eta 0:00:02\n",
      "     ----------                               5.7/21.5 MB 11.4 MB/s eta 0:00:02\n",
      "     -----------                              6.3/21.5 MB 11.6 MB/s eta 0:00:02\n",
      "     -------------                            7.0/21.5 MB 11.8 MB/s eta 0:00:02\n",
      "     --------------                           7.7/21.5 MB 11.9 MB/s eta 0:00:02\n",
      "     ---------------                          8.3/21.5 MB 12.1 MB/s eta 0:00:02\n",
      "     ----------------                         9.0/21.5 MB 12.2 MB/s eta 0:00:02\n",
      "     -----------------                        9.6/21.5 MB 12.2 MB/s eta 0:00:01\n",
      "     ------------------                      10.2/21.5 MB 12.3 MB/s eta 0:00:01\n",
      "     -------------------                     10.9/21.5 MB 13.9 MB/s eta 0:00:01\n",
      "     ---------------------                   11.7/21.5 MB 14.2 MB/s eta 0:00:01\n",
      "     ----------------------                  12.3/21.5 MB 14.2 MB/s eta 0:00:01\n",
      "     -----------------------                 12.9/21.5 MB 14.2 MB/s eta 0:00:01\n",
      "     ------------------------                13.6/21.5 MB 14.2 MB/s eta 0:00:01\n",
      "     -------------------------               14.2/21.5 MB 14.2 MB/s eta 0:00:01\n",
      "     ---------------------------             14.9/21.5 MB 14.2 MB/s eta 0:00:01\n",
      "     ----------------------------            15.5/21.5 MB 13.9 MB/s eta 0:00:01\n",
      "     -----------------------------           16.1/21.5 MB 13.9 MB/s eta 0:00:01\n",
      "     ------------------------------          16.8/21.5 MB 14.2 MB/s eta 0:00:01\n",
      "     -------------------------------         17.4/21.5 MB 14.2 MB/s eta 0:00:01\n",
      "     --------------------------------        18.0/21.5 MB 14.2 MB/s eta 0:00:01\n",
      "     ----------------------------------      18.7/21.5 MB 14.2 MB/s eta 0:00:01\n",
      "     -----------------------------------     19.4/21.5 MB 14.2 MB/s eta 0:00:01\n",
      "     ------------------------------------    20.1/21.5 MB 14.2 MB/s eta 0:00:01\n",
      "     -------------------------------------   20.8/21.5 MB 14.2 MB/s eta 0:00:01\n",
      "     --------------------------------------  21.5/21.5 MB 14.2 MB/s eta 0:00:01\n",
      "     --------------------------------------  21.5/21.5 MB 14.2 MB/s eta 0:00:01\n",
      "     --------------------------------------  21.5/21.5 MB 14.2 MB/s eta 0:00:01\n",
      "     --------------------------------------- 21.5/21.5 MB 11.9 MB/s eta 0:00:00\n",
      "Requirement already satisfied: numpy>=1.16.6 in c:\\users\\andre\\appdata\\local\\packages\\pythonsoftwarefoundation.python.3.11_qbz5n2kfra8p0\\localcache\\local-packages\\python311\\site-packages (from pyarrow) (1.24.3)\n",
      "Installing collected packages: pyarrow\n",
      "Successfully installed pyarrow-12.0.1\n",
      "Note: you may need to restart the kernel to use updated packages.\n"
     ]
    },
    {
     "name": "stderr",
     "output_type": "stream",
     "text": [
      "\n",
      "[notice] A new release of pip is available: 23.1.2 -> 23.2.1\n",
      "[notice] To update, run: C:\\Users\\andre\\AppData\\Local\\Microsoft\\WindowsApps\\PythonSoftwareFoundation.Python.3.11_qbz5n2kfra8p0\\python.exe -m pip install --upgrade pip\n"
     ]
    }
   ],
   "source": [
    "#instalamos pyarrow para el manejo de archivos parquet\n",
    "#%pip install pyarrow\n"
   ]
  },
  {
   "cell_type": "markdown",
   "metadata": {},
   "source": [
    "## Businees"
   ]
  },
  {
   "cell_type": "code",
   "execution_count": 3,
   "metadata": {},
   "outputs": [],
   "source": [
    "#cargamos dataset de businees\n",
    "business= pd.read_json('Dataset\\yelp_academic_dataset_business.json', lines = True)"
   ]
  },
  {
   "cell_type": "code",
   "execution_count": 4,
   "metadata": {},
   "outputs": [
    {
     "data": {
      "text/html": [
       "<div>\n",
       "<style scoped>\n",
       "    .dataframe tbody tr th:only-of-type {\n",
       "        vertical-align: middle;\n",
       "    }\n",
       "\n",
       "    .dataframe tbody tr th {\n",
       "        vertical-align: top;\n",
       "    }\n",
       "\n",
       "    .dataframe thead th {\n",
       "        text-align: right;\n",
       "    }\n",
       "</style>\n",
       "<table border=\"1\" class=\"dataframe\">\n",
       "  <thead>\n",
       "    <tr style=\"text-align: right;\">\n",
       "      <th></th>\n",
       "      <th>business_id</th>\n",
       "      <th>name</th>\n",
       "      <th>address</th>\n",
       "      <th>city</th>\n",
       "      <th>state</th>\n",
       "      <th>postal_code</th>\n",
       "      <th>latitude</th>\n",
       "      <th>longitude</th>\n",
       "      <th>stars</th>\n",
       "      <th>review_count</th>\n",
       "      <th>is_open</th>\n",
       "      <th>attributes</th>\n",
       "      <th>categories</th>\n",
       "      <th>hours</th>\n",
       "    </tr>\n",
       "  </thead>\n",
       "  <tbody>\n",
       "    <tr>\n",
       "      <th>0</th>\n",
       "      <td>Pns2l4eNsfO8kk83dixA6A</td>\n",
       "      <td>Abby Rappoport, LAC, CMQ</td>\n",
       "      <td>1616 Chapala St, Ste 2</td>\n",
       "      <td>Santa Barbara</td>\n",
       "      <td>CA</td>\n",
       "      <td>93101</td>\n",
       "      <td>34.426679</td>\n",
       "      <td>-119.711197</td>\n",
       "      <td>5.0</td>\n",
       "      <td>7</td>\n",
       "      <td>0</td>\n",
       "      <td>{'ByAppointmentOnly': 'True'}</td>\n",
       "      <td>Doctors, Traditional Chinese Medicine, Naturop...</td>\n",
       "      <td>None</td>\n",
       "    </tr>\n",
       "  </tbody>\n",
       "</table>\n",
       "</div>"
      ],
      "text/plain": [
       "              business_id                      name                 address  \\\n",
       "0  Pns2l4eNsfO8kk83dixA6A  Abby Rappoport, LAC, CMQ  1616 Chapala St, Ste 2   \n",
       "\n",
       "            city state postal_code   latitude   longitude  stars  \\\n",
       "0  Santa Barbara    CA       93101  34.426679 -119.711197    5.0   \n",
       "\n",
       "   review_count  is_open                     attributes  \\\n",
       "0             7        0  {'ByAppointmentOnly': 'True'}   \n",
       "\n",
       "                                          categories hours  \n",
       "0  Doctors, Traditional Chinese Medicine, Naturop...  None  "
      ]
     },
     "execution_count": 4,
     "metadata": {},
     "output_type": "execute_result"
    }
   ],
   "source": [
    "#Verificamos\n",
    "business.head(1)"
   ]
  },
  {
   "cell_type": "code",
   "execution_count": 5,
   "metadata": {},
   "outputs": [
    {
     "data": {
      "text/plain": [
       "(150346, 14)"
      ]
     },
     "execution_count": 5,
     "metadata": {},
     "output_type": "execute_result"
    }
   ],
   "source": [
    "#Comprovamos dimenciones\n",
    "business.shape"
   ]
  },
  {
   "cell_type": "code",
   "execution_count": 6,
   "metadata": {},
   "outputs": [
    {
     "name": "stdout",
     "output_type": "stream",
     "text": [
      "<class 'pandas.core.frame.DataFrame'>\n",
      "RangeIndex: 150346 entries, 0 to 150345\n",
      "Data columns (total 14 columns):\n",
      " #   Column        Non-Null Count   Dtype  \n",
      "---  ------        --------------   -----  \n",
      " 0   business_id   150346 non-null  object \n",
      " 1   name          150346 non-null  object \n",
      " 2   address       150346 non-null  object \n",
      " 3   city          150346 non-null  object \n",
      " 4   state         150346 non-null  object \n",
      " 5   postal_code   150346 non-null  object \n",
      " 6   latitude      150346 non-null  float64\n",
      " 7   longitude     150346 non-null  float64\n",
      " 8   stars         150346 non-null  float64\n",
      " 9   review_count  150346 non-null  int64  \n",
      " 10  is_open       150346 non-null  int64  \n",
      " 11  attributes    136602 non-null  object \n",
      " 12  categories    150243 non-null  object \n",
      " 13  hours         127123 non-null  object \n",
      "dtypes: float64(3), int64(2), object(9)\n",
      "memory usage: 16.1+ MB\n"
     ]
    }
   ],
   "source": [
    "#informaicon basica del DF\n",
    "business.info()"
   ]
  },
  {
   "cell_type": "code",
   "execution_count": 7,
   "metadata": {},
   "outputs": [
    {
     "data": {
      "text/plain": [
       "business_id         0\n",
       "name                0\n",
       "address             0\n",
       "city                0\n",
       "state               0\n",
       "postal_code         0\n",
       "latitude            0\n",
       "longitude           0\n",
       "stars               0\n",
       "review_count        0\n",
       "is_open             0\n",
       "attributes      13744\n",
       "categories        103\n",
       "hours           23223\n",
       "dtype: int64"
      ]
     },
     "execution_count": 7,
     "metadata": {},
     "output_type": "execute_result"
    }
   ],
   "source": [
    "#identifiacion de datos vacios o nulos\n",
    "business.isna().sum()"
   ]
  },
  {
   "cell_type": "markdown",
   "metadata": {},
   "source": [
    "como se mensiono en la prupuesta, los estados que utilizaremos son los siguientes:\n",
    "\n",
    "    California: CA\n",
    "    Nueva York: NY\n",
    "    Florida: FL\n",
    "    Nevada: NV\n",
    "    Illinois: IL\n",
    "asi que filtraremos la data para quedarnos solo con informacion de esos estados."
   ]
  },
  {
   "cell_type": "code",
   "execution_count": 8,
   "metadata": {},
   "outputs": [],
   "source": [
    "#filtraremos el DF, primero cetiamos los estados a utilziar \n",
    "estados_validos = ['CA', 'NY', 'FL', 'NV', 'IL']\n",
    "# Filtrar los registros con las claves de estados válidos\n",
    "business_filtrado = business[business['state'].isin(estados_validos)]"
   ]
  },
  {
   "cell_type": "markdown",
   "metadata": {},
   "source": [
    "verificamos cambios, con una visualziacion de .head() y .shape"
   ]
  },
  {
   "cell_type": "code",
   "execution_count": 9,
   "metadata": {},
   "outputs": [
    {
     "data": {
      "text/html": [
       "<div>\n",
       "<style scoped>\n",
       "    .dataframe tbody tr th:only-of-type {\n",
       "        vertical-align: middle;\n",
       "    }\n",
       "\n",
       "    .dataframe tbody tr th {\n",
       "        vertical-align: top;\n",
       "    }\n",
       "\n",
       "    .dataframe thead th {\n",
       "        text-align: right;\n",
       "    }\n",
       "</style>\n",
       "<table border=\"1\" class=\"dataframe\">\n",
       "  <thead>\n",
       "    <tr style=\"text-align: right;\">\n",
       "      <th></th>\n",
       "      <th>business_id</th>\n",
       "      <th>name</th>\n",
       "      <th>address</th>\n",
       "      <th>city</th>\n",
       "      <th>state</th>\n",
       "      <th>postal_code</th>\n",
       "      <th>latitude</th>\n",
       "      <th>longitude</th>\n",
       "      <th>stars</th>\n",
       "      <th>review_count</th>\n",
       "      <th>is_open</th>\n",
       "      <th>attributes</th>\n",
       "      <th>categories</th>\n",
       "      <th>hours</th>\n",
       "    </tr>\n",
       "  </thead>\n",
       "  <tbody>\n",
       "    <tr>\n",
       "      <th>0</th>\n",
       "      <td>Pns2l4eNsfO8kk83dixA6A</td>\n",
       "      <td>Abby Rappoport, LAC, CMQ</td>\n",
       "      <td>1616 Chapala St, Ste 2</td>\n",
       "      <td>Santa Barbara</td>\n",
       "      <td>CA</td>\n",
       "      <td>93101</td>\n",
       "      <td>34.426679</td>\n",
       "      <td>-119.711197</td>\n",
       "      <td>5.0</td>\n",
       "      <td>7</td>\n",
       "      <td>0</td>\n",
       "      <td>{'ByAppointmentOnly': 'True'}</td>\n",
       "      <td>Doctors, Traditional Chinese Medicine, Naturop...</td>\n",
       "      <td>None</td>\n",
       "    </tr>\n",
       "    <tr>\n",
       "      <th>7</th>\n",
       "      <td>qkRM_2X51Yqxk3btlwAQIg</td>\n",
       "      <td>Temple Beth-El</td>\n",
       "      <td>400 Pasadena Ave S</td>\n",
       "      <td>St. Petersburg</td>\n",
       "      <td>FL</td>\n",
       "      <td>33707</td>\n",
       "      <td>27.766590</td>\n",
       "      <td>-82.732983</td>\n",
       "      <td>3.5</td>\n",
       "      <td>5</td>\n",
       "      <td>1</td>\n",
       "      <td>None</td>\n",
       "      <td>Synagogues, Religious Organizations</td>\n",
       "      <td>{'Monday': '9:0-17:0', 'Tuesday': '9:0-17:0', ...</td>\n",
       "    </tr>\n",
       "    <tr>\n",
       "      <th>10</th>\n",
       "      <td>UJsufbvfyfONHeWdvAHKjA</td>\n",
       "      <td>Marshalls</td>\n",
       "      <td>21705 Village Lakes Sc Dr</td>\n",
       "      <td>Land O' Lakes</td>\n",
       "      <td>FL</td>\n",
       "      <td>34639</td>\n",
       "      <td>28.190459</td>\n",
       "      <td>-82.457380</td>\n",
       "      <td>3.5</td>\n",
       "      <td>6</td>\n",
       "      <td>1</td>\n",
       "      <td>{'RestaurantsPriceRange2': '2', 'BikeParking':...</td>\n",
       "      <td>Department Stores, Shopping, Fashion</td>\n",
       "      <td>{'Monday': '9:30-21:30', 'Tuesday': '9:30-21:3...</td>\n",
       "    </tr>\n",
       "  </tbody>\n",
       "</table>\n",
       "</div>"
      ],
      "text/plain": [
       "               business_id                      name  \\\n",
       "0   Pns2l4eNsfO8kk83dixA6A  Abby Rappoport, LAC, CMQ   \n",
       "7   qkRM_2X51Yqxk3btlwAQIg            Temple Beth-El   \n",
       "10  UJsufbvfyfONHeWdvAHKjA                 Marshalls   \n",
       "\n",
       "                      address            city state postal_code   latitude  \\\n",
       "0      1616 Chapala St, Ste 2   Santa Barbara    CA       93101  34.426679   \n",
       "7          400 Pasadena Ave S  St. Petersburg    FL       33707  27.766590   \n",
       "10  21705 Village Lakes Sc Dr   Land O' Lakes    FL       34639  28.190459   \n",
       "\n",
       "     longitude  stars  review_count  is_open  \\\n",
       "0  -119.711197    5.0             7        0   \n",
       "7   -82.732983    3.5             5        1   \n",
       "10  -82.457380    3.5             6        1   \n",
       "\n",
       "                                           attributes  \\\n",
       "0                       {'ByAppointmentOnly': 'True'}   \n",
       "7                                                None   \n",
       "10  {'RestaurantsPriceRange2': '2', 'BikeParking':...   \n",
       "\n",
       "                                           categories  \\\n",
       "0   Doctors, Traditional Chinese Medicine, Naturop...   \n",
       "7                 Synagogues, Religious Organizations   \n",
       "10               Department Stores, Shopping, Fashion   \n",
       "\n",
       "                                                hours  \n",
       "0                                                None  \n",
       "7   {'Monday': '9:0-17:0', 'Tuesday': '9:0-17:0', ...  \n",
       "10  {'Monday': '9:30-21:30', 'Tuesday': '9:30-21:3...  "
      ]
     },
     "execution_count": 9,
     "metadata": {},
     "output_type": "execute_result"
    }
   ],
   "source": [
    "business_filtrado.head(3)"
   ]
  },
  {
   "cell_type": "code",
   "execution_count": 10,
   "metadata": {},
   "outputs": [
    {
     "data": {
      "text/plain": [
       "(41393, 14)"
      ]
     },
     "execution_count": 10,
     "metadata": {},
     "output_type": "execute_result"
    }
   ],
   "source": [
    "business_filtrado.shape"
   ]
  },
  {
   "cell_type": "markdown",
   "metadata": {},
   "source": [
    "ahora filtramos los negocios solo con aquellos que pertenecen a la categoria de hotel, nightlife o bars"
   ]
  },
  {
   "cell_type": "code",
   "execution_count": 11,
   "metadata": {},
   "outputs": [
    {
     "name": "stderr",
     "output_type": "stream",
     "text": [
      "C:\\Users\\andre\\AppData\\Local\\Temp\\ipykernel_14356\\446031116.py:2: SettingWithCopyWarning: \n",
      "A value is trying to be set on a copy of a slice from a DataFrame.\n",
      "Try using .loc[row_indexer,col_indexer] = value instead\n",
      "\n",
      "See the caveats in the documentation: https://pandas.pydata.org/pandas-docs/stable/user_guide/indexing.html#returning-a-view-versus-a-copy\n",
      "  business_filtrado['categories'] = business_filtrado['categories'].fillna('')\n"
     ]
    }
   ],
   "source": [
    "# Limpiar los valores faltantes en la columna \"categories\"\n",
    "business_filtrado['categories'] = business_filtrado['categories'].fillna('')\n",
    "\n",
    "# Filtrar las filas donde la columna \"categories\" contiene las palabras \"hotel\", \"nightlife\" o \"bars\"\n",
    "business_filtrado_completo = business_filtrado[\n",
    "    (business_filtrado['categories'].str.lower().str.strip().str.contains('hotel')) |\n",
    "    (business_filtrado['categories'].str.lower().str.strip().str.contains('nightlife')) |\n",
    "    (business_filtrado['categories'].str.lower().str.strip().str.contains('bars'))\n",
    "]"
   ]
  },
  {
   "cell_type": "markdown",
   "metadata": {},
   "source": [
    "verificamos cambios, con una visualziacion de .head() y .shape"
   ]
  },
  {
   "cell_type": "code",
   "execution_count": 12,
   "metadata": {},
   "outputs": [
    {
     "data": {
      "text/html": [
       "<div>\n",
       "<style scoped>\n",
       "    .dataframe tbody tr th:only-of-type {\n",
       "        vertical-align: middle;\n",
       "    }\n",
       "\n",
       "    .dataframe tbody tr th {\n",
       "        vertical-align: top;\n",
       "    }\n",
       "\n",
       "    .dataframe thead th {\n",
       "        text-align: right;\n",
       "    }\n",
       "</style>\n",
       "<table border=\"1\" class=\"dataframe\">\n",
       "  <thead>\n",
       "    <tr style=\"text-align: right;\">\n",
       "      <th></th>\n",
       "      <th>business_id</th>\n",
       "      <th>name</th>\n",
       "      <th>address</th>\n",
       "      <th>city</th>\n",
       "      <th>state</th>\n",
       "      <th>postal_code</th>\n",
       "      <th>latitude</th>\n",
       "      <th>longitude</th>\n",
       "      <th>stars</th>\n",
       "      <th>review_count</th>\n",
       "      <th>is_open</th>\n",
       "      <th>attributes</th>\n",
       "      <th>categories</th>\n",
       "      <th>hours</th>\n",
       "    </tr>\n",
       "  </thead>\n",
       "  <tbody>\n",
       "    <tr>\n",
       "      <th>39</th>\n",
       "      <td>fSCNwMtNNQY9QT69Cj9fiA</td>\n",
       "      <td>Sierra Pro Events</td>\n",
       "      <td></td>\n",
       "      <td>Sparks</td>\n",
       "      <td>NV</td>\n",
       "      <td>89431</td>\n",
       "      <td>39.540154</td>\n",
       "      <td>-119.748395</td>\n",
       "      <td>5.0</td>\n",
       "      <td>7</td>\n",
       "      <td>1</td>\n",
       "      <td>{'BusinessAcceptsCreditCards': 'True', 'WiFi':...</td>\n",
       "      <td>Musicians, DJs, Karaoke, Event Planning &amp; Serv...</td>\n",
       "      <td>{'Monday': '9:0-17:0', 'Tuesday': '9:0-17:0', ...</td>\n",
       "    </tr>\n",
       "    <tr>\n",
       "      <th>79</th>\n",
       "      <td>pJfh3Ct8iL58NZa8ta-a5w</td>\n",
       "      <td>Top Shelf Sports Lounge</td>\n",
       "      <td>3173 Cypress Ridge Blvd</td>\n",
       "      <td>Wesley Chapel</td>\n",
       "      <td>FL</td>\n",
       "      <td>33544</td>\n",
       "      <td>28.196252</td>\n",
       "      <td>-82.380615</td>\n",
       "      <td>4.5</td>\n",
       "      <td>95</td>\n",
       "      <td>1</td>\n",
       "      <td>{'BestNights': '{'monday': False, 'tuesday': F...</td>\n",
       "      <td>Burgers, Sports Bars, Bars, Lounges, Restauran...</td>\n",
       "      <td>{'Monday': '11:30-22:0', 'Tuesday': '11:30-23:...</td>\n",
       "    </tr>\n",
       "    <tr>\n",
       "      <th>141</th>\n",
       "      <td>SZU9c8V2GuREDN5KgyHFJw</td>\n",
       "      <td>Santa Barbara Shellfish Company</td>\n",
       "      <td>230 Stearns Wharf</td>\n",
       "      <td>Santa Barbara</td>\n",
       "      <td>CA</td>\n",
       "      <td>93101</td>\n",
       "      <td>34.408715</td>\n",
       "      <td>-119.685019</td>\n",
       "      <td>4.0</td>\n",
       "      <td>2404</td>\n",
       "      <td>1</td>\n",
       "      <td>{'OutdoorSeating': 'True', 'RestaurantsAttire'...</td>\n",
       "      <td>Live/Raw Food, Restaurants, Seafood, Beer Bar,...</td>\n",
       "      <td>{'Monday': '0:0-0:0', 'Tuesday': '11:0-21:0', ...</td>\n",
       "    </tr>\n",
       "  </tbody>\n",
       "</table>\n",
       "</div>"
      ],
      "text/plain": [
       "                business_id                             name  \\\n",
       "39   fSCNwMtNNQY9QT69Cj9fiA                Sierra Pro Events   \n",
       "79   pJfh3Ct8iL58NZa8ta-a5w          Top Shelf Sports Lounge   \n",
       "141  SZU9c8V2GuREDN5KgyHFJw  Santa Barbara Shellfish Company   \n",
       "\n",
       "                     address           city state postal_code   latitude  \\\n",
       "39                                   Sparks    NV       89431  39.540154   \n",
       "79   3173 Cypress Ridge Blvd  Wesley Chapel    FL       33544  28.196252   \n",
       "141        230 Stearns Wharf  Santa Barbara    CA       93101  34.408715   \n",
       "\n",
       "      longitude  stars  review_count  is_open  \\\n",
       "39  -119.748395    5.0             7        1   \n",
       "79   -82.380615    4.5            95        1   \n",
       "141 -119.685019    4.0          2404        1   \n",
       "\n",
       "                                            attributes  \\\n",
       "39   {'BusinessAcceptsCreditCards': 'True', 'WiFi':...   \n",
       "79   {'BestNights': '{'monday': False, 'tuesday': F...   \n",
       "141  {'OutdoorSeating': 'True', 'RestaurantsAttire'...   \n",
       "\n",
       "                                            categories  \\\n",
       "39   Musicians, DJs, Karaoke, Event Planning & Serv...   \n",
       "79   Burgers, Sports Bars, Bars, Lounges, Restauran...   \n",
       "141  Live/Raw Food, Restaurants, Seafood, Beer Bar,...   \n",
       "\n",
       "                                                 hours  \n",
       "39   {'Monday': '9:0-17:0', 'Tuesday': '9:0-17:0', ...  \n",
       "79   {'Monday': '11:30-22:0', 'Tuesday': '11:30-23:...  \n",
       "141  {'Monday': '0:0-0:0', 'Tuesday': '11:0-21:0', ...  "
      ]
     },
     "execution_count": 12,
     "metadata": {},
     "output_type": "execute_result"
    }
   ],
   "source": [
    "business_filtrado_completo.head(3)"
   ]
  },
  {
   "cell_type": "code",
   "execution_count": 13,
   "metadata": {},
   "outputs": [
    {
     "data": {
      "text/plain": [
       "(5883, 14)"
      ]
     },
     "execution_count": 13,
     "metadata": {},
     "output_type": "execute_result"
    }
   ],
   "source": [
    "business_filtrado_completo.shape"
   ]
  },
  {
   "cell_type": "markdown",
   "metadata": {},
   "source": [
    "se guardaran todos los cambios en un dataset llamado business_filtrado_completo en formato parquet en la carpeta Dataset_filtrados"
   ]
  },
  {
   "cell_type": "code",
   "execution_count": 14,
   "metadata": {},
   "outputs": [],
   "source": [
    "#Guardemos el dataset de business filtrado\n",
    "#business_filtrado_completo.to_parquet(r'Dataset_filtrados\\business_filtrado_completo')"
   ]
  },
  {
   "cell_type": "markdown",
   "metadata": {},
   "source": [
    "## Review"
   ]
  },
  {
   "cell_type": "markdown",
   "metadata": {},
   "source": [
    "con el data set de business filtrado tanto por estados como por nichos, se utilizaran los datos de la columna business_id para filtrar los dataset de review"
   ]
  },
  {
   "cell_type": "markdown",
   "metadata": {},
   "source": [
    "debido a que los dataset tienen mucho peso, la lectura y manejo de dichos datos se hará en bloques"
   ]
  },
  {
   "cell_type": "markdown",
   "metadata": {},
   "source": [
    "cargamos los dataset del 0 al 11"
   ]
  },
  {
   "cell_type": "code",
   "execution_count": 13,
   "metadata": {},
   "outputs": [],
   "source": [
    "#cargamos los dataset del 0 al 11\n",
    "review0 = pd.read_parquet(r'Dataset\\review\\0.parquet')\n",
    "review1 = pd.read_parquet(r'Dataset\\review\\1.parquet')\n",
    "review2 = pd.read_parquet(r'Dataset\\review\\2.parquet')\n",
    "review3 = pd.read_parquet(r'Dataset\\review\\3.parquet')\n",
    "review4 = pd.read_parquet(r'Dataset\\review\\4.parquet')\n",
    "review5 = pd.read_parquet(r'Dataset\\review\\5.parquet')\n",
    "review6 = pd.read_parquet(r'Dataset\\review\\6.parquet')\n",
    "review7 = pd.read_parquet(r'Dataset\\review\\7.parquet')\n",
    "review8 = pd.read_parquet(r'Dataset\\review\\8.parquet')\n",
    "review9 = pd.read_parquet(r'Dataset\\review\\9.parquet')\n",
    "review10 = pd.read_parquet(r'Dataset\\review\\10.parquet')\n",
    "review11 = pd.read_parquet(r'Dataset\\review\\11.parquet')\n"
   ]
  },
  {
   "cell_type": "code",
   "execution_count": 14,
   "metadata": {},
   "outputs": [
    {
     "data": {
      "text/html": [
       "<div>\n",
       "<style scoped>\n",
       "    .dataframe tbody tr th:only-of-type {\n",
       "        vertical-align: middle;\n",
       "    }\n",
       "\n",
       "    .dataframe tbody tr th {\n",
       "        vertical-align: top;\n",
       "    }\n",
       "\n",
       "    .dataframe thead th {\n",
       "        text-align: right;\n",
       "    }\n",
       "</style>\n",
       "<table border=\"1\" class=\"dataframe\">\n",
       "  <thead>\n",
       "    <tr style=\"text-align: right;\">\n",
       "      <th></th>\n",
       "      <th>review_id</th>\n",
       "      <th>user_id</th>\n",
       "      <th>business_id</th>\n",
       "      <th>stars</th>\n",
       "      <th>useful</th>\n",
       "      <th>funny</th>\n",
       "      <th>cool</th>\n",
       "      <th>text</th>\n",
       "      <th>date</th>\n",
       "    </tr>\n",
       "  </thead>\n",
       "  <tbody>\n",
       "    <tr>\n",
       "      <th>0</th>\n",
       "      <td>KU_O5udG6zpxOg-VcAEodg</td>\n",
       "      <td>mh_-eMZ6K5RLWhZyISBhwA</td>\n",
       "      <td>XQfwVwDr-v0ZS3_CbbE5Xw</td>\n",
       "      <td>3.0</td>\n",
       "      <td>0</td>\n",
       "      <td>0</td>\n",
       "      <td>0</td>\n",
       "      <td>If you decide to eat here, just be aware it is...</td>\n",
       "      <td>2018-07-07 22:09:11</td>\n",
       "    </tr>\n",
       "  </tbody>\n",
       "</table>\n",
       "</div>"
      ],
      "text/plain": [
       "                review_id                 user_id             business_id  \\\n",
       "0  KU_O5udG6zpxOg-VcAEodg  mh_-eMZ6K5RLWhZyISBhwA  XQfwVwDr-v0ZS3_CbbE5Xw   \n",
       "\n",
       "   stars  useful  funny  cool  \\\n",
       "0    3.0       0      0     0   \n",
       "\n",
       "                                                text                 date  \n",
       "0  If you decide to eat here, just be aware it is...  2018-07-07 22:09:11  "
      ]
     },
     "execution_count": 14,
     "metadata": {},
     "output_type": "execute_result"
    }
   ],
   "source": [
    "#se hace solo la revision de uno de los dataset, ya que estos son particiones de uno mas grande,\n",
    "# por lo que las columnas en los demas dataset son iguales\n",
    "review0.head(1)"
   ]
  },
  {
   "cell_type": "code",
   "execution_count": 15,
   "metadata": {},
   "outputs": [],
   "source": [
    "# Filtrar los valores únicos de business_id del DataFrame business_filtrado_completo\n",
    "business_ids_filtrados = business_filtrado_completo['business_id'].unique()\n",
    "\n",
    "# Filtrar el DataFrame review0 para que solo contenga los business_id filtrados\n",
    "review0_filtrado = review0[review0['business_id'].isin(business_ids_filtrados)]\n",
    "review1_filtrado = review1[review1['business_id'].isin(business_ids_filtrados)]\n",
    "review2_filtrado = review2[review2['business_id'].isin(business_ids_filtrados)]\n",
    "review3_filtrado = review3[review3['business_id'].isin(business_ids_filtrados)]\n",
    "review4_filtrado = review4[review4['business_id'].isin(business_ids_filtrados)]\n",
    "review5_filtrado = review5[review5['business_id'].isin(business_ids_filtrados)]\n",
    "review6_filtrado = review6[review6['business_id'].isin(business_ids_filtrados)]\n",
    "review7_filtrado = review7[review7['business_id'].isin(business_ids_filtrados)]\n",
    "review8_filtrado = review8[review8['business_id'].isin(business_ids_filtrados)]\n",
    "review9_filtrado = review9[review9['business_id'].isin(business_ids_filtrados)]\n",
    "review10_filtrado = review10[review10['business_id'].isin(business_ids_filtrados)]\n",
    "review11_filtrado = review11[review11['business_id'].isin(business_ids_filtrados)]\n",
    "\n"
   ]
  },
  {
   "cell_type": "code",
   "execution_count": 17,
   "metadata": {},
   "outputs": [
    {
     "name": "stdout",
     "output_type": "stream",
     "text": [
      "(23417, 9) (24011, 9) (23718, 9) (22250, 9) (22840, 9) (21762, 9) (21248, 9)\n"
     ]
    }
   ],
   "source": [
    "#verificamos dimenciones\n",
    "print(review0_filtrado.shape,\n",
    "      review1_filtrado.shape,\n",
    "      review2_filtrado.shape,\n",
    "      review3_filtrado.shape,\n",
    "      review4_filtrado.shape,\n",
    "      review5_filtrado.shape,\n",
    "      review6_filtrado.shape )"
   ]
  },
  {
   "cell_type": "markdown",
   "metadata": {},
   "source": [
    "podemos observar que pasamos de tener 250mil datos en cada dataset a tener entre 24mil y 22 mil en cada uno"
   ]
  },
  {
   "cell_type": "code",
   "execution_count": 18,
   "metadata": {},
   "outputs": [],
   "source": [
    "# convinemos los DF \n",
    "reviews = [review0_filtrado, review1_filtrado, review2_filtrado, review3_filtrado, review4_filtrado, review5_filtrado, review6_filtrado, review7_filtrado, review8_filtrado, review9_filtrado, review10_filtrado, review11_filtrado]\n",
    "# Combinar los DataFrames en uno solo\n",
    "Total_reviews1 = pd.concat(reviews, ignore_index=True)\n",
    "\n"
   ]
  },
  {
   "cell_type": "markdown",
   "metadata": {},
   "source": [
    "El resultado de este bloque de archivos se guardara en un parquet llamado Total_reviews1"
   ]
  },
  {
   "cell_type": "code",
   "execution_count": 19,
   "metadata": {},
   "outputs": [],
   "source": [
    "#guardamos el dataset de reviews filtrado\n",
    "#Total_reviews1.to_parquet(r'Dataset_filtrados\\Total_reviews1')"
   ]
  },
  {
   "cell_type": "markdown",
   "metadata": {},
   "source": [
    "cargamos los dataset del 12 al 21\n"
   ]
  },
  {
   "cell_type": "code",
   "execution_count": 2,
   "metadata": {},
   "outputs": [],
   "source": [
    "#cargamos los dataset del 12 al 21\n",
    "review12 = pd.read_parquet(r'Dataset\\review\\12.parquet')\n",
    "review13 = pd.read_parquet(r'Dataset\\review\\13.parquet')\n",
    "review14 = pd.read_parquet(r'Dataset\\review\\14.parquet')\n",
    "review15 = pd.read_parquet(r'Dataset\\review\\15.parquet')\n",
    "review16 = pd.read_parquet(r'Dataset\\review\\16.parquet')\n",
    "review17 = pd.read_parquet(r'Dataset\\review\\17.parquet')\n",
    "review18 = pd.read_parquet(r'Dataset\\review\\18.parquet')\n",
    "review19 = pd.read_parquet(r'Dataset\\review\\19.parquet')\n",
    "review20 = pd.read_parquet(r'Dataset\\review\\20.parquet')\n",
    "review21 = pd.read_parquet(r'Dataset\\review\\21.parquet')\n"
   ]
  },
  {
   "cell_type": "code",
   "execution_count": 14,
   "metadata": {},
   "outputs": [],
   "source": [
    "# Filtrar los valores únicos de business_id del DataFrame business_filtrado_completo\n",
    "business_ids_filtrados = business_filtrado_completo['business_id'].unique()\n",
    "\n",
    "# Filtrar el DataFrame review12 para que solo contenga los business_id filtrados\n",
    "review12_filtrado = review12[review12['business_id'].isin(business_ids_filtrados)]\n",
    "review13_filtrado = review13[review13['business_id'].isin(business_ids_filtrados)]\n",
    "review14_filtrado = review14[review14['business_id'].isin(business_ids_filtrados)]\n",
    "review15_filtrado = review15[review15['business_id'].isin(business_ids_filtrados)]\n",
    "review16_filtrado = review16[review16['business_id'].isin(business_ids_filtrados)]\n",
    "review17_filtrado = review17[review17['business_id'].isin(business_ids_filtrados)]\n",
    "review18_filtrado = review18[review18['business_id'].isin(business_ids_filtrados)]\n",
    "review19_filtrado = review19[review19['business_id'].isin(business_ids_filtrados)]\n",
    "review20_filtrado = review20[review20['business_id'].isin(business_ids_filtrados)]\n",
    "review21_filtrado = review21[review21['business_id'].isin(business_ids_filtrados)]"
   ]
  },
  {
   "cell_type": "code",
   "execution_count": 15,
   "metadata": {},
   "outputs": [
    {
     "name": "stdout",
     "output_type": "stream",
     "text": [
      "(21756, 9) (21444, 9) (20392, 9)\n"
     ]
    }
   ],
   "source": [
    "#verificamos dimenciones\n",
    "print(review12_filtrado.shape,\n",
    "      review13_filtrado.shape,\n",
    "      review21_filtrado.shape )"
   ]
  },
  {
   "cell_type": "code",
   "execution_count": 16,
   "metadata": {},
   "outputs": [],
   "source": [
    "# convinemos los DF \n",
    "reviews_2 = [review12_filtrado, review13_filtrado, review14_filtrado, review15_filtrado, review16_filtrado, review17_filtrado, review18_filtrado, review19_filtrado, review20_filtrado, review21_filtrado]\n",
    "\n",
    "# Combinar los DataFrames en uno solo\n",
    "Total_reviews2 = pd.concat(reviews_2, ignore_index=True)"
   ]
  },
  {
   "cell_type": "markdown",
   "metadata": {},
   "source": [
    "El resultado de este bloque de archivos se guardara en un parquet llamado Total_reviews2"
   ]
  },
  {
   "cell_type": "code",
   "execution_count": 17,
   "metadata": {},
   "outputs": [],
   "source": [
    "#guardamos el dataset de reviews filtrado\n",
    "#Total_reviews2.to_parquet(r'Dataset_filtrados\\Total_reviews2')"
   ]
  },
  {
   "cell_type": "markdown",
   "metadata": {},
   "source": [
    "cargamos los dataset del 22 al 27\n"
   ]
  },
  {
   "cell_type": "code",
   "execution_count": 13,
   "metadata": {},
   "outputs": [],
   "source": [
    "#cargamos los dataset del 22 al 27\n",
    "review22 = pd.read_parquet(r'Dataset\\review\\22.parquet')\n",
    "review23 = pd.read_parquet(r'Dataset\\review\\23.parquet')\n",
    "review24 = pd.read_parquet(r'Dataset\\review\\24.parquet')\n",
    "review25 = pd.read_parquet(r'Dataset\\review\\25.parquet')\n",
    "review26 = pd.read_parquet(r'Dataset\\review\\26.parquet')\n",
    "review27 = pd.read_parquet(r'Dataset\\review\\27.parquet')"
   ]
  },
  {
   "cell_type": "code",
   "execution_count": 14,
   "metadata": {},
   "outputs": [],
   "source": [
    "# Filtrar los valores únicos de business_id del DataFrame business_filtrado_completo\n",
    "business_ids_filtrados = business_filtrado_completo['business_id'].unique()\n",
    "\n",
    "# Filtrar el DataFrame review12 para que solo contenga los business_id filtrados\n",
    "review22_filtrado = review22[review22['business_id'].isin(business_ids_filtrados)]\n",
    "review23_filtrado = review23[review23['business_id'].isin(business_ids_filtrados)]\n",
    "review24_filtrado = review24[review24['business_id'].isin(business_ids_filtrados)]\n",
    "review25_filtrado = review25[review25['business_id'].isin(business_ids_filtrados)]\n",
    "review26_filtrado = review26[review26['business_id'].isin(business_ids_filtrados)]\n",
    "review27_filtrado = review27[review27['business_id'].isin(business_ids_filtrados)]\n"
   ]
  },
  {
   "cell_type": "code",
   "execution_count": 15,
   "metadata": {},
   "outputs": [
    {
     "name": "stdout",
     "output_type": "stream",
     "text": [
      "(22960, 9) (24387, 9) (22602, 9)\n"
     ]
    }
   ],
   "source": [
    "#verificamos dimenciones\n",
    "print(review22_filtrado.shape,\n",
    "      review24_filtrado.shape,\n",
    "      review27_filtrado.shape )"
   ]
  },
  {
   "cell_type": "code",
   "execution_count": 16,
   "metadata": {},
   "outputs": [],
   "source": [
    "# convinemos los DF \n",
    "reviews_3 = [review22_filtrado, review23_filtrado, review24_filtrado, review25_filtrado, review26_filtrado, review27_filtrado]\n",
    "\n",
    "# Combinar los DataFrames en uno solo\n",
    "Total_reviews3 = pd.concat(reviews_3, ignore_index=True)"
   ]
  },
  {
   "cell_type": "markdown",
   "metadata": {},
   "source": [
    "El resultado de este bloque de archivos se guardara en un parquet llamado Total_reviews3"
   ]
  },
  {
   "cell_type": "code",
   "execution_count": 17,
   "metadata": {},
   "outputs": [],
   "source": [
    "#guardamos el dataset de reviews filtrado\n",
    "#Total_reviews3.to_parquet(r'Dataset_filtrados\\Total_reviews3')"
   ]
  },
  {
   "cell_type": "markdown",
   "metadata": {},
   "source": [
    "Debido al tamaño de los archivos que se manejan, es necesario reiniciar el kernel. Por lo tanto, a continuación, se cargan los archivos resultantes de cada uno de los bloques de código previamente trabajados, con el propósito de unificarlos en un solo archivo Parquet y realizar una limpieza profunda de los datos."
   ]
  },
  {
   "cell_type": "code",
   "execution_count": 2,
   "metadata": {},
   "outputs": [],
   "source": [
    "# se cargan los dataset\n",
    "Total_reviews = pd.read_parquet(r'Dataset_filtrados\\Total_reviews')\n",
    "Total_reviews2 = pd.read_parquet(r'Dataset_filtrados\\Total_reviews2')\n",
    "Total_reviews3 = pd.read_parquet(r'Dataset_filtrados\\Total_reviews3')\n"
   ]
  },
  {
   "cell_type": "code",
   "execution_count": 8,
   "metadata": {},
   "outputs": [],
   "source": [
    "#se seleccionana los DF\n",
    "dataframes = [Total_reviews, Total_reviews2, Total_reviews3]\n",
    "\n",
    "# Unir los DataFrames en uno solo\n",
    "Total_reviews = pd.concat(dataframes, ignore_index=True)"
   ]
  },
  {
   "cell_type": "code",
   "execution_count": 9,
   "metadata": {},
   "outputs": [
    {
     "data": {
      "text/plain": [
       "(617020, 9)"
      ]
     },
     "execution_count": 9,
     "metadata": {},
     "output_type": "execute_result"
    }
   ],
   "source": [
    "#verificamos dimenciones\n",
    "Total_reviews.shape"
   ]
  },
  {
   "cell_type": "markdown",
   "metadata": {},
   "source": [
    "El resultado de este bloque de archivos se guardara en un parquet llamado Total_reviews"
   ]
  },
  {
   "cell_type": "code",
   "execution_count": 10,
   "metadata": {},
   "outputs": [],
   "source": [
    "#guardamos el dataset de reviews filtrado\n",
    "#Total_reviews.to_parquet(r'Dataset_filtrados\\Total_reviews')"
   ]
  },
  {
   "cell_type": "markdown",
   "metadata": {},
   "source": [
    "Con el archivo que contiene el total de reseñas unificadas y filtradas, es posible eliminar los archivos utilizados para crear dicho conjunto, ya que este archivo concentra toda la información de dichas reseñas."
   ]
  },
  {
   "cell_type": "code",
   "execution_count": 3,
   "metadata": {},
   "outputs": [],
   "source": [
    "#ahora haremos etl para el archivo de Total_reviews\n",
    "Total_reviews = pd.read_parquet(r'Dataset_filtrados\\Total_reviews')"
   ]
  },
  {
   "cell_type": "code",
   "execution_count": 7,
   "metadata": {},
   "outputs": [
    {
     "data": {
      "text/html": [
       "<div>\n",
       "<style scoped>\n",
       "    .dataframe tbody tr th:only-of-type {\n",
       "        vertical-align: middle;\n",
       "    }\n",
       "\n",
       "    .dataframe tbody tr th {\n",
       "        vertical-align: top;\n",
       "    }\n",
       "\n",
       "    .dataframe thead th {\n",
       "        text-align: right;\n",
       "    }\n",
       "</style>\n",
       "<table border=\"1\" class=\"dataframe\">\n",
       "  <thead>\n",
       "    <tr style=\"text-align: right;\">\n",
       "      <th></th>\n",
       "      <th>review_id</th>\n",
       "      <th>user_id</th>\n",
       "      <th>business_id</th>\n",
       "      <th>stars</th>\n",
       "      <th>useful</th>\n",
       "      <th>funny</th>\n",
       "      <th>cool</th>\n",
       "      <th>text</th>\n",
       "      <th>date</th>\n",
       "    </tr>\n",
       "  </thead>\n",
       "  <tbody>\n",
       "    <tr>\n",
       "      <th>0</th>\n",
       "      <td>pUycOfUwM8vqX7KjRRhUEA</td>\n",
       "      <td>59MxRhNVhU9MYndMkz0wtw</td>\n",
       "      <td>gebiRewfieSdtt17PTW6Zg</td>\n",
       "      <td>3.0</td>\n",
       "      <td>0</td>\n",
       "      <td>0</td>\n",
       "      <td>0</td>\n",
       "      <td>Had a party of 6 here for hibachi. Our waitres...</td>\n",
       "      <td>2016-07-25 07:31:06</td>\n",
       "    </tr>\n",
       "    <tr>\n",
       "      <th>1</th>\n",
       "      <td>eCiWBf1CJ0Zdv1uVarEhhw</td>\n",
       "      <td>OhECKhQEexFypOMY6kypRw</td>\n",
       "      <td>vC2qm1y3Au5czBtbhc-DNw</td>\n",
       "      <td>4.0</td>\n",
       "      <td>0</td>\n",
       "      <td>0</td>\n",
       "      <td>0</td>\n",
       "      <td>Yes, this is the only sushi place in town. How...</td>\n",
       "      <td>2013-09-04 03:48:20</td>\n",
       "    </tr>\n",
       "    <tr>\n",
       "      <th>2</th>\n",
       "      <td>pHwbdway4yeI-dSSmZA7-Q</td>\n",
       "      <td>qEEk0PuoH1dVa619t8fgpw</td>\n",
       "      <td>PY9GRfzr4nTZeINf346QOw</td>\n",
       "      <td>4.0</td>\n",
       "      <td>0</td>\n",
       "      <td>0</td>\n",
       "      <td>0</td>\n",
       "      <td>We checked in around 2:30 pm.  Check-in was qu...</td>\n",
       "      <td>2017-09-20 16:16:47</td>\n",
       "    </tr>\n",
       "    <tr>\n",
       "      <th>3</th>\n",
       "      <td>4zopEEPqfwm-c_FNpeHZYw</td>\n",
       "      <td>JYYYKt6TdVA4ng9lLcXt_g</td>\n",
       "      <td>SZU9c8V2GuREDN5KgyHFJw</td>\n",
       "      <td>5.0</td>\n",
       "      <td>0</td>\n",
       "      <td>0</td>\n",
       "      <td>0</td>\n",
       "      <td>We were a bit weary about trying the Shellfish...</td>\n",
       "      <td>2016-05-31 02:14:54</td>\n",
       "    </tr>\n",
       "    <tr>\n",
       "      <th>4</th>\n",
       "      <td>HuWEnZr7-0HveaqXxyywgg</td>\n",
       "      <td>Eb8LgZArKmW0KgW6lTni-w</td>\n",
       "      <td>YbnJYHNp_fHbI-hcFg48vQ</td>\n",
       "      <td>5.0</td>\n",
       "      <td>2</td>\n",
       "      <td>0</td>\n",
       "      <td>2</td>\n",
       "      <td>The kayaking tour at the Santa Cruz Island was...</td>\n",
       "      <td>2009-08-03 21:55:27</td>\n",
       "    </tr>\n",
       "  </tbody>\n",
       "</table>\n",
       "</div>"
      ],
      "text/plain": [
       "                review_id                 user_id             business_id  \\\n",
       "0  pUycOfUwM8vqX7KjRRhUEA  59MxRhNVhU9MYndMkz0wtw  gebiRewfieSdtt17PTW6Zg   \n",
       "1  eCiWBf1CJ0Zdv1uVarEhhw  OhECKhQEexFypOMY6kypRw  vC2qm1y3Au5czBtbhc-DNw   \n",
       "2  pHwbdway4yeI-dSSmZA7-Q  qEEk0PuoH1dVa619t8fgpw  PY9GRfzr4nTZeINf346QOw   \n",
       "3  4zopEEPqfwm-c_FNpeHZYw  JYYYKt6TdVA4ng9lLcXt_g  SZU9c8V2GuREDN5KgyHFJw   \n",
       "4  HuWEnZr7-0HveaqXxyywgg  Eb8LgZArKmW0KgW6lTni-w  YbnJYHNp_fHbI-hcFg48vQ   \n",
       "\n",
       "   stars  useful  funny  cool  \\\n",
       "0    3.0       0      0     0   \n",
       "1    4.0       0      0     0   \n",
       "2    4.0       0      0     0   \n",
       "3    5.0       0      0     0   \n",
       "4    5.0       2      0     2   \n",
       "\n",
       "                                                text                 date  \n",
       "0  Had a party of 6 here for hibachi. Our waitres...  2016-07-25 07:31:06  \n",
       "1  Yes, this is the only sushi place in town. How...  2013-09-04 03:48:20  \n",
       "2  We checked in around 2:30 pm.  Check-in was qu...  2017-09-20 16:16:47  \n",
       "3  We were a bit weary about trying the Shellfish...  2016-05-31 02:14:54  \n",
       "4  The kayaking tour at the Santa Cruz Island was...  2009-08-03 21:55:27  "
      ]
     },
     "execution_count": 7,
     "metadata": {},
     "output_type": "execute_result"
    }
   ],
   "source": [
    "#verificamos con un head() para ver informacion general de las columnas\n",
    "Total_reviews.head()"
   ]
  },
  {
   "cell_type": "code",
   "execution_count": 11,
   "metadata": {},
   "outputs": [
    {
     "data": {
      "text/html": [
       "<div>\n",
       "<style scoped>\n",
       "    .dataframe tbody tr th:only-of-type {\n",
       "        vertical-align: middle;\n",
       "    }\n",
       "\n",
       "    .dataframe tbody tr th {\n",
       "        vertical-align: top;\n",
       "    }\n",
       "\n",
       "    .dataframe thead th {\n",
       "        text-align: right;\n",
       "    }\n",
       "</style>\n",
       "<table border=\"1\" class=\"dataframe\">\n",
       "  <thead>\n",
       "    <tr style=\"text-align: right;\">\n",
       "      <th></th>\n",
       "      <th>review_id</th>\n",
       "      <th>user_id</th>\n",
       "      <th>business_id</th>\n",
       "      <th>stars</th>\n",
       "      <th>useful</th>\n",
       "      <th>funny</th>\n",
       "      <th>cool</th>\n",
       "      <th>text</th>\n",
       "      <th>date</th>\n",
       "    </tr>\n",
       "  </thead>\n",
       "  <tbody>\n",
       "    <tr>\n",
       "      <th>0</th>\n",
       "      <td>pUycOfUwM8vqX7KjRRhUEA</td>\n",
       "      <td>59MxRhNVhU9MYndMkz0wtw</td>\n",
       "      <td>gebiRewfieSdtt17PTW6Zg</td>\n",
       "      <td>3.0</td>\n",
       "      <td>0</td>\n",
       "      <td>0</td>\n",
       "      <td>0</td>\n",
       "      <td>Had a party of 6 here for hibachi. Our waitres...</td>\n",
       "      <td>2016-07-25 07:31:06</td>\n",
       "    </tr>\n",
       "    <tr>\n",
       "      <th>104</th>\n",
       "      <td>_Ub20uO1MKy4XOVPOdzpqw</td>\n",
       "      <td>lUYboGI6aFbZ0dX27pijpA</td>\n",
       "      <td>gebiRewfieSdtt17PTW6Zg</td>\n",
       "      <td>1.0</td>\n",
       "      <td>0</td>\n",
       "      <td>2</td>\n",
       "      <td>0</td>\n",
       "      <td>Sat down over a half hour, only miso and drink...</td>\n",
       "      <td>2017-06-28 01:04:59</td>\n",
       "    </tr>\n",
       "    <tr>\n",
       "      <th>146</th>\n",
       "      <td>-DjIfoNFAiT5J4kF9hXocQ</td>\n",
       "      <td>SrfDRvGKI8FQq9LCr0dQuQ</td>\n",
       "      <td>gebiRewfieSdtt17PTW6Zg</td>\n",
       "      <td>3.0</td>\n",
       "      <td>9</td>\n",
       "      <td>4</td>\n",
       "      <td>6</td>\n",
       "      <td>Not bad. Sushi roll was good but options were ...</td>\n",
       "      <td>2017-01-14 23:31:35</td>\n",
       "    </tr>\n",
       "    <tr>\n",
       "      <th>148</th>\n",
       "      <td>URe-2Zlv7RoY4Ycr9JYVWw</td>\n",
       "      <td>SfMf7DEX7xT82OCcbZFsgQ</td>\n",
       "      <td>gebiRewfieSdtt17PTW6Zg</td>\n",
       "      <td>5.0</td>\n",
       "      <td>1</td>\n",
       "      <td>0</td>\n",
       "      <td>1</td>\n",
       "      <td>I'm very picky when it comes to Sushi. Quality...</td>\n",
       "      <td>2016-07-14 23:09:38</td>\n",
       "    </tr>\n",
       "    <tr>\n",
       "      <th>418</th>\n",
       "      <td>tHP5ihPd_W9OzfkKEWdIwA</td>\n",
       "      <td>aH3AH7V9g60w4pt3LpJ1_Q</td>\n",
       "      <td>gebiRewfieSdtt17PTW6Zg</td>\n",
       "      <td>4.0</td>\n",
       "      <td>0</td>\n",
       "      <td>0</td>\n",
       "      <td>0</td>\n",
       "      <td>Even though the sushi masters are not actually...</td>\n",
       "      <td>2014-11-30 07:35:54</td>\n",
       "    </tr>\n",
       "    <tr>\n",
       "      <th>...</th>\n",
       "      <td>...</td>\n",
       "      <td>...</td>\n",
       "      <td>...</td>\n",
       "      <td>...</td>\n",
       "      <td>...</td>\n",
       "      <td>...</td>\n",
       "      <td>...</td>\n",
       "      <td>...</td>\n",
       "      <td>...</td>\n",
       "    </tr>\n",
       "    <tr>\n",
       "      <th>66873</th>\n",
       "      <td>nVkXTrVqDdOkun2vFHmGBQ</td>\n",
       "      <td>3cCuXEfKOdq72ZHKq3xKKg</td>\n",
       "      <td>gebiRewfieSdtt17PTW6Zg</td>\n",
       "      <td>3.0</td>\n",
       "      <td>0</td>\n",
       "      <td>0</td>\n",
       "      <td>0</td>\n",
       "      <td>Sushi and service are good.  They put all of t...</td>\n",
       "      <td>2011-10-13 23:32:19</td>\n",
       "    </tr>\n",
       "    <tr>\n",
       "      <th>66882</th>\n",
       "      <td>eBTWD9S3rNhxcQa7Jq47KQ</td>\n",
       "      <td>xU4PTLbyrLrAmc9P6NdB9g</td>\n",
       "      <td>gebiRewfieSdtt17PTW6Zg</td>\n",
       "      <td>1.0</td>\n",
       "      <td>0</td>\n",
       "      <td>0</td>\n",
       "      <td>0</td>\n",
       "      <td>We had a 730 reservation, didn't get seated un...</td>\n",
       "      <td>2016-03-29 18:22:41</td>\n",
       "    </tr>\n",
       "    <tr>\n",
       "      <th>66924</th>\n",
       "      <td>FDYhQ4IkZecRkfOJwaV4VA</td>\n",
       "      <td>S8F0sdoihQ6wK9zrMhaWDQ</td>\n",
       "      <td>gebiRewfieSdtt17PTW6Zg</td>\n",
       "      <td>5.0</td>\n",
       "      <td>0</td>\n",
       "      <td>0</td>\n",
       "      <td>0</td>\n",
       "      <td>I've been coming here since it was called Some...</td>\n",
       "      <td>2018-07-21 05:32:58</td>\n",
       "    </tr>\n",
       "    <tr>\n",
       "      <th>66955</th>\n",
       "      <td>KtTZM-9W4Lfpuq3-LOSBgg</td>\n",
       "      <td>deU2x7lqmIQ9hee_nqvswg</td>\n",
       "      <td>gebiRewfieSdtt17PTW6Zg</td>\n",
       "      <td>5.0</td>\n",
       "      <td>1</td>\n",
       "      <td>0</td>\n",
       "      <td>0</td>\n",
       "      <td>Had a great meal for my dads 55th! Staff was a...</td>\n",
       "      <td>2017-06-16 02:13:34</td>\n",
       "    </tr>\n",
       "    <tr>\n",
       "      <th>67801</th>\n",
       "      <td>QKqTrmTjLY0GGbNEc4eJzg</td>\n",
       "      <td>LcVWPftC-Rgtx9bQ_bCgDw</td>\n",
       "      <td>gebiRewfieSdtt17PTW6Zg</td>\n",
       "      <td>1.0</td>\n",
       "      <td>1</td>\n",
       "      <td>2</td>\n",
       "      <td>0</td>\n",
       "      <td>Worst restaurant in Santa Barbara. - local rev...</td>\n",
       "      <td>2017-09-18 22:02:12</td>\n",
       "    </tr>\n",
       "  </tbody>\n",
       "</table>\n",
       "<p>502 rows × 9 columns</p>\n",
       "</div>"
      ],
      "text/plain": [
       "                    review_id                 user_id             business_id  \\\n",
       "0      pUycOfUwM8vqX7KjRRhUEA  59MxRhNVhU9MYndMkz0wtw  gebiRewfieSdtt17PTW6Zg   \n",
       "104    _Ub20uO1MKy4XOVPOdzpqw  lUYboGI6aFbZ0dX27pijpA  gebiRewfieSdtt17PTW6Zg   \n",
       "146    -DjIfoNFAiT5J4kF9hXocQ  SrfDRvGKI8FQq9LCr0dQuQ  gebiRewfieSdtt17PTW6Zg   \n",
       "148    URe-2Zlv7RoY4Ycr9JYVWw  SfMf7DEX7xT82OCcbZFsgQ  gebiRewfieSdtt17PTW6Zg   \n",
       "418    tHP5ihPd_W9OzfkKEWdIwA  aH3AH7V9g60w4pt3LpJ1_Q  gebiRewfieSdtt17PTW6Zg   \n",
       "...                       ...                     ...                     ...   \n",
       "66873  nVkXTrVqDdOkun2vFHmGBQ  3cCuXEfKOdq72ZHKq3xKKg  gebiRewfieSdtt17PTW6Zg   \n",
       "66882  eBTWD9S3rNhxcQa7Jq47KQ  xU4PTLbyrLrAmc9P6NdB9g  gebiRewfieSdtt17PTW6Zg   \n",
       "66924  FDYhQ4IkZecRkfOJwaV4VA  S8F0sdoihQ6wK9zrMhaWDQ  gebiRewfieSdtt17PTW6Zg   \n",
       "66955  KtTZM-9W4Lfpuq3-LOSBgg  deU2x7lqmIQ9hee_nqvswg  gebiRewfieSdtt17PTW6Zg   \n",
       "67801  QKqTrmTjLY0GGbNEc4eJzg  LcVWPftC-Rgtx9bQ_bCgDw  gebiRewfieSdtt17PTW6Zg   \n",
       "\n",
       "       stars  useful  funny  cool  \\\n",
       "0        3.0       0      0     0   \n",
       "104      1.0       0      2     0   \n",
       "146      3.0       9      4     6   \n",
       "148      5.0       1      0     1   \n",
       "418      4.0       0      0     0   \n",
       "...      ...     ...    ...   ...   \n",
       "66873    3.0       0      0     0   \n",
       "66882    1.0       0      0     0   \n",
       "66924    5.0       0      0     0   \n",
       "66955    5.0       1      0     0   \n",
       "67801    1.0       1      2     0   \n",
       "\n",
       "                                                    text                 date  \n",
       "0      Had a party of 6 here for hibachi. Our waitres...  2016-07-25 07:31:06  \n",
       "104    Sat down over a half hour, only miso and drink...  2017-06-28 01:04:59  \n",
       "146    Not bad. Sushi roll was good but options were ...  2017-01-14 23:31:35  \n",
       "148    I'm very picky when it comes to Sushi. Quality...  2016-07-14 23:09:38  \n",
       "418    Even though the sushi masters are not actually...  2014-11-30 07:35:54  \n",
       "...                                                  ...                  ...  \n",
       "66873  Sushi and service are good.  They put all of t...  2011-10-13 23:32:19  \n",
       "66882  We had a 730 reservation, didn't get seated un...  2016-03-29 18:22:41  \n",
       "66924  I've been coming here since it was called Some...  2018-07-21 05:32:58  \n",
       "66955  Had a great meal for my dads 55th! Staff was a...  2017-06-16 02:13:34  \n",
       "67801  Worst restaurant in Santa Barbara. - local rev...  2017-09-18 22:02:12  \n",
       "\n",
       "[502 rows x 9 columns]"
      ]
     },
     "execution_count": 11,
     "metadata": {},
     "output_type": "execute_result"
    }
   ],
   "source": [
    "#dado a que el archivo hace referencia a todas las reseñas de un negocio, se verifica que ciertamente haya varias reseñas de un negocio\n",
    "Total_reviews.loc[Total_reviews['business_id'] == 'gebiRewfieSdtt17PTW6Zg', :]"
   ]
  },
  {
   "cell_type": "code",
   "execution_count": 5,
   "metadata": {},
   "outputs": [
    {
     "name": "stdout",
     "output_type": "stream",
     "text": [
      "<class 'pandas.core.frame.DataFrame'>\n",
      "RangeIndex: 617020 entries, 0 to 617019\n",
      "Data columns (total 9 columns):\n",
      " #   Column       Non-Null Count   Dtype  \n",
      "---  ------       --------------   -----  \n",
      " 0   review_id    617020 non-null  object \n",
      " 1   user_id      617020 non-null  object \n",
      " 2   business_id  617020 non-null  object \n",
      " 3   stars        617020 non-null  float64\n",
      " 4   useful       617020 non-null  int64  \n",
      " 5   funny        617020 non-null  int64  \n",
      " 6   cool         617020 non-null  int64  \n",
      " 7   text         617020 non-null  object \n",
      " 8   date         617020 non-null  object \n",
      "dtypes: float64(1), int64(3), object(5)\n",
      "memory usage: 42.4+ MB\n"
     ]
    }
   ],
   "source": [
    "# observamos que el tipo de dato en las columanas concuerda con su contenido \n",
    "Total_reviews.info()"
   ]
  },
  {
   "cell_type": "code",
   "execution_count": 6,
   "metadata": {},
   "outputs": [
    {
     "data": {
      "text/plain": [
       "review_id      0\n",
       "user_id        0\n",
       "business_id    0\n",
       "stars          0\n",
       "useful         0\n",
       "funny          0\n",
       "cool           0\n",
       "text           0\n",
       "date           0\n",
       "dtype: int64"
      ]
     },
     "execution_count": 6,
     "metadata": {},
     "output_type": "execute_result"
    }
   ],
   "source": [
    "# se evidencia que el dataset no posee datos nulos\n",
    "Total_reviews.isna().sum()"
   ]
  },
  {
   "cell_type": "markdown",
   "metadata": {},
   "source": [
    "## USER"
   ]
  },
  {
   "cell_type": "markdown",
   "metadata": {},
   "source": [
    "con el dataset de reviewa filtrado tanto por estados como por nichos, se utilizaran los datos de la columna user_id para filtrar los dataset de user"
   ]
  },
  {
   "cell_type": "markdown",
   "metadata": {},
   "source": [
    "debido a que los dataset tienen mucho peso, la lectura y manejo de dichos datos se hará en bloques"
   ]
  },
  {
   "cell_type": "markdown",
   "metadata": {},
   "source": [
    "cargamos los dataset del 0 al 3"
   ]
  },
  {
   "cell_type": "code",
   "execution_count": 3,
   "metadata": {},
   "outputs": [],
   "source": [
    "#cargamos los dataset del 0 al 3\n",
    "user0 = pd.read_parquet(r'Dataset\\user\\0.parquet')\n",
    "user1 = pd.read_parquet(r'Dataset\\user\\1.parquet')\n",
    "user2 = pd.read_parquet(r'Dataset\\user\\2.parquet')\n",
    "user3 = pd.read_parquet(r'Dataset\\user\\3.parquet')\n"
   ]
  },
  {
   "cell_type": "code",
   "execution_count": 3,
   "metadata": {},
   "outputs": [
    {
     "data": {
      "text/html": [
       "<div>\n",
       "<style scoped>\n",
       "    .dataframe tbody tr th:only-of-type {\n",
       "        vertical-align: middle;\n",
       "    }\n",
       "\n",
       "    .dataframe tbody tr th {\n",
       "        vertical-align: top;\n",
       "    }\n",
       "\n",
       "    .dataframe thead th {\n",
       "        text-align: right;\n",
       "    }\n",
       "</style>\n",
       "<table border=\"1\" class=\"dataframe\">\n",
       "  <thead>\n",
       "    <tr style=\"text-align: right;\">\n",
       "      <th></th>\n",
       "      <th>user_id</th>\n",
       "      <th>name</th>\n",
       "      <th>review_count</th>\n",
       "      <th>yelping_since</th>\n",
       "      <th>useful</th>\n",
       "      <th>funny</th>\n",
       "      <th>cool</th>\n",
       "      <th>elite</th>\n",
       "      <th>friends</th>\n",
       "      <th>fans</th>\n",
       "      <th>...</th>\n",
       "      <th>compliment_more</th>\n",
       "      <th>compliment_profile</th>\n",
       "      <th>compliment_cute</th>\n",
       "      <th>compliment_list</th>\n",
       "      <th>compliment_note</th>\n",
       "      <th>compliment_plain</th>\n",
       "      <th>compliment_cool</th>\n",
       "      <th>compliment_funny</th>\n",
       "      <th>compliment_writer</th>\n",
       "      <th>compliment_photos</th>\n",
       "    </tr>\n",
       "  </thead>\n",
       "  <tbody>\n",
       "    <tr>\n",
       "      <th>0</th>\n",
       "      <td>qVc8ODYU5SZjKXVBgXdI7w</td>\n",
       "      <td>Walker</td>\n",
       "      <td>585</td>\n",
       "      <td>2007-01-25 16:47:26</td>\n",
       "      <td>7217</td>\n",
       "      <td>1259</td>\n",
       "      <td>5994</td>\n",
       "      <td>2007</td>\n",
       "      <td>NSCy54eWehBJyZdG2iE84w, pe42u7DcCH2QmI81NX-8qA...</td>\n",
       "      <td>267</td>\n",
       "      <td>...</td>\n",
       "      <td>65</td>\n",
       "      <td>55</td>\n",
       "      <td>56</td>\n",
       "      <td>18</td>\n",
       "      <td>232</td>\n",
       "      <td>844</td>\n",
       "      <td>467</td>\n",
       "      <td>467</td>\n",
       "      <td>239</td>\n",
       "      <td>180</td>\n",
       "    </tr>\n",
       "  </tbody>\n",
       "</table>\n",
       "<p>1 rows × 22 columns</p>\n",
       "</div>"
      ],
      "text/plain": [
       "                  user_id    name  review_count        yelping_since  useful  \\\n",
       "0  qVc8ODYU5SZjKXVBgXdI7w  Walker           585  2007-01-25 16:47:26    7217   \n",
       "\n",
       "   funny  cool elite                                            friends  fans  \\\n",
       "0   1259  5994  2007  NSCy54eWehBJyZdG2iE84w, pe42u7DcCH2QmI81NX-8qA...   267   \n",
       "\n",
       "   ...  compliment_more  compliment_profile  compliment_cute  compliment_list  \\\n",
       "0  ...               65                  55               56               18   \n",
       "\n",
       "   compliment_note  compliment_plain  compliment_cool  compliment_funny  \\\n",
       "0              232               844              467               467   \n",
       "\n",
       "   compliment_writer  compliment_photos  \n",
       "0                239                180  \n",
       "\n",
       "[1 rows x 22 columns]"
      ]
     },
     "execution_count": 3,
     "metadata": {},
     "output_type": "execute_result"
    }
   ],
   "source": [
    "#verificamso los datos del df\n",
    "user0.head(1)"
   ]
  },
  {
   "cell_type": "code",
   "execution_count": 8,
   "metadata": {},
   "outputs": [
    {
     "data": {
      "text/plain": [
       "(250000, 22)"
      ]
     },
     "execution_count": 8,
     "metadata": {},
     "output_type": "execute_result"
    }
   ],
   "source": [
    "# verificamos dimenciones de una pequeña muestra del los archivos\n",
    "user0.shape"
   ]
  },
  {
   "cell_type": "code",
   "execution_count": 6,
   "metadata": {},
   "outputs": [],
   "source": [
    "# Filtrar los valores únicos de user_id del DataFrame Total_reviews\n",
    "user_ids_filtrados = Total_reviews['user_id'].unique()\n",
    "\n",
    "# Filtrar el DataFrame user para que solo contenga los user_id filtrados\n",
    "user0_filtrado = user0[user0['user_id'].isin(user_ids_filtrados)]\n",
    "user1_filtrado = user1[user1['user_id'].isin(user_ids_filtrados)]\n",
    "user2_filtrado = user2[user2['user_id'].isin(user_ids_filtrados)]\n",
    "user3_filtrado = user3[user3['user_id'].isin(user_ids_filtrados)]\n"
   ]
  },
  {
   "cell_type": "code",
   "execution_count": 7,
   "metadata": {},
   "outputs": [
    {
     "name": "stdout",
     "output_type": "stream",
     "text": [
      "(58233, 22) (48500, 22) (40585, 22) (34975, 22)\n"
     ]
    }
   ],
   "source": [
    "#verificamos dimenciones resultantes luego del filtrado\n",
    "print(user0_filtrado.shape, user1_filtrado.shape,user2_filtrado.shape,user3_filtrado.shape,)"
   ]
  },
  {
   "cell_type": "code",
   "execution_count": 10,
   "metadata": {},
   "outputs": [],
   "source": [
    "# convinemos los DF \n",
    "user_1 = [user0_filtrado, user1_filtrado, user2_filtrado, user3_filtrado]\n",
    "\n",
    "# Combinar los DataFrames en uno solo\n",
    "Total_user1 = pd.concat(user_1, ignore_index=True)"
   ]
  },
  {
   "cell_type": "code",
   "execution_count": 11,
   "metadata": {},
   "outputs": [
    {
     "data": {
      "text/plain": [
       "(182293, 22)"
      ]
     },
     "execution_count": 11,
     "metadata": {},
     "output_type": "execute_result"
    }
   ],
   "source": [
    "#verificamos dimenciones\n",
    "Total_user1.shape"
   ]
  },
  {
   "cell_type": "markdown",
   "metadata": {},
   "source": [
    "El resultado de este bloque de archivos se guardara en un parquet llamado Total_user1"
   ]
  },
  {
   "cell_type": "code",
   "execution_count": 12,
   "metadata": {},
   "outputs": [],
   "source": [
    "#guardamos el dataset de reviews filtrado\n",
    "#Total_user1.to_parquet(r'Dataset_filtrados\\Total_user1')"
   ]
  },
  {
   "cell_type": "markdown",
   "metadata": {},
   "source": [
    "cargamos los dataset del 4 al 7"
   ]
  },
  {
   "cell_type": "code",
   "execution_count": 4,
   "metadata": {},
   "outputs": [],
   "source": [
    "# cargamos los dataset del 4 al 7\n",
    "user4 = pd.read_parquet(r'Dataset\\user\\4.parquet')\n",
    "user5 = pd.read_parquet(r'Dataset\\user\\5.parquet')\n",
    "user6 = pd.read_parquet(r'Dataset\\user\\6.parquet')\n",
    "user7 = pd.read_parquet(r'Dataset\\user\\7.parquet')"
   ]
  },
  {
   "cell_type": "code",
   "execution_count": 5,
   "metadata": {},
   "outputs": [],
   "source": [
    "# Filtrar los valores únicos de user_id del DataFrame Total_reviews\n",
    "user_ids_filtrados = Total_reviews['user_id'].unique()\n",
    "\n",
    "# Filtrar el DataFrame user para que solo contenga los user_id filtrados\n",
    "user4_filtrado = user4[user4['user_id'].isin(user_ids_filtrados)]\n",
    "user5_filtrado = user5[user5['user_id'].isin(user_ids_filtrados)]\n",
    "user6_filtrado = user6[user6['user_id'].isin(user_ids_filtrados)]\n",
    "user7_filtrado = user7[user7['user_id'].isin(user_ids_filtrados)]\n"
   ]
  },
  {
   "cell_type": "code",
   "execution_count": 6,
   "metadata": {},
   "outputs": [
    {
     "name": "stdout",
     "output_type": "stream",
     "text": [
      "(33971, 22) (31340, 22) (28146, 22) (26212, 22)\n"
     ]
    }
   ],
   "source": [
    "#Verificamos dimenciones\n",
    "print(user4_filtrado.shape, user5_filtrado.shape, user6_filtrado.shape, user7_filtrado.shape)\n"
   ]
  },
  {
   "cell_type": "code",
   "execution_count": 7,
   "metadata": {},
   "outputs": [],
   "source": [
    "# convinemos los DF \n",
    "user_2 = [user4_filtrado, user5_filtrado, user6_filtrado, user7_filtrado]\n",
    "\n",
    "# Combinar los DataFrames en uno solo\n",
    "Total_user2 = pd.concat(user_2, ignore_index=True)"
   ]
  },
  {
   "cell_type": "code",
   "execution_count": 8,
   "metadata": {},
   "outputs": [
    {
     "data": {
      "text/plain": [
       "(119669, 22)"
      ]
     },
     "execution_count": 8,
     "metadata": {},
     "output_type": "execute_result"
    }
   ],
   "source": [
    "#verificamos dimencion\n",
    "Total_user2.shape"
   ]
  },
  {
   "cell_type": "markdown",
   "metadata": {},
   "source": [
    "El resultado de este bloque de archivos se guardara en un parquet llamado Total_user2"
   ]
  },
  {
   "cell_type": "code",
   "execution_count": 9,
   "metadata": {},
   "outputs": [],
   "source": [
    "#guardamos el dataset de reviews filtrado\n",
    "# Total_user2.to_parquet(r'Dataset_filtrados\\Total_user2')"
   ]
  },
  {
   "cell_type": "markdown",
   "metadata": {},
   "source": [
    "Debido al tamaño de los archivos que se manejan, es necesario reiniciar el kernel. Por lo tanto, a continuación, se cargan los archivos resultantes de cada uno de los bloques de código previamente trabajados, con el propósito de unificarlos en un solo archivo Parquet y realizar una limpieza profunda de los datos."
   ]
  },
  {
   "cell_type": "code",
   "execution_count": 2,
   "metadata": {},
   "outputs": [],
   "source": [
    "#se cargan los dataset\n",
    "Total_user1 = pd.read_parquet(r'Dataset_filtrados\\Total_user1')\n",
    "Total_user2 = pd.read_parquet(r'Dataset_filtrados\\Total_user2')"
   ]
  },
  {
   "cell_type": "code",
   "execution_count": 3,
   "metadata": {},
   "outputs": [],
   "source": [
    "#unir datasets\n",
    "dataframes = [Total_user1, Total_user2]\n",
    "\n",
    "# Unir los DataFrames en uno solo\n",
    "Total_user = pd.concat(dataframes, ignore_index=True)"
   ]
  },
  {
   "cell_type": "code",
   "execution_count": 4,
   "metadata": {},
   "outputs": [
    {
     "data": {
      "text/plain": [
       "(301962, 22)"
      ]
     },
     "execution_count": 4,
     "metadata": {},
     "output_type": "execute_result"
    }
   ],
   "source": [
    "#verificamos dimenciones del resultado\n",
    "Total_user.shape"
   ]
  },
  {
   "cell_type": "markdown",
   "metadata": {},
   "source": [
    "El resultado de este bloque de archivos se guardara en un parquet llamado Total_reviews"
   ]
  },
  {
   "cell_type": "code",
   "execution_count": 5,
   "metadata": {},
   "outputs": [],
   "source": [
    "#guardamos el dataset de reviews filtrado\n",
    "Total_user.to_parquet(r'Dataset_filtrados\\Total_user')"
   ]
  },
  {
   "cell_type": "markdown",
   "metadata": {},
   "source": [
    "Con el archivo que contiene el total de user unificados y filtradas, es posible eliminar los archivos utilizados para crear dicho conjunto, ya que este archivo concentra toda la información de dichas reseñas."
   ]
  },
  {
   "cell_type": "code",
   "execution_count": 3,
   "metadata": {},
   "outputs": [],
   "source": [
    "#cargamos el archivo con el conglomerado de los users\n",
    "Total_user= pd.read_parquet(r'Dataset_filtrados\\Total_user')"
   ]
  },
  {
   "cell_type": "code",
   "execution_count": 5,
   "metadata": {},
   "outputs": [
    {
     "data": {
      "text/html": [
       "<div>\n",
       "<style scoped>\n",
       "    .dataframe tbody tr th:only-of-type {\n",
       "        vertical-align: middle;\n",
       "    }\n",
       "\n",
       "    .dataframe tbody tr th {\n",
       "        vertical-align: top;\n",
       "    }\n",
       "\n",
       "    .dataframe thead th {\n",
       "        text-align: right;\n",
       "    }\n",
       "</style>\n",
       "<table border=\"1\" class=\"dataframe\">\n",
       "  <thead>\n",
       "    <tr style=\"text-align: right;\">\n",
       "      <th></th>\n",
       "      <th>user_id</th>\n",
       "      <th>name</th>\n",
       "      <th>review_count</th>\n",
       "      <th>yelping_since</th>\n",
       "      <th>useful</th>\n",
       "      <th>funny</th>\n",
       "      <th>cool</th>\n",
       "      <th>elite</th>\n",
       "      <th>friends</th>\n",
       "      <th>fans</th>\n",
       "      <th>...</th>\n",
       "      <th>compliment_more</th>\n",
       "      <th>compliment_profile</th>\n",
       "      <th>compliment_cute</th>\n",
       "      <th>compliment_list</th>\n",
       "      <th>compliment_note</th>\n",
       "      <th>compliment_plain</th>\n",
       "      <th>compliment_cool</th>\n",
       "      <th>compliment_funny</th>\n",
       "      <th>compliment_writer</th>\n",
       "      <th>compliment_photos</th>\n",
       "    </tr>\n",
       "  </thead>\n",
       "  <tbody>\n",
       "    <tr>\n",
       "      <th>0</th>\n",
       "      <td>qVc8ODYU5SZjKXVBgXdI7w</td>\n",
       "      <td>Walker</td>\n",
       "      <td>585</td>\n",
       "      <td>2007-01-25 16:47:26</td>\n",
       "      <td>7217</td>\n",
       "      <td>1259</td>\n",
       "      <td>5994</td>\n",
       "      <td>2007</td>\n",
       "      <td>NSCy54eWehBJyZdG2iE84w, pe42u7DcCH2QmI81NX-8qA...</td>\n",
       "      <td>267</td>\n",
       "      <td>...</td>\n",
       "      <td>65</td>\n",
       "      <td>55</td>\n",
       "      <td>56</td>\n",
       "      <td>18</td>\n",
       "      <td>232</td>\n",
       "      <td>844</td>\n",
       "      <td>467</td>\n",
       "      <td>467</td>\n",
       "      <td>239</td>\n",
       "      <td>180</td>\n",
       "    </tr>\n",
       "    <tr>\n",
       "      <th>1</th>\n",
       "      <td>2WnXYQFK0hXEoTxPtV2zvg</td>\n",
       "      <td>Steph</td>\n",
       "      <td>665</td>\n",
       "      <td>2008-07-25 10:41:00</td>\n",
       "      <td>2086</td>\n",
       "      <td>1010</td>\n",
       "      <td>1003</td>\n",
       "      <td>2009,2010,2011,2012,2013</td>\n",
       "      <td>LuO3Bn4f3rlhyHIaNfTlnA, j9B4XdHUhDfTKVecyWQgyA...</td>\n",
       "      <td>52</td>\n",
       "      <td>...</td>\n",
       "      <td>13</td>\n",
       "      <td>10</td>\n",
       "      <td>17</td>\n",
       "      <td>3</td>\n",
       "      <td>66</td>\n",
       "      <td>96</td>\n",
       "      <td>119</td>\n",
       "      <td>119</td>\n",
       "      <td>35</td>\n",
       "      <td>18</td>\n",
       "    </tr>\n",
       "    <tr>\n",
       "      <th>2</th>\n",
       "      <td>q_QQ5kBBwlCcbL1s4NVK3g</td>\n",
       "      <td>Jane</td>\n",
       "      <td>1221</td>\n",
       "      <td>2005-03-14 20:26:35</td>\n",
       "      <td>14953</td>\n",
       "      <td>9940</td>\n",
       "      <td>11211</td>\n",
       "      <td>2006,2007,2008,2009,2010,2011,2012,2013,2014</td>\n",
       "      <td>xBDpTUbai0DXrvxCe3X16Q, 7GPNBO496aecrjJfW6UWtg...</td>\n",
       "      <td>1357</td>\n",
       "      <td>...</td>\n",
       "      <td>163</td>\n",
       "      <td>191</td>\n",
       "      <td>361</td>\n",
       "      <td>147</td>\n",
       "      <td>1212</td>\n",
       "      <td>5696</td>\n",
       "      <td>2543</td>\n",
       "      <td>2543</td>\n",
       "      <td>815</td>\n",
       "      <td>323</td>\n",
       "    </tr>\n",
       "    <tr>\n",
       "      <th>3</th>\n",
       "      <td>xoZvMJPDW6Q9pDAXI0e_Ww</td>\n",
       "      <td>Ryan</td>\n",
       "      <td>535</td>\n",
       "      <td>2009-05-27 06:12:10</td>\n",
       "      <td>1130</td>\n",
       "      <td>487</td>\n",
       "      <td>573</td>\n",
       "      <td>2009,2010,2011,2012</td>\n",
       "      <td>6tbXpUIU6upoeqWNDo9k_A, Vlab9b73R5qPLIv6tE4DJA...</td>\n",
       "      <td>31</td>\n",
       "      <td>...</td>\n",
       "      <td>9</td>\n",
       "      <td>1</td>\n",
       "      <td>3</td>\n",
       "      <td>5</td>\n",
       "      <td>31</td>\n",
       "      <td>41</td>\n",
       "      <td>36</td>\n",
       "      <td>36</td>\n",
       "      <td>24</td>\n",
       "      <td>7</td>\n",
       "    </tr>\n",
       "    <tr>\n",
       "      <th>4</th>\n",
       "      <td>vVukUtqoLF5BvH_VtQFNoA</td>\n",
       "      <td>Charlene</td>\n",
       "      <td>37</td>\n",
       "      <td>2011-01-29 17:18:59</td>\n",
       "      <td>63</td>\n",
       "      <td>3</td>\n",
       "      <td>27</td>\n",
       "      <td></td>\n",
       "      <td>zkK6c9BcDyqreU0fqI_JLQ, opI1hhhFqElB6pptNH9ZqA...</td>\n",
       "      <td>4</td>\n",
       "      <td>...</td>\n",
       "      <td>0</td>\n",
       "      <td>0</td>\n",
       "      <td>0</td>\n",
       "      <td>0</td>\n",
       "      <td>1</td>\n",
       "      <td>5</td>\n",
       "      <td>0</td>\n",
       "      <td>0</td>\n",
       "      <td>1</td>\n",
       "      <td>0</td>\n",
       "    </tr>\n",
       "  </tbody>\n",
       "</table>\n",
       "<p>5 rows × 22 columns</p>\n",
       "</div>"
      ],
      "text/plain": [
       "                  user_id      name  review_count        yelping_since  \\\n",
       "0  qVc8ODYU5SZjKXVBgXdI7w    Walker           585  2007-01-25 16:47:26   \n",
       "1  2WnXYQFK0hXEoTxPtV2zvg     Steph           665  2008-07-25 10:41:00   \n",
       "2  q_QQ5kBBwlCcbL1s4NVK3g      Jane          1221  2005-03-14 20:26:35   \n",
       "3  xoZvMJPDW6Q9pDAXI0e_Ww      Ryan           535  2009-05-27 06:12:10   \n",
       "4  vVukUtqoLF5BvH_VtQFNoA  Charlene            37  2011-01-29 17:18:59   \n",
       "\n",
       "   useful  funny   cool                                         elite  \\\n",
       "0    7217   1259   5994                                          2007   \n",
       "1    2086   1010   1003                      2009,2010,2011,2012,2013   \n",
       "2   14953   9940  11211  2006,2007,2008,2009,2010,2011,2012,2013,2014   \n",
       "3    1130    487    573                           2009,2010,2011,2012   \n",
       "4      63      3     27                                                 \n",
       "\n",
       "                                             friends  fans  ...  \\\n",
       "0  NSCy54eWehBJyZdG2iE84w, pe42u7DcCH2QmI81NX-8qA...   267  ...   \n",
       "1  LuO3Bn4f3rlhyHIaNfTlnA, j9B4XdHUhDfTKVecyWQgyA...    52  ...   \n",
       "2  xBDpTUbai0DXrvxCe3X16Q, 7GPNBO496aecrjJfW6UWtg...  1357  ...   \n",
       "3  6tbXpUIU6upoeqWNDo9k_A, Vlab9b73R5qPLIv6tE4DJA...    31  ...   \n",
       "4  zkK6c9BcDyqreU0fqI_JLQ, opI1hhhFqElB6pptNH9ZqA...     4  ...   \n",
       "\n",
       "   compliment_more  compliment_profile  compliment_cute  compliment_list  \\\n",
       "0               65                  55               56               18   \n",
       "1               13                  10               17                3   \n",
       "2              163                 191              361              147   \n",
       "3                9                   1                3                5   \n",
       "4                0                   0                0                0   \n",
       "\n",
       "   compliment_note  compliment_plain  compliment_cool  compliment_funny  \\\n",
       "0              232               844              467               467   \n",
       "1               66                96              119               119   \n",
       "2             1212              5696             2543              2543   \n",
       "3               31                41               36                36   \n",
       "4                1                 5                0                 0   \n",
       "\n",
       "   compliment_writer  compliment_photos  \n",
       "0                239                180  \n",
       "1                 35                 18  \n",
       "2                815                323  \n",
       "3                 24                  7  \n",
       "4                  1                  0  \n",
       "\n",
       "[5 rows x 22 columns]"
      ]
     },
     "execution_count": 5,
     "metadata": {},
     "output_type": "execute_result"
    }
   ],
   "source": [
    "#vemos los datos de forma general con el .head()\n",
    "Total_user.head()"
   ]
  },
  {
   "cell_type": "code",
   "execution_count": 4,
   "metadata": {},
   "outputs": [
    {
     "data": {
      "text/plain": [
       "(301962, 22)"
      ]
     },
     "execution_count": 4,
     "metadata": {},
     "output_type": "execute_result"
    }
   ],
   "source": [
    "#verificamos dimenciones\n",
    "Total_user.shape"
   ]
  },
  {
   "cell_type": "code",
   "execution_count": 7,
   "metadata": {},
   "outputs": [
    {
     "name": "stdout",
     "output_type": "stream",
     "text": [
      "<class 'pandas.core.frame.DataFrame'>\n",
      "RangeIndex: 301962 entries, 0 to 301961\n",
      "Data columns (total 22 columns):\n",
      " #   Column              Non-Null Count   Dtype  \n",
      "---  ------              --------------   -----  \n",
      " 0   user_id             301962 non-null  object \n",
      " 1   name                301962 non-null  object \n",
      " 2   review_count        301962 non-null  int64  \n",
      " 3   yelping_since       301962 non-null  object \n",
      " 4   useful              301962 non-null  int64  \n",
      " 5   funny               301962 non-null  int64  \n",
      " 6   cool                301962 non-null  int64  \n",
      " 7   elite               301962 non-null  object \n",
      " 8   friends             301962 non-null  object \n",
      " 9   fans                301962 non-null  int64  \n",
      " 10  average_stars       301962 non-null  float64\n",
      " 11  compliment_hot      301962 non-null  int64  \n",
      " 12  compliment_more     301962 non-null  int64  \n",
      " 13  compliment_profile  301962 non-null  int64  \n",
      " 14  compliment_cute     301962 non-null  int64  \n",
      " 15  compliment_list     301962 non-null  int64  \n",
      " 16  compliment_note     301962 non-null  int64  \n",
      " 17  compliment_plain    301962 non-null  int64  \n",
      " 18  compliment_cool     301962 non-null  int64  \n",
      " 19  compliment_funny    301962 non-null  int64  \n",
      " 20  compliment_writer   301962 non-null  int64  \n",
      " 21  compliment_photos   301962 non-null  int64  \n",
      "dtypes: float64(1), int64(16), object(5)\n",
      "memory usage: 50.7+ MB\n"
     ]
    }
   ],
   "source": [
    "#informacion general de los datos\n",
    "Total_user.info()\n",
    "#observamos que el tipo de dato en las columanas concuerda con su contenido "
   ]
  },
  {
   "cell_type": "code",
   "execution_count": 8,
   "metadata": {},
   "outputs": [
    {
     "data": {
      "text/plain": [
       "user_id               0\n",
       "name                  0\n",
       "review_count          0\n",
       "yelping_since         0\n",
       "useful                0\n",
       "funny                 0\n",
       "cool                  0\n",
       "elite                 0\n",
       "friends               0\n",
       "fans                  0\n",
       "average_stars         0\n",
       "compliment_hot        0\n",
       "compliment_more       0\n",
       "compliment_profile    0\n",
       "compliment_cute       0\n",
       "compliment_list       0\n",
       "compliment_note       0\n",
       "compliment_plain      0\n",
       "compliment_cool       0\n",
       "compliment_funny      0\n",
       "compliment_writer     0\n",
       "compliment_photos     0\n",
       "dtype: int64"
      ]
     },
     "execution_count": 8,
     "metadata": {},
     "output_type": "execute_result"
    }
   ],
   "source": [
    "#verificacion de datos nulos\n",
    "Total_user.isna().sum()\n",
    "#el dataset no posee datos nulos"
   ]
  },
  {
   "cell_type": "markdown",
   "metadata": {},
   "source": [
    "## tips"
   ]
  },
  {
   "cell_type": "code",
   "execution_count": 9,
   "metadata": {},
   "outputs": [],
   "source": [
    "#cargamos el dataset de tips\n",
    "tips = pd.read_json('Dataset\\yelp_academic_dataset_tip.json', lines= True)"
   ]
  },
  {
   "cell_type": "code",
   "execution_count": 10,
   "metadata": {},
   "outputs": [
    {
     "data": {
      "text/html": [
       "<div>\n",
       "<style scoped>\n",
       "    .dataframe tbody tr th:only-of-type {\n",
       "        vertical-align: middle;\n",
       "    }\n",
       "\n",
       "    .dataframe tbody tr th {\n",
       "        vertical-align: top;\n",
       "    }\n",
       "\n",
       "    .dataframe thead th {\n",
       "        text-align: right;\n",
       "    }\n",
       "</style>\n",
       "<table border=\"1\" class=\"dataframe\">\n",
       "  <thead>\n",
       "    <tr style=\"text-align: right;\">\n",
       "      <th></th>\n",
       "      <th>user_id</th>\n",
       "      <th>business_id</th>\n",
       "      <th>text</th>\n",
       "      <th>date</th>\n",
       "      <th>compliment_count</th>\n",
       "    </tr>\n",
       "  </thead>\n",
       "  <tbody>\n",
       "    <tr>\n",
       "      <th>0</th>\n",
       "      <td>AGNUgVwnZUey3gcPCJ76iw</td>\n",
       "      <td>3uLgwr0qeCNMjKenHJwPGQ</td>\n",
       "      <td>Avengers time with the ladies.</td>\n",
       "      <td>2012-05-18 02:17:21</td>\n",
       "      <td>0</td>\n",
       "    </tr>\n",
       "    <tr>\n",
       "      <th>1</th>\n",
       "      <td>NBN4MgHP9D3cw--SnauTkA</td>\n",
       "      <td>QoezRbYQncpRqyrLH6Iqjg</td>\n",
       "      <td>They have lots of good deserts and tasty cuban...</td>\n",
       "      <td>2013-02-05 18:35:10</td>\n",
       "      <td>0</td>\n",
       "    </tr>\n",
       "    <tr>\n",
       "      <th>2</th>\n",
       "      <td>-copOvldyKh1qr-vzkDEvw</td>\n",
       "      <td>MYoRNLb5chwjQe3c_k37Gg</td>\n",
       "      <td>It's open even when you think it isn't</td>\n",
       "      <td>2013-08-18 00:56:08</td>\n",
       "      <td>0</td>\n",
       "    </tr>\n",
       "    <tr>\n",
       "      <th>3</th>\n",
       "      <td>FjMQVZjSqY8syIO-53KFKw</td>\n",
       "      <td>hV-bABTK-glh5wj31ps_Jw</td>\n",
       "      <td>Very decent fried chicken</td>\n",
       "      <td>2017-06-27 23:05:38</td>\n",
       "      <td>0</td>\n",
       "    </tr>\n",
       "    <tr>\n",
       "      <th>4</th>\n",
       "      <td>ld0AperBXk1h6UbqmM80zw</td>\n",
       "      <td>_uN0OudeJ3Zl_tf6nxg5ww</td>\n",
       "      <td>Appetizers.. platter special for lunch</td>\n",
       "      <td>2012-10-06 19:43:09</td>\n",
       "      <td>0</td>\n",
       "    </tr>\n",
       "  </tbody>\n",
       "</table>\n",
       "</div>"
      ],
      "text/plain": [
       "                  user_id             business_id  \\\n",
       "0  AGNUgVwnZUey3gcPCJ76iw  3uLgwr0qeCNMjKenHJwPGQ   \n",
       "1  NBN4MgHP9D3cw--SnauTkA  QoezRbYQncpRqyrLH6Iqjg   \n",
       "2  -copOvldyKh1qr-vzkDEvw  MYoRNLb5chwjQe3c_k37Gg   \n",
       "3  FjMQVZjSqY8syIO-53KFKw  hV-bABTK-glh5wj31ps_Jw   \n",
       "4  ld0AperBXk1h6UbqmM80zw  _uN0OudeJ3Zl_tf6nxg5ww   \n",
       "\n",
       "                                                text                date  \\\n",
       "0                     Avengers time with the ladies. 2012-05-18 02:17:21   \n",
       "1  They have lots of good deserts and tasty cuban... 2013-02-05 18:35:10   \n",
       "2             It's open even when you think it isn't 2013-08-18 00:56:08   \n",
       "3                          Very decent fried chicken 2017-06-27 23:05:38   \n",
       "4             Appetizers.. platter special for lunch 2012-10-06 19:43:09   \n",
       "\n",
       "   compliment_count  \n",
       "0                 0  \n",
       "1                 0  \n",
       "2                 0  \n",
       "3                 0  \n",
       "4                 0  "
      ]
     },
     "execution_count": 10,
     "metadata": {},
     "output_type": "execute_result"
    }
   ],
   "source": [
    "# observamos de forma general los datos contenidos\n",
    "tips.head()"
   ]
  },
  {
   "cell_type": "code",
   "execution_count": 11,
   "metadata": {},
   "outputs": [
    {
     "data": {
      "text/plain": [
       "(908915, 5)"
      ]
     },
     "execution_count": 11,
     "metadata": {},
     "output_type": "execute_result"
    }
   ],
   "source": [
    "#verificamos dimenciones\n",
    "tips.shape"
   ]
  },
  {
   "cell_type": "code",
   "execution_count": 13,
   "metadata": {},
   "outputs": [],
   "source": [
    "Total_reviews=pd.read_parquet('Dataset_filtrados\\Total_reviews')"
   ]
  },
  {
   "cell_type": "code",
   "execution_count": 14,
   "metadata": {},
   "outputs": [],
   "source": [
    "# Filtrar los valores únicos de user_id del DataFrame Total_reviews\n",
    "business_ids_filtrados = Total_reviews['business_id'].unique()\n",
    "\n",
    "# Filtrar el DataFrame tips para que solo contenga los business_id filtrados\n",
    "tips_filtrado1 = tips[tips['business_id'].isin(business_ids_filtrados)]"
   ]
  },
  {
   "cell_type": "code",
   "execution_count": 15,
   "metadata": {},
   "outputs": [
    {
     "data": {
      "text/plain": [
       "(79661, 5)"
      ]
     },
     "execution_count": 15,
     "metadata": {},
     "output_type": "execute_result"
    }
   ],
   "source": [
    "#verificamos dimenciones\n",
    "tips_filtrado1.shape"
   ]
  },
  {
   "cell_type": "code",
   "execution_count": 16,
   "metadata": {},
   "outputs": [],
   "source": [
    "# Filtrar los valores únicos de user_id del DataFrame Total_reviews\n",
    "user_ids_filtrados = Total_reviews['user_id'].unique()\n",
    "\n",
    "# Filtrar el DataFrame tips para que solo contenga los user_id filtrados\n",
    "tips_filtrado_completo = tips_filtrado1[tips_filtrado1['user_id'].isin(user_ids_filtrados)]\n"
   ]
  },
  {
   "cell_type": "code",
   "execution_count": 17,
   "metadata": {},
   "outputs": [
    {
     "data": {
      "text/plain": [
       "(66363, 5)"
      ]
     },
     "execution_count": 17,
     "metadata": {},
     "output_type": "execute_result"
    }
   ],
   "source": [
    "#verificamos dimenciones\n",
    "tips_filtrado_completo.shape"
   ]
  },
  {
   "cell_type": "markdown",
   "metadata": {},
   "source": [
    "Con esto garantizamos que el dataset de tips solo contenga el ID de los negocios que seleccionamos y el ID de los usuarios ya identificados en el taller de user"
   ]
  },
  {
   "cell_type": "code",
   "execution_count": 19,
   "metadata": {},
   "outputs": [
    {
     "data": {
      "text/html": [
       "<div>\n",
       "<style scoped>\n",
       "    .dataframe tbody tr th:only-of-type {\n",
       "        vertical-align: middle;\n",
       "    }\n",
       "\n",
       "    .dataframe tbody tr th {\n",
       "        vertical-align: top;\n",
       "    }\n",
       "\n",
       "    .dataframe thead th {\n",
       "        text-align: right;\n",
       "    }\n",
       "</style>\n",
       "<table border=\"1\" class=\"dataframe\">\n",
       "  <thead>\n",
       "    <tr style=\"text-align: right;\">\n",
       "      <th></th>\n",
       "      <th>user_id</th>\n",
       "      <th>business_id</th>\n",
       "      <th>text</th>\n",
       "      <th>date</th>\n",
       "      <th>compliment_count</th>\n",
       "    </tr>\n",
       "  </thead>\n",
       "  <tbody>\n",
       "    <tr>\n",
       "      <th>8</th>\n",
       "      <td>VL12EhEdT4OWqGq0nIqkzw</td>\n",
       "      <td>xODBZmX4EmlVvbqtKN7YKg</td>\n",
       "      <td>Tacos</td>\n",
       "      <td>2012-07-27 01:48:24</td>\n",
       "      <td>0</td>\n",
       "    </tr>\n",
       "    <tr>\n",
       "      <th>13</th>\n",
       "      <td>MlnuJ7T14CE0JDK2ZIOx5g</td>\n",
       "      <td>MDr7KLYSPkEonvGojNEMBw</td>\n",
       "      <td>Let's go Yankees!</td>\n",
       "      <td>2011-07-20 21:52:57</td>\n",
       "      <td>0</td>\n",
       "    </tr>\n",
       "    <tr>\n",
       "      <th>15</th>\n",
       "      <td>j2sEA3hiUcwHfq9Ml6M47g</td>\n",
       "      <td>EXYbKA1tocvOK_1tXxZXLA</td>\n",
       "      <td>Don't go for dinner. They close at 6. Really Y...</td>\n",
       "      <td>2011-10-13 03:15:15</td>\n",
       "      <td>0</td>\n",
       "    </tr>\n",
       "    <tr>\n",
       "      <th>22</th>\n",
       "      <td>phKNHTaokisQkZ7qQbxryA</td>\n",
       "      <td>pWuoHHu0LuVrD0HjadDygg</td>\n",
       "      <td>Crepes please!!!</td>\n",
       "      <td>2010-11-21 20:52:49</td>\n",
       "      <td>0</td>\n",
       "    </tr>\n",
       "    <tr>\n",
       "      <th>30</th>\n",
       "      <td>jDThlALkraoQLLBYHqY7FQ</td>\n",
       "      <td>9DJhhBqQSu-gTBwaqdhgpQ</td>\n",
       "      <td>Come early for the best service as they fill u...</td>\n",
       "      <td>2016-01-16 19:13:57</td>\n",
       "      <td>0</td>\n",
       "    </tr>\n",
       "  </tbody>\n",
       "</table>\n",
       "</div>"
      ],
      "text/plain": [
       "                   user_id             business_id  \\\n",
       "8   VL12EhEdT4OWqGq0nIqkzw  xODBZmX4EmlVvbqtKN7YKg   \n",
       "13  MlnuJ7T14CE0JDK2ZIOx5g  MDr7KLYSPkEonvGojNEMBw   \n",
       "15  j2sEA3hiUcwHfq9Ml6M47g  EXYbKA1tocvOK_1tXxZXLA   \n",
       "22  phKNHTaokisQkZ7qQbxryA  pWuoHHu0LuVrD0HjadDygg   \n",
       "30  jDThlALkraoQLLBYHqY7FQ  9DJhhBqQSu-gTBwaqdhgpQ   \n",
       "\n",
       "                                                 text                date  \\\n",
       "8                                               Tacos 2012-07-27 01:48:24   \n",
       "13                                  Let's go Yankees! 2011-07-20 21:52:57   \n",
       "15  Don't go for dinner. They close at 6. Really Y... 2011-10-13 03:15:15   \n",
       "22                                   Crepes please!!! 2010-11-21 20:52:49   \n",
       "30  Come early for the best service as they fill u... 2016-01-16 19:13:57   \n",
       "\n",
       "    compliment_count  \n",
       "8                  0  \n",
       "13                 0  \n",
       "15                 0  \n",
       "22                 0  \n",
       "30                 0  "
      ]
     },
     "execution_count": 19,
     "metadata": {},
     "output_type": "execute_result"
    }
   ],
   "source": [
    "# hagamos ETL enel DF de tips_filtrado_completo\n",
    "#verifiquemos informacion con un .head()\n",
    "tips_filtrado_completo.head()"
   ]
  },
  {
   "cell_type": "code",
   "execution_count": 20,
   "metadata": {},
   "outputs": [
    {
     "name": "stdout",
     "output_type": "stream",
     "text": [
      "<class 'pandas.core.frame.DataFrame'>\n",
      "Index: 66363 entries, 8 to 908908\n",
      "Data columns (total 5 columns):\n",
      " #   Column            Non-Null Count  Dtype         \n",
      "---  ------            --------------  -----         \n",
      " 0   user_id           66363 non-null  object        \n",
      " 1   business_id       66363 non-null  object        \n",
      " 2   text              66363 non-null  object        \n",
      " 3   date              66363 non-null  datetime64[ns]\n",
      " 4   compliment_count  66363 non-null  int64         \n",
      "dtypes: datetime64[ns](1), int64(1), object(3)\n",
      "memory usage: 3.0+ MB\n"
     ]
    }
   ],
   "source": [
    "#verificamosinformacion general\n",
    "tips_filtrado_completo.info()\n",
    "#observamos que el tipo de dato en las columanas concuerda con su contenido "
   ]
  },
  {
   "cell_type": "code",
   "execution_count": 21,
   "metadata": {},
   "outputs": [
    {
     "data": {
      "text/plain": [
       "user_id             0\n",
       "business_id         0\n",
       "text                0\n",
       "date                0\n",
       "compliment_count    0\n",
       "dtype: int64"
      ]
     },
     "execution_count": 21,
     "metadata": {},
     "output_type": "execute_result"
    }
   ],
   "source": [
    "#identifiacionde datos nulos.\n",
    "tips_filtrado_completo.isna().sum()\n",
    "#el dataset no posee datos nulos"
   ]
  },
  {
   "cell_type": "markdown",
   "metadata": {},
   "source": [
    "guardamos el DF en un nuevo archivo llamado Total_tips"
   ]
  },
  {
   "cell_type": "code",
   "execution_count": 22,
   "metadata": {},
   "outputs": [],
   "source": [
    "tips_filtrado_completo.to_parquet(r'Dataset_filtrados\\Total_tips')\n"
   ]
  },
  {
   "cell_type": "markdown",
   "metadata": {},
   "source": [
    "## checkin"
   ]
  },
  {
   "cell_type": "code",
   "execution_count": 23,
   "metadata": {},
   "outputs": [],
   "source": [
    "#cargamos el dataset\n",
    "checkin = pd.read_json('Dataset\\yelp_academic_dataset_checkin.json', lines = True)"
   ]
  },
  {
   "cell_type": "code",
   "execution_count": 24,
   "metadata": {},
   "outputs": [
    {
     "data": {
      "text/html": [
       "<div>\n",
       "<style scoped>\n",
       "    .dataframe tbody tr th:only-of-type {\n",
       "        vertical-align: middle;\n",
       "    }\n",
       "\n",
       "    .dataframe tbody tr th {\n",
       "        vertical-align: top;\n",
       "    }\n",
       "\n",
       "    .dataframe thead th {\n",
       "        text-align: right;\n",
       "    }\n",
       "</style>\n",
       "<table border=\"1\" class=\"dataframe\">\n",
       "  <thead>\n",
       "    <tr style=\"text-align: right;\">\n",
       "      <th></th>\n",
       "      <th>business_id</th>\n",
       "      <th>date</th>\n",
       "    </tr>\n",
       "  </thead>\n",
       "  <tbody>\n",
       "    <tr>\n",
       "      <th>0</th>\n",
       "      <td>---kPU91CF4Lq2-WlRu9Lw</td>\n",
       "      <td>2020-03-13 21:10:56, 2020-06-02 22:18:06, 2020...</td>\n",
       "    </tr>\n",
       "    <tr>\n",
       "      <th>1</th>\n",
       "      <td>--0iUa4sNDFiZFrAdIWhZQ</td>\n",
       "      <td>2010-09-13 21:43:09, 2011-05-04 23:08:15, 2011...</td>\n",
       "    </tr>\n",
       "    <tr>\n",
       "      <th>2</th>\n",
       "      <td>--30_8IhuyMHbSOcNWd6DQ</td>\n",
       "      <td>2013-06-14 23:29:17, 2014-08-13 23:20:22</td>\n",
       "    </tr>\n",
       "    <tr>\n",
       "      <th>3</th>\n",
       "      <td>--7PUidqRWpRSpXebiyxTg</td>\n",
       "      <td>2011-02-15 17:12:00, 2011-07-28 02:46:10, 2012...</td>\n",
       "    </tr>\n",
       "    <tr>\n",
       "      <th>4</th>\n",
       "      <td>--7jw19RH9JKXgFohspgQw</td>\n",
       "      <td>2014-04-21 20:42:11, 2014-04-28 21:04:46, 2014...</td>\n",
       "    </tr>\n",
       "  </tbody>\n",
       "</table>\n",
       "</div>"
      ],
      "text/plain": [
       "              business_id                                               date\n",
       "0  ---kPU91CF4Lq2-WlRu9Lw  2020-03-13 21:10:56, 2020-06-02 22:18:06, 2020...\n",
       "1  --0iUa4sNDFiZFrAdIWhZQ  2010-09-13 21:43:09, 2011-05-04 23:08:15, 2011...\n",
       "2  --30_8IhuyMHbSOcNWd6DQ           2013-06-14 23:29:17, 2014-08-13 23:20:22\n",
       "3  --7PUidqRWpRSpXebiyxTg  2011-02-15 17:12:00, 2011-07-28 02:46:10, 2012...\n",
       "4  --7jw19RH9JKXgFohspgQw  2014-04-21 20:42:11, 2014-04-28 21:04:46, 2014..."
      ]
     },
     "execution_count": 24,
     "metadata": {},
     "output_type": "execute_result"
    }
   ],
   "source": [
    "#vemos como se conforma la informacion de manera genral\n",
    "checkin.head()"
   ]
  },
  {
   "cell_type": "code",
   "execution_count": 25,
   "metadata": {},
   "outputs": [
    {
     "data": {
      "text/plain": [
       "(131930, 2)"
      ]
     },
     "execution_count": 25,
     "metadata": {},
     "output_type": "execute_result"
    }
   ],
   "source": [
    "#verificamos informacion\n",
    "checkin.shape"
   ]
  },
  {
   "cell_type": "code",
   "execution_count": 26,
   "metadata": {},
   "outputs": [],
   "source": [
    "# Filtrar los valores únicos de user_id del DataFrame Total_reviews\n",
    "business_ids_filtrados = Total_reviews['business_id'].unique()\n",
    "\n",
    "# Filtrar el DataFrame checkin para que solo contenga los business_id filtrados\n",
    "Total_checkin = checkin[checkin['business_id'].isin(business_ids_filtrados)]"
   ]
  },
  {
   "cell_type": "code",
   "execution_count": 27,
   "metadata": {},
   "outputs": [
    {
     "data": {
      "text/plain": [
       "(5670, 2)"
      ]
     },
     "execution_count": 27,
     "metadata": {},
     "output_type": "execute_result"
    }
   ],
   "source": [
    "#verificamos dimenciones\n",
    "Total_checkin.shape"
   ]
  },
  {
   "cell_type": "code",
   "execution_count": 28,
   "metadata": {},
   "outputs": [
    {
     "name": "stdout",
     "output_type": "stream",
     "text": [
      "<class 'pandas.core.frame.DataFrame'>\n",
      "Index: 5670 entries, 7 to 131913\n",
      "Data columns (total 2 columns):\n",
      " #   Column       Non-Null Count  Dtype \n",
      "---  ------       --------------  ----- \n",
      " 0   business_id  5670 non-null   object\n",
      " 1   date         5670 non-null   object\n",
      "dtypes: object(2)\n",
      "memory usage: 132.9+ KB\n"
     ]
    }
   ],
   "source": [
    "#verificamosinformacion general\n",
    "Total_checkin.info()\n",
    "#observamos que el tipo de dato en las columanas concuerda con su contenido "
   ]
  },
  {
   "cell_type": "code",
   "execution_count": 29,
   "metadata": {},
   "outputs": [
    {
     "data": {
      "text/plain": [
       "business_id    0\n",
       "date           0\n",
       "dtype: int64"
      ]
     },
     "execution_count": 29,
     "metadata": {},
     "output_type": "execute_result"
    }
   ],
   "source": [
    "#identifiacionde datos nulos.\n",
    "Total_checkin.isna().sum()\n",
    "#el dataset no posee datos nulos"
   ]
  },
  {
   "cell_type": "markdown",
   "metadata": {},
   "source": [
    "guardamos el DF en un nuevo archivo llamado tips_checkin"
   ]
  },
  {
   "cell_type": "code",
   "execution_count": 30,
   "metadata": {},
   "outputs": [],
   "source": [
    "Total_checkin.to_parquet(r'Dataset_filtrados\\Total_checkin')\n"
   ]
  },
  {
   "cell_type": "markdown",
   "metadata": {},
   "source": [
    "# Eliminar Columnas"
   ]
  },
  {
   "cell_type": "markdown",
   "metadata": {},
   "source": [
    "Información a considerar para el siguiente parte de ETL.\n",
    "- 1 se borrarán las columnas que no influyan en los KPI que se plantearon para este proyecto. \n",
    "- 2 debajo de cada conjunto de código de cada datase estará el diccionario explicativo del contenido de cada columna.\n",
    " \n"
   ]
  },
  {
   "cell_type": "code",
   "execution_count": null,
   "metadata": {},
   "outputs": [],
   "source": [
    "import pandas as pd"
   ]
  },
  {
   "cell_type": "code",
   "execution_count": null,
   "metadata": {},
   "outputs": [],
   "source": [
    "# Configurar para mostrar todas las columnas y filas en la salida\n",
    "pd.set_option('display.max_columns', None)\n",
    "pd.set_option('display.max_rows', None)\n",
    "pd.set_option('display.width', None)"
   ]
  },
  {
   "cell_type": "code",
   "execution_count": null,
   "metadata": {},
   "outputs": [],
   "source": [
    "# cargamos cada uno de los dataset\n",
    "business = pd.read_parquet(r'Dataset_filtrados\\business_filtrado_completo')\n",
    "checkin = pd.read_parquet(r'Dataset_filtrados\\Total_checkin')\n",
    "review = pd.read_parquet(r'Dataset_filtrados\\Total_reviews')\n",
    "tips = pd.read_parquet(r'Dataset_filtrados\\Total_tips')\n",
    "user = pd.read_parquet(r'Dataset_filtrados\\Total_user')\n"
   ]
  },
  {
   "cell_type": "markdown",
   "metadata": {},
   "source": [
    "## business"
   ]
  },
  {
   "cell_type": "code",
   "execution_count": null,
   "metadata": {},
   "outputs": [
    {
     "data": {
      "text/html": [
       "<div>\n",
       "<style scoped>\n",
       "    .dataframe tbody tr th:only-of-type {\n",
       "        vertical-align: middle;\n",
       "    }\n",
       "\n",
       "    .dataframe tbody tr th {\n",
       "        vertical-align: top;\n",
       "    }\n",
       "\n",
       "    .dataframe thead th {\n",
       "        text-align: right;\n",
       "    }\n",
       "</style>\n",
       "<table border=\"1\" class=\"dataframe\">\n",
       "  <thead>\n",
       "    <tr style=\"text-align: right;\">\n",
       "      <th></th>\n",
       "      <th>business_id</th>\n",
       "      <th>name</th>\n",
       "      <th>address</th>\n",
       "      <th>city</th>\n",
       "      <th>state</th>\n",
       "      <th>postal_code</th>\n",
       "      <th>latitude</th>\n",
       "      <th>longitude</th>\n",
       "      <th>stars</th>\n",
       "      <th>review_count</th>\n",
       "      <th>is_open</th>\n",
       "      <th>attributes</th>\n",
       "      <th>categories</th>\n",
       "      <th>hours</th>\n",
       "    </tr>\n",
       "  </thead>\n",
       "  <tbody>\n",
       "    <tr>\n",
       "      <th>39</th>\n",
       "      <td>fSCNwMtNNQY9QT69Cj9fiA</td>\n",
       "      <td>Sierra Pro Events</td>\n",
       "      <td></td>\n",
       "      <td>Sparks</td>\n",
       "      <td>NV</td>\n",
       "      <td>89431</td>\n",
       "      <td>39.540154</td>\n",
       "      <td>-119.748395</td>\n",
       "      <td>5.0</td>\n",
       "      <td>7</td>\n",
       "      <td>1</td>\n",
       "      <td>{'AcceptsInsurance': None, 'AgesAllowed': None...</td>\n",
       "      <td>Musicians, DJs, Karaoke, Event Planning &amp; Serv...</td>\n",
       "      <td>{'Friday': '9:0-17:0', 'Monday': '9:0-17:0', '...</td>\n",
       "    </tr>\n",
       "  </tbody>\n",
       "</table>\n",
       "</div>"
      ],
      "text/plain": [
       "               business_id               name address    city state  \\\n",
       "39  fSCNwMtNNQY9QT69Cj9fiA  Sierra Pro Events          Sparks    NV   \n",
       "\n",
       "   postal_code   latitude   longitude  stars  review_count  is_open  \\\n",
       "39       89431  39.540154 -119.748395    5.0             7        1   \n",
       "\n",
       "                                           attributes  \\\n",
       "39  {'AcceptsInsurance': None, 'AgesAllowed': None...   \n",
       "\n",
       "                                           categories  \\\n",
       "39  Musicians, DJs, Karaoke, Event Planning & Serv...   \n",
       "\n",
       "                                                hours  \n",
       "39  {'Friday': '9:0-17:0', 'Monday': '9:0-17:0', '...  "
      ]
     },
     "metadata": {},
     "output_type": "display_data"
    }
   ],
   "source": [
    "#verificamos informacion general\n",
    "business.head(1)"
   ]
  },
  {
   "cell_type": "code",
   "execution_count": null,
   "metadata": {},
   "outputs": [
    {
     "data": {
      "text/plain": [
       "Index(['business_id', 'name', 'address', 'city', 'state', 'postal_code',\n",
       "       'latitude', 'longitude', 'stars', 'review_count', 'is_open',\n",
       "       'attributes', 'categories', 'hours'],\n",
       "      dtype='object')"
      ]
     },
     "metadata": {},
     "output_type": "display_data"
    }
   ],
   "source": [
    "#Visuaisamos columnas\n",
    "business.columns"
   ]
  },
  {
   "cell_type": "markdown",
   "metadata": {},
   "source": [
    "Considerando los kpis, se ha tomado la decisión de eliminar as columnas que no tendrían influencia en estos con el fin de aligerar el peso de los dataset y mejorar su almacenamiento.\n",
    "\n",
    "Por lo tanto las columnas 'is_open', 'hours', 'attributes’, al no tener información que se utilizara en el sistema de recomendación  y en la medición de los kpis serán eliminadas. \n"
   ]
  },
  {
   "cell_type": "code",
   "execution_count": null,
   "metadata": {},
   "outputs": [],
   "source": [
    "columnas_a_eliminar = ['is_open', 'hours', 'attributes']\n",
    "business.drop(columns=columnas_a_eliminar, inplace=True)\n"
   ]
  },
  {
   "cell_type": "code",
   "execution_count": null,
   "metadata": {},
   "outputs": [
    {
     "data": {
      "text/plain": [
       "Index(['business_id', 'name', 'address', 'city', 'state', 'postal_code',\n",
       "       'latitude', 'longitude', 'stars', 'review_count', 'categories'],\n",
       "      dtype='object')"
      ]
     },
     "metadata": {},
     "output_type": "display_data"
    }
   ],
   "source": [
    "#verificamos cambios \n",
    "business.columns"
   ]
  },
  {
   "cell_type": "code",
   "execution_count": null,
   "metadata": {},
   "outputs": [
    {
     "data": {
      "text/plain": [
       "business_id     0\n",
       "name            0\n",
       "address         0\n",
       "city            0\n",
       "state           0\n",
       "postal_code     0\n",
       "latitude        0\n",
       "longitude       0\n",
       "stars           0\n",
       "review_count    0\n",
       "categories      0\n",
       "dtype: int64"
      ]
     },
     "metadata": {},
     "output_type": "display_data"
    }
   ],
   "source": [
    "#verificamos la existencia de datos nulos\n",
    "business.isna().sum()"
   ]
  },
  {
   "cell_type": "code",
   "execution_count": null,
   "metadata": {},
   "outputs": [
    {
     "data": {
      "text/plain": [
       "array(['NV', 'FL', 'CA', 'IL'], dtype=object)"
      ]
     },
     "metadata": {},
     "output_type": "display_data"
    }
   ],
   "source": [
    "#ratificamos que los estads que se utilizaran son \n",
    "# 'NV': Nevada\n",
    "# 'FL': Florida\n",
    "# 'CA': California\n",
    "# 'IL': Illinois\n",
    "business['state'].unique()"
   ]
  },
  {
   "cell_type": "code",
   "execution_count": null,
   "metadata": {},
   "outputs": [],
   "source": [
    "business.to_parquet(r'Dataset_filtrados\\business_filtrado_completo')"
   ]
  },
  {
   "cell_type": "markdown",
   "metadata": {},
   "source": [
    "### Diccionario de Bussines "
   ]
  },
  {
   "cell_type": "markdown",
   "metadata": {},
   "source": [
    "•\tbusiness_id: Un identificador único para cada negocio en la base de datos.\n",
    "\n",
    "•\tname: El nombre del negocio.\n",
    "\n",
    "•\taddress: La dirección del negocio.\n",
    "\n",
    "•\tcity: La ciudad donde se encuentra el negocio.\n",
    "\n",
    "•\tstate: El estado o provincia donde se encuentra el negocio.\n",
    "\n",
    "•\tpostal_code: El código postal del área donde se encuentra el negocio.\n",
    "\n",
    "•\tlatitude: La latitud geográfica del negocio.\n",
    "\n",
    "•\tlongitude: La longitud geográfica del negocio.\n",
    "\n",
    "•\tstars: La calificación promedio del negocio en Yelp, en una escala de 1 a 5 estrellas.\n",
    "\n",
    "•\treview_count: El número total de reseñas que ha recibido el negocio en Yelp.\n",
    "\n",
    "•\tcategories: Las categorías o etiquetas que describen el tipo de negocio, separadas por comas.\n"
   ]
  },
  {
   "cell_type": "markdown",
   "metadata": {},
   "source": [
    "## checkin"
   ]
  },
  {
   "cell_type": "code",
   "execution_count": null,
   "metadata": {},
   "outputs": [
    {
     "data": {
      "text/html": [
       "<div>\n",
       "<style scoped>\n",
       "    .dataframe tbody tr th:only-of-type {\n",
       "        vertical-align: middle;\n",
       "    }\n",
       "\n",
       "    .dataframe tbody tr th {\n",
       "        vertical-align: top;\n",
       "    }\n",
       "\n",
       "    .dataframe thead th {\n",
       "        text-align: right;\n",
       "    }\n",
       "</style>\n",
       "<table border=\"1\" class=\"dataframe\">\n",
       "  <thead>\n",
       "    <tr style=\"text-align: right;\">\n",
       "      <th></th>\n",
       "      <th>business_id</th>\n",
       "      <th>date</th>\n",
       "    </tr>\n",
       "  </thead>\n",
       "  <tbody>\n",
       "    <tr>\n",
       "      <th>7</th>\n",
       "      <td>--ARBQr1WMsTWiwOKOj-FQ</td>\n",
       "      <td>2014-12-12 00:44:23, 2015-01-09 00:19:52, 2015...</td>\n",
       "    </tr>\n",
       "  </tbody>\n",
       "</table>\n",
       "</div>"
      ],
      "text/plain": [
       "              business_id                                               date\n",
       "7  --ARBQr1WMsTWiwOKOj-FQ  2014-12-12 00:44:23, 2015-01-09 00:19:52, 2015..."
      ]
     },
     "metadata": {},
     "output_type": "display_data"
    }
   ],
   "source": [
    "#visuaizamos datos de forma general\n",
    "checkin.head(1)"
   ]
  },
  {
   "cell_type": "code",
   "execution_count": null,
   "metadata": {},
   "outputs": [
    {
     "data": {
      "text/plain": [
       "business_id    0\n",
       "date           0\n",
       "dtype: int64"
      ]
     },
     "metadata": {},
     "output_type": "display_data"
    }
   ],
   "source": [
    "#verificamos la existencia de datos nulos\n",
    "checkin.isna().sum()"
   ]
  },
  {
   "cell_type": "markdown",
   "metadata": {},
   "source": [
    "### Diccionario de checkin "
   ]
  },
  {
   "cell_type": "markdown",
   "metadata": {},
   "source": [
    "•\tbusiness_id: Es un identificador único para cada negocio en Yelp.\n",
    "\n",
    "•\tdate: Representa las fechas en las que se registraron los check-ins para el negocio. Puede haber múltiples fechas separadas por comas para un mismo negocio, lo que sugiere múltiples check-ins en diferentes momentos.\n"
   ]
  },
  {
   "cell_type": "code",
   "execution_count": null,
   "metadata": {},
   "outputs": [],
   "source": [
    "checkin.to_parquet(r'Dataset_filtrados\\Total_checkin')\n"
   ]
  },
  {
   "cell_type": "markdown",
   "metadata": {},
   "source": [
    "## union de business y checkin"
   ]
  },
  {
   "cell_type": "markdown",
   "metadata": {},
   "source": [
    "Se ha pensado una nueva forma de abordar el área de negocio, a partir de este dataset, tomando en consideración las visitas a su página web y que hoy en día gran parte del mercadeos se da mediante internet, utilizaremos la columna date  para ver las visitas de un citio y según el promedio de las visitas de los negocios parecidos recomendar que se puede hacer desde el área de marketing"
   ]
  },
  {
   "cell_type": "code",
   "execution_count": null,
   "metadata": {},
   "outputs": [],
   "source": [
    "# unimos los dataset de business y checkin para relacional las visitas a cada negocio \n",
    "Visitas = pd.merge(business, checkin, on='business_id')"
   ]
  },
  {
   "cell_type": "code",
   "execution_count": null,
   "metadata": {},
   "outputs": [
    {
     "data": {
      "text/html": [
       "<div>\n",
       "<style scoped>\n",
       "    .dataframe tbody tr th:only-of-type {\n",
       "        vertical-align: middle;\n",
       "    }\n",
       "\n",
       "    .dataframe tbody tr th {\n",
       "        vertical-align: top;\n",
       "    }\n",
       "\n",
       "    .dataframe thead th {\n",
       "        text-align: right;\n",
       "    }\n",
       "</style>\n",
       "<table border=\"1\" class=\"dataframe\">\n",
       "  <thead>\n",
       "    <tr style=\"text-align: right;\">\n",
       "      <th></th>\n",
       "      <th>business_id</th>\n",
       "      <th>name</th>\n",
       "      <th>address</th>\n",
       "      <th>city</th>\n",
       "      <th>state</th>\n",
       "      <th>postal_code</th>\n",
       "      <th>latitude</th>\n",
       "      <th>longitude</th>\n",
       "      <th>stars</th>\n",
       "      <th>review_count</th>\n",
       "      <th>categories</th>\n",
       "      <th>date</th>\n",
       "    </tr>\n",
       "  </thead>\n",
       "  <tbody>\n",
       "    <tr>\n",
       "      <th>0</th>\n",
       "      <td>pJfh3Ct8iL58NZa8ta-a5w</td>\n",
       "      <td>Top Shelf Sports Lounge</td>\n",
       "      <td>3173 Cypress Ridge Blvd</td>\n",
       "      <td>Wesley Chapel</td>\n",
       "      <td>FL</td>\n",
       "      <td>33544</td>\n",
       "      <td>28.196252</td>\n",
       "      <td>-82.380615</td>\n",
       "      <td>4.5</td>\n",
       "      <td>95</td>\n",
       "      <td>Burgers, Sports Bars, Bars, Lounges, Restauran...</td>\n",
       "      <td>2018-02-09 22:40:05, 2018-03-25 21:01:21, 2018...</td>\n",
       "    </tr>\n",
       "  </tbody>\n",
       "</table>\n",
       "</div>"
      ],
      "text/plain": [
       "              business_id                     name                  address  \\\n",
       "0  pJfh3Ct8iL58NZa8ta-a5w  Top Shelf Sports Lounge  3173 Cypress Ridge Blvd   \n",
       "\n",
       "            city state postal_code   latitude  longitude  stars  review_count  \\\n",
       "0  Wesley Chapel    FL       33544  28.196252 -82.380615    4.5            95   \n",
       "\n",
       "                                          categories  \\\n",
       "0  Burgers, Sports Bars, Bars, Lounges, Restauran...   \n",
       "\n",
       "                                                date  \n",
       "0  2018-02-09 22:40:05, 2018-03-25 21:01:21, 2018...  "
      ]
     },
     "metadata": {},
     "output_type": "display_data"
    }
   ],
   "source": [
    "#visuaizamos datos de forma general\n",
    "Visitas.head(1)"
   ]
  },
  {
   "cell_type": "code",
   "execution_count": null,
   "metadata": {},
   "outputs": [],
   "source": [
    "# A partir de la columna date, que como se menciono anteriormente contiene fechas de las visitas en la pagina web de cada negocio,\n",
    "# se genera una nueva columna que contiene la cantidad de visitas. \n",
    "Visitas['num_Visitas'] = Visitas['date'].apply(lambda x: len(x.split(',')))"
   ]
  },
  {
   "cell_type": "code",
   "execution_count": null,
   "metadata": {},
   "outputs": [
    {
     "data": {
      "text/html": [
       "<div>\n",
       "<style scoped>\n",
       "    .dataframe tbody tr th:only-of-type {\n",
       "        vertical-align: middle;\n",
       "    }\n",
       "\n",
       "    .dataframe tbody tr th {\n",
       "        vertical-align: top;\n",
       "    }\n",
       "\n",
       "    .dataframe thead th {\n",
       "        text-align: right;\n",
       "    }\n",
       "</style>\n",
       "<table border=\"1\" class=\"dataframe\">\n",
       "  <thead>\n",
       "    <tr style=\"text-align: right;\">\n",
       "      <th></th>\n",
       "      <th>business_id</th>\n",
       "      <th>name</th>\n",
       "      <th>address</th>\n",
       "      <th>city</th>\n",
       "      <th>state</th>\n",
       "      <th>postal_code</th>\n",
       "      <th>latitude</th>\n",
       "      <th>longitude</th>\n",
       "      <th>stars</th>\n",
       "      <th>review_count</th>\n",
       "      <th>categories</th>\n",
       "      <th>date</th>\n",
       "      <th>num_Visitas</th>\n",
       "    </tr>\n",
       "  </thead>\n",
       "  <tbody>\n",
       "    <tr>\n",
       "      <th>0</th>\n",
       "      <td>pJfh3Ct8iL58NZa8ta-a5w</td>\n",
       "      <td>Top Shelf Sports Lounge</td>\n",
       "      <td>3173 Cypress Ridge Blvd</td>\n",
       "      <td>Wesley Chapel</td>\n",
       "      <td>FL</td>\n",
       "      <td>33544</td>\n",
       "      <td>28.196252</td>\n",
       "      <td>-82.380615</td>\n",
       "      <td>4.5</td>\n",
       "      <td>95</td>\n",
       "      <td>Burgers, Sports Bars, Bars, Lounges, Restauran...</td>\n",
       "      <td>2018-02-09 22:40:05, 2018-03-25 21:01:21, 2018...</td>\n",
       "      <td>111</td>\n",
       "    </tr>\n",
       "  </tbody>\n",
       "</table>\n",
       "</div>"
      ],
      "text/plain": [
       "              business_id                     name                  address  \\\n",
       "0  pJfh3Ct8iL58NZa8ta-a5w  Top Shelf Sports Lounge  3173 Cypress Ridge Blvd   \n",
       "\n",
       "            city state postal_code   latitude  longitude  stars  review_count  \\\n",
       "0  Wesley Chapel    FL       33544  28.196252 -82.380615    4.5            95   \n",
       "\n",
       "                                          categories  \\\n",
       "0  Burgers, Sports Bars, Bars, Lounges, Restauran...   \n",
       "\n",
       "                                                date  num_Visitas  \n",
       "0  2018-02-09 22:40:05, 2018-03-25 21:01:21, 2018...          111  "
      ]
     },
     "metadata": {},
     "output_type": "display_data"
    }
   ],
   "source": [
    "#verificamos datos.\n",
    "Visitas.head(1)"
   ]
  },
  {
   "cell_type": "markdown",
   "metadata": {},
   "source": [
    "A continuación, se calculará el promedio de visitas de cada nicho o negocio (hoteles, bars, nightlife) y para ello se crea la siguiente función"
   ]
  },
  {
   "cell_type": "code",
   "execution_count": null,
   "metadata": {},
   "outputs": [],
   "source": [
    "def asignar_promedio(row):\n",
    "    #promedio de visitas para hoteles, Aquí se calcula el promedio de visitas de todas los negocios en los cuales la columna categoría contenga la palabra ‘hotel’ \n",
    "    promedio_hotel= Visitas[Visitas['categories'].str.lower().str.strip().str.contains('hotel')]['num_Visitas'].mean() \n",
    "    #promedio de visitas para nightlife, Aquí se calcula el promedio de visitas de todas los negocios en los cuales la columna categoría contenga la palabra ‘nightlife’ \n",
    "    promedio_nightlife = Visitas[Visitas['categories'].str.lower().str.strip().str.contains('nightlife')]['num_Visitas'].mean()\n",
    "    #promedio de visitas para bars, Aquí se calcula el promedio de visitas de todas los negocios en los cuales la columna categoría contenga la palabra ‘bars’ \n",
    "    promedio_bars= Visitas[Visitas['categories'].str.lower().str.strip().str.contains('bars')]['num_Visitas'].mean()\n",
    "    if 'hotel' in row['categories'].lower():\n",
    "        return promedio_hotel\n",
    "    elif 'nightlife' in row['categories'].lower():\n",
    "        return promedio_nightlife\n",
    "    elif 'bars' in row['categories'].lower():\n",
    "        return promedio_bars\n",
    "    else:\n",
    "        return None  # O el valor por defecto que desees"
   ]
  },
  {
   "cell_type": "code",
   "execution_count": null,
   "metadata": {},
   "outputs": [],
   "source": [
    "#se crea una nueva columna aplicando la función previamente creada\n",
    "Visitas['promedio_visitas'] = Visitas.apply(asignar_promedio, axis=1)\n"
   ]
  },
  {
   "cell_type": "code",
   "execution_count": null,
   "metadata": {},
   "outputs": [
    {
     "data": {
      "text/html": [
       "<div>\n",
       "<style scoped>\n",
       "    .dataframe tbody tr th:only-of-type {\n",
       "        vertical-align: middle;\n",
       "    }\n",
       "\n",
       "    .dataframe tbody tr th {\n",
       "        vertical-align: top;\n",
       "    }\n",
       "\n",
       "    .dataframe thead th {\n",
       "        text-align: right;\n",
       "    }\n",
       "</style>\n",
       "<table border=\"1\" class=\"dataframe\">\n",
       "  <thead>\n",
       "    <tr style=\"text-align: right;\">\n",
       "      <th></th>\n",
       "      <th>business_id</th>\n",
       "      <th>name</th>\n",
       "      <th>address</th>\n",
       "      <th>city</th>\n",
       "      <th>state</th>\n",
       "      <th>postal_code</th>\n",
       "      <th>latitude</th>\n",
       "      <th>longitude</th>\n",
       "      <th>stars</th>\n",
       "      <th>review_count</th>\n",
       "      <th>categories</th>\n",
       "      <th>date</th>\n",
       "      <th>num_Visitas</th>\n",
       "      <th>promedio_visitas</th>\n",
       "    </tr>\n",
       "  </thead>\n",
       "  <tbody>\n",
       "    <tr>\n",
       "      <th>0</th>\n",
       "      <td>pJfh3Ct8iL58NZa8ta-a5w</td>\n",
       "      <td>Top Shelf Sports Lounge</td>\n",
       "      <td>3173 Cypress Ridge Blvd</td>\n",
       "      <td>Wesley Chapel</td>\n",
       "      <td>FL</td>\n",
       "      <td>33544</td>\n",
       "      <td>28.196252</td>\n",
       "      <td>-82.380615</td>\n",
       "      <td>4.5</td>\n",
       "      <td>95</td>\n",
       "      <td>Burgers, Sports Bars, Bars, Lounges, Restauran...</td>\n",
       "      <td>2018-02-09 22:40:05, 2018-03-25 21:01:21, 2018...</td>\n",
       "      <td>111</td>\n",
       "      <td>258.313062</td>\n",
       "    </tr>\n",
       "  </tbody>\n",
       "</table>\n",
       "</div>"
      ],
      "text/plain": [
       "              business_id                     name                  address  \\\n",
       "0  pJfh3Ct8iL58NZa8ta-a5w  Top Shelf Sports Lounge  3173 Cypress Ridge Blvd   \n",
       "\n",
       "            city state postal_code   latitude  longitude  stars  review_count  \\\n",
       "0  Wesley Chapel    FL       33544  28.196252 -82.380615    4.5            95   \n",
       "\n",
       "                                          categories  \\\n",
       "0  Burgers, Sports Bars, Bars, Lounges, Restauran...   \n",
       "\n",
       "                                                date  num_Visitas  \\\n",
       "0  2018-02-09 22:40:05, 2018-03-25 21:01:21, 2018...          111   \n",
       "\n",
       "   promedio_visitas  \n",
       "0        258.313062  "
      ]
     },
     "metadata": {},
     "output_type": "display_data"
    }
   ],
   "source": [
    "Visitas.head(1)"
   ]
  },
  {
   "cell_type": "code",
   "execution_count": null,
   "metadata": {},
   "outputs": [],
   "source": [
    "# Función para asignar mensajes en función de si el valor es menor o mayor que el promedio\n",
    "def resultado(row):\n",
    "    if row['num_Visitas'] < row['promedio_visitas']:\n",
    "        return 'menor al promedio'\n",
    "    elif row['num_Visitas'] > row['promedio_visitas']:\n",
    "        return 'mayor al promedio'\n",
    "    else:\n",
    "        return 'igual al promedio'\n"
   ]
  },
  {
   "cell_type": "code",
   "execution_count": null,
   "metadata": {},
   "outputs": [],
   "source": [
    "\n",
    "# Aplicar la función a cada fila y crear una nueva columna 'mensaje_promedio'\n",
    "Visitas['mensaje_promedio'] = Visitas.apply(resultado, axis=1)\n"
   ]
  },
  {
   "cell_type": "code",
   "execution_count": null,
   "metadata": {},
   "outputs": [
    {
     "data": {
      "text/html": [
       "<div>\n",
       "<style scoped>\n",
       "    .dataframe tbody tr th:only-of-type {\n",
       "        vertical-align: middle;\n",
       "    }\n",
       "\n",
       "    .dataframe tbody tr th {\n",
       "        vertical-align: top;\n",
       "    }\n",
       "\n",
       "    .dataframe thead th {\n",
       "        text-align: right;\n",
       "    }\n",
       "</style>\n",
       "<table border=\"1\" class=\"dataframe\">\n",
       "  <thead>\n",
       "    <tr style=\"text-align: right;\">\n",
       "      <th></th>\n",
       "      <th>business_id</th>\n",
       "      <th>name</th>\n",
       "      <th>address</th>\n",
       "      <th>city</th>\n",
       "      <th>state</th>\n",
       "      <th>postal_code</th>\n",
       "      <th>latitude</th>\n",
       "      <th>longitude</th>\n",
       "      <th>stars</th>\n",
       "      <th>review_count</th>\n",
       "      <th>categories</th>\n",
       "      <th>date</th>\n",
       "      <th>num_Visitas</th>\n",
       "      <th>promedio_visitas</th>\n",
       "      <th>mensaje_promedio</th>\n",
       "    </tr>\n",
       "  </thead>\n",
       "  <tbody>\n",
       "    <tr>\n",
       "      <th>0</th>\n",
       "      <td>pJfh3Ct8iL58NZa8ta-a5w</td>\n",
       "      <td>Top Shelf Sports Lounge</td>\n",
       "      <td>3173 Cypress Ridge Blvd</td>\n",
       "      <td>Wesley Chapel</td>\n",
       "      <td>FL</td>\n",
       "      <td>33544</td>\n",
       "      <td>28.196252</td>\n",
       "      <td>-82.380615</td>\n",
       "      <td>4.5</td>\n",
       "      <td>95</td>\n",
       "      <td>Burgers, Sports Bars, Bars, Lounges, Restauran...</td>\n",
       "      <td>2018-02-09 22:40:05, 2018-03-25 21:01:21, 2018...</td>\n",
       "      <td>111</td>\n",
       "      <td>258.313062</td>\n",
       "      <td>menor al promedio</td>\n",
       "    </tr>\n",
       "    <tr>\n",
       "      <th>1</th>\n",
       "      <td>SZU9c8V2GuREDN5KgyHFJw</td>\n",
       "      <td>Santa Barbara Shellfish Company</td>\n",
       "      <td>230 Stearns Wharf</td>\n",
       "      <td>Santa Barbara</td>\n",
       "      <td>CA</td>\n",
       "      <td>93101</td>\n",
       "      <td>34.408715</td>\n",
       "      <td>-119.685019</td>\n",
       "      <td>4.0</td>\n",
       "      <td>2404</td>\n",
       "      <td>Live/Raw Food, Restaurants, Seafood, Beer Bar,...</td>\n",
       "      <td>2010-03-07 05:23:49, 2010-03-21 05:07:50, 2010...</td>\n",
       "      <td>6148</td>\n",
       "      <td>258.313062</td>\n",
       "      <td>mayor al promedio</td>\n",
       "    </tr>\n",
       "    <tr>\n",
       "      <th>2</th>\n",
       "      <td>7Du9oW73YcYFmXdtU5aiSg</td>\n",
       "      <td>Kinjo's Japanese Restaurant</td>\n",
       "      <td>2875 Tyrone Blvd N</td>\n",
       "      <td>Saint Petersburg</td>\n",
       "      <td>FL</td>\n",
       "      <td>33710</td>\n",
       "      <td>27.797263</td>\n",
       "      <td>-82.733913</td>\n",
       "      <td>3.5</td>\n",
       "      <td>17</td>\n",
       "      <td>Japanese, Sushi Bars, Restaurants</td>\n",
       "      <td>2010-07-14 22:36:50, 2010-07-15 21:04:21, 2010...</td>\n",
       "      <td>31</td>\n",
       "      <td>253.113694</td>\n",
       "      <td>menor al promedio</td>\n",
       "    </tr>\n",
       "    <tr>\n",
       "      <th>3</th>\n",
       "      <td>znL4YrNbA2uwOQ3CchkmEA</td>\n",
       "      <td>Seaview Condominiums</td>\n",
       "      <td>14700 Gulf Blvd</td>\n",
       "      <td>Madeira Beach</td>\n",
       "      <td>FL</td>\n",
       "      <td>33708</td>\n",
       "      <td>27.798503</td>\n",
       "      <td>-82.798750</td>\n",
       "      <td>4.5</td>\n",
       "      <td>8</td>\n",
       "      <td>Home Services, Vacation Rentals, Real Estate, ...</td>\n",
       "      <td>2015-06-14 01:25:52, 2015-06-17 21:28:10, 2015...</td>\n",
       "      <td>3</td>\n",
       "      <td>152.773946</td>\n",
       "      <td>menor al promedio</td>\n",
       "    </tr>\n",
       "    <tr>\n",
       "      <th>4</th>\n",
       "      <td>ZU6NodDOWaabGkeNpOWdXw</td>\n",
       "      <td>530 Pub &amp; Grill</td>\n",
       "      <td>530 Cleveland St</td>\n",
       "      <td>Clearwater</td>\n",
       "      <td>FL</td>\n",
       "      <td>33755</td>\n",
       "      <td>27.965747</td>\n",
       "      <td>-82.798901</td>\n",
       "      <td>4.5</td>\n",
       "      <td>6</td>\n",
       "      <td>American (Traditional), Restaurants, Burgers, ...</td>\n",
       "      <td>2021-07-30 17:28:16</td>\n",
       "      <td>1</td>\n",
       "      <td>258.313062</td>\n",
       "      <td>menor al promedio</td>\n",
       "    </tr>\n",
       "  </tbody>\n",
       "</table>\n",
       "</div>"
      ],
      "text/plain": [
       "              business_id                             name  \\\n",
       "0  pJfh3Ct8iL58NZa8ta-a5w          Top Shelf Sports Lounge   \n",
       "1  SZU9c8V2GuREDN5KgyHFJw  Santa Barbara Shellfish Company   \n",
       "2  7Du9oW73YcYFmXdtU5aiSg      Kinjo's Japanese Restaurant   \n",
       "3  znL4YrNbA2uwOQ3CchkmEA             Seaview Condominiums   \n",
       "4  ZU6NodDOWaabGkeNpOWdXw                  530 Pub & Grill   \n",
       "\n",
       "                   address              city state postal_code   latitude  \\\n",
       "0  3173 Cypress Ridge Blvd     Wesley Chapel    FL       33544  28.196252   \n",
       "1        230 Stearns Wharf     Santa Barbara    CA       93101  34.408715   \n",
       "2       2875 Tyrone Blvd N  Saint Petersburg    FL       33710  27.797263   \n",
       "3          14700 Gulf Blvd     Madeira Beach    FL       33708  27.798503   \n",
       "4         530 Cleveland St        Clearwater    FL       33755  27.965747   \n",
       "\n",
       "    longitude  stars  review_count  \\\n",
       "0  -82.380615    4.5            95   \n",
       "1 -119.685019    4.0          2404   \n",
       "2  -82.733913    3.5            17   \n",
       "3  -82.798750    4.5             8   \n",
       "4  -82.798901    4.5             6   \n",
       "\n",
       "                                          categories  \\\n",
       "0  Burgers, Sports Bars, Bars, Lounges, Restauran...   \n",
       "1  Live/Raw Food, Restaurants, Seafood, Beer Bar,...   \n",
       "2                  Japanese, Sushi Bars, Restaurants   \n",
       "3  Home Services, Vacation Rentals, Real Estate, ...   \n",
       "4  American (Traditional), Restaurants, Burgers, ...   \n",
       "\n",
       "                                                date  num_Visitas  \\\n",
       "0  2018-02-09 22:40:05, 2018-03-25 21:01:21, 2018...          111   \n",
       "1  2010-03-07 05:23:49, 2010-03-21 05:07:50, 2010...         6148   \n",
       "2  2010-07-14 22:36:50, 2010-07-15 21:04:21, 2010...           31   \n",
       "3  2015-06-14 01:25:52, 2015-06-17 21:28:10, 2015...            3   \n",
       "4                                2021-07-30 17:28:16            1   \n",
       "\n",
       "   promedio_visitas   mensaje_promedio  \n",
       "0        258.313062  menor al promedio  \n",
       "1        258.313062  mayor al promedio  \n",
       "2        253.113694  menor al promedio  \n",
       "3        152.773946  menor al promedio  \n",
       "4        258.313062  menor al promedio  "
      ]
     },
     "metadata": {},
     "output_type": "display_data"
    }
   ],
   "source": [
    "Visitas.head()"
   ]
  },
  {
   "cell_type": "markdown",
   "metadata": {},
   "source": [
    "## review"
   ]
  },
  {
   "cell_type": "code",
   "execution_count": null,
   "metadata": {},
   "outputs": [
    {
     "data": {
      "text/html": [
       "<div>\n",
       "<style scoped>\n",
       "    .dataframe tbody tr th:only-of-type {\n",
       "        vertical-align: middle;\n",
       "    }\n",
       "\n",
       "    .dataframe tbody tr th {\n",
       "        vertical-align: top;\n",
       "    }\n",
       "\n",
       "    .dataframe thead th {\n",
       "        text-align: right;\n",
       "    }\n",
       "</style>\n",
       "<table border=\"1\" class=\"dataframe\">\n",
       "  <thead>\n",
       "    <tr style=\"text-align: right;\">\n",
       "      <th></th>\n",
       "      <th>review_id</th>\n",
       "      <th>user_id</th>\n",
       "      <th>business_id</th>\n",
       "      <th>stars</th>\n",
       "      <th>useful</th>\n",
       "      <th>funny</th>\n",
       "      <th>cool</th>\n",
       "      <th>text</th>\n",
       "      <th>date</th>\n",
       "    </tr>\n",
       "  </thead>\n",
       "  <tbody>\n",
       "    <tr>\n",
       "      <th>0</th>\n",
       "      <td>pUycOfUwM8vqX7KjRRhUEA</td>\n",
       "      <td>59MxRhNVhU9MYndMkz0wtw</td>\n",
       "      <td>gebiRewfieSdtt17PTW6Zg</td>\n",
       "      <td>3.0</td>\n",
       "      <td>0</td>\n",
       "      <td>0</td>\n",
       "      <td>0</td>\n",
       "      <td>Had a party of 6 here for hibachi. Our waitres...</td>\n",
       "      <td>2016-07-25 07:31:06</td>\n",
       "    </tr>\n",
       "  </tbody>\n",
       "</table>\n",
       "</div>"
      ],
      "text/plain": [
       "                review_id                 user_id             business_id  \\\n",
       "0  pUycOfUwM8vqX7KjRRhUEA  59MxRhNVhU9MYndMkz0wtw  gebiRewfieSdtt17PTW6Zg   \n",
       "\n",
       "   stars  useful  funny  cool  \\\n",
       "0    3.0       0      0     0   \n",
       "\n",
       "                                                text                 date  \n",
       "0  Had a party of 6 here for hibachi. Our waitres...  2016-07-25 07:31:06  "
      ]
     },
     "metadata": {},
     "output_type": "display_data"
    }
   ],
   "source": [
    "#vemos datos en general\n",
    "review.head(1)"
   ]
  },
  {
   "cell_type": "code",
   "execution_count": null,
   "metadata": {},
   "outputs": [
    {
     "data": {
      "text/plain": [
       "Index(['review_id', 'user_id', 'business_id', 'stars', 'useful', 'funny',\n",
       "       'cool', 'text', 'date'],\n",
       "      dtype='object')"
      ]
     },
     "metadata": {},
     "output_type": "display_data"
    }
   ],
   "source": [
    "#visualizamos columnas\n",
    "review.columns"
   ]
  },
  {
   "cell_type": "code",
   "execution_count": null,
   "metadata": {},
   "outputs": [
    {
     "data": {
      "text/plain": [
       "review_id      0\n",
       "user_id        0\n",
       "business_id    0\n",
       "stars          0\n",
       "useful         0\n",
       "funny          0\n",
       "cool           0\n",
       "text           0\n",
       "date           0\n",
       "dtype: int64"
      ]
     },
     "metadata": {},
     "output_type": "display_data"
    }
   ],
   "source": [
    "# identificamos datos nulos\n",
    "review.isna().sum()"
   ]
  },
  {
   "cell_type": "markdown",
   "metadata": {},
   "source": [
    "Las columnas a eliminar son ‘review_id’ dado que las claves (ID) de bussines y usser serán suficientes para asociar las review a cada negocio y usuario "
   ]
  },
  {
   "cell_type": "code",
   "execution_count": null,
   "metadata": {},
   "outputs": [],
   "source": [
    "columnas = ['review_id']\n",
    "review.drop(columns=columnas, inplace=True)"
   ]
  },
  {
   "cell_type": "code",
   "execution_count": null,
   "metadata": {},
   "outputs": [
    {
     "data": {
      "text/html": [
       "<div>\n",
       "<style scoped>\n",
       "    .dataframe tbody tr th:only-of-type {\n",
       "        vertical-align: middle;\n",
       "    }\n",
       "\n",
       "    .dataframe tbody tr th {\n",
       "        vertical-align: top;\n",
       "    }\n",
       "\n",
       "    .dataframe thead th {\n",
       "        text-align: right;\n",
       "    }\n",
       "</style>\n",
       "<table border=\"1\" class=\"dataframe\">\n",
       "  <thead>\n",
       "    <tr style=\"text-align: right;\">\n",
       "      <th></th>\n",
       "      <th>user_id</th>\n",
       "      <th>business_id</th>\n",
       "      <th>stars</th>\n",
       "      <th>useful</th>\n",
       "      <th>funny</th>\n",
       "      <th>cool</th>\n",
       "      <th>text</th>\n",
       "      <th>date</th>\n",
       "    </tr>\n",
       "  </thead>\n",
       "  <tbody>\n",
       "    <tr>\n",
       "      <th>0</th>\n",
       "      <td>59MxRhNVhU9MYndMkz0wtw</td>\n",
       "      <td>gebiRewfieSdtt17PTW6Zg</td>\n",
       "      <td>3.0</td>\n",
       "      <td>0</td>\n",
       "      <td>0</td>\n",
       "      <td>0</td>\n",
       "      <td>Had a party of 6 here for hibachi. Our waitres...</td>\n",
       "      <td>2016-07-25 07:31:06</td>\n",
       "    </tr>\n",
       "  </tbody>\n",
       "</table>\n",
       "</div>"
      ],
      "text/plain": [
       "                  user_id             business_id  stars  useful  funny  cool  \\\n",
       "0  59MxRhNVhU9MYndMkz0wtw  gebiRewfieSdtt17PTW6Zg    3.0       0      0     0   \n",
       "\n",
       "                                                text                 date  \n",
       "0  Had a party of 6 here for hibachi. Our waitres...  2016-07-25 07:31:06  "
      ]
     },
     "metadata": {},
     "output_type": "display_data"
    }
   ],
   "source": [
    "#verificamos resultados\n",
    "review.head(1)"
   ]
  },
  {
   "cell_type": "markdown",
   "metadata": {},
   "source": [
    "### Diccionario de review "
   ]
  },
  {
   "cell_type": "markdown",
   "metadata": {},
   "source": [
    "•\tuser_id (cadena): Es el identificador único del usuario que ha escrito la reseña. Cada usuario tiene un id_usuario único que lo distingue de otros usuarios.\n",
    "\n",
    "•\tbusiness_id (cadena): Es el identificador único del negocio que recibió la reseña. Cada negocio tiene una Identificación del negocio única que lo distingue de otros negocios.\n",
    "\n",
    "•\tstars (entero): Es la calificación de la reseña en términos de estrellas. Puede ser un valor entero entre 1 y 5, donde 1 es la calificación más baja y 5 es la calificación más alta.\n",
    "\n",
    "•\tuseful (entero): Representa el número de votos útiles que ha recibido la reseña de otros usuarios. Los usuarios pueden votar si una reseña les resultó útil o no.\n",
    "\n",
    "•\tfunny (entero): Representa el número de votos de otros usuarios que encontraron la reseña divertida. Los usuarios pueden votar si una reseña les resultó divertida o no.\n",
    "\n",
    "•\tcool (entero): Representa el número de votos de otros usuarios que encontraron la reseña fría o poco útil. Los usuarios pueden votar si una reseña les resultó poco útil.\n",
    "\n",
    "•\ttext (cadena): Es el contenido de la reseña escrita por el usuario. Aquí se encuentra el texto completo de la reseña que describe la experiencia del usuario con el negocio.\n",
    "\n"
   ]
  },
  {
   "cell_type": "code",
   "execution_count": null,
   "metadata": {},
   "outputs": [],
   "source": [
    "review.to_parquet(r'Dataset_filtrados\\Total_reviews')\n"
   ]
  },
  {
   "cell_type": "markdown",
   "metadata": {},
   "source": [
    "## tips"
   ]
  },
  {
   "cell_type": "code",
   "execution_count": null,
   "metadata": {},
   "outputs": [
    {
     "data": {
      "text/html": [
       "<div>\n",
       "<style scoped>\n",
       "    .dataframe tbody tr th:only-of-type {\n",
       "        vertical-align: middle;\n",
       "    }\n",
       "\n",
       "    .dataframe tbody tr th {\n",
       "        vertical-align: top;\n",
       "    }\n",
       "\n",
       "    .dataframe thead th {\n",
       "        text-align: right;\n",
       "    }\n",
       "</style>\n",
       "<table border=\"1\" class=\"dataframe\">\n",
       "  <thead>\n",
       "    <tr style=\"text-align: right;\">\n",
       "      <th></th>\n",
       "      <th>user_id</th>\n",
       "      <th>business_id</th>\n",
       "      <th>text</th>\n",
       "      <th>date</th>\n",
       "      <th>compliment_count</th>\n",
       "    </tr>\n",
       "  </thead>\n",
       "  <tbody>\n",
       "    <tr>\n",
       "      <th>8</th>\n",
       "      <td>VL12EhEdT4OWqGq0nIqkzw</td>\n",
       "      <td>xODBZmX4EmlVvbqtKN7YKg</td>\n",
       "      <td>Tacos</td>\n",
       "      <td>2012-07-27 01:48:24</td>\n",
       "      <td>0</td>\n",
       "    </tr>\n",
       "  </tbody>\n",
       "</table>\n",
       "</div>"
      ],
      "text/plain": [
       "                  user_id             business_id   text                date  \\\n",
       "8  VL12EhEdT4OWqGq0nIqkzw  xODBZmX4EmlVvbqtKN7YKg  Tacos 2012-07-27 01:48:24   \n",
       "\n",
       "   compliment_count  \n",
       "8                 0  "
      ]
     },
     "metadata": {},
     "output_type": "display_data"
    }
   ],
   "source": [
    "#vemos datos en general\n",
    "tips.head(1)"
   ]
  },
  {
   "cell_type": "code",
   "execution_count": null,
   "metadata": {},
   "outputs": [
    {
     "name": "stdout",
     "output_type": "stream",
     "text": [
      "<class 'pandas.core.frame.DataFrame'>\n",
      "Int64Index: 66363 entries, 8 to 908908\n",
      "Data columns (total 5 columns):\n",
      " #   Column            Non-Null Count  Dtype         \n",
      "---  ------            --------------  -----         \n",
      " 0   user_id           66363 non-null  object        \n",
      " 1   business_id       66363 non-null  object        \n",
      " 2   text              66363 non-null  object        \n",
      " 3   date              66363 non-null  datetime64[ns]\n",
      " 4   compliment_count  66363 non-null  int64         \n",
      "dtypes: datetime64[ns](1), int64(1), object(3)\n",
      "memory usage: 3.0+ MB\n"
     ]
    }
   ],
   "source": [
    "tips.info()"
   ]
  },
  {
   "cell_type": "code",
   "execution_count": null,
   "metadata": {},
   "outputs": [
    {
     "data": {
      "text/plain": [
       "Index(['user_id', 'business_id', 'text', 'date', 'compliment_count'], dtype='object')"
      ]
     },
     "metadata": {},
     "output_type": "display_data"
    }
   ],
   "source": [
    "#visualizamos columnas\n",
    "tips.columns"
   ]
  },
  {
   "cell_type": "code",
   "execution_count": null,
   "metadata": {},
   "outputs": [
    {
     "data": {
      "text/plain": [
       "user_id             0\n",
       "business_id         0\n",
       "text                0\n",
       "date                0\n",
       "compliment_count    0\n",
       "dtype: int64"
      ]
     },
     "metadata": {},
     "output_type": "display_data"
    }
   ],
   "source": [
    "# identificamos datos nulos\n",
    "tips.isna().sum()"
   ]
  },
  {
   "cell_type": "code",
   "execution_count": null,
   "metadata": {},
   "outputs": [
    {
     "data": {
      "text/plain": [
       "(66363, 5)"
      ]
     },
     "metadata": {},
     "output_type": "display_data"
    }
   ],
   "source": [
    "# observamos dimensiones del dataset\n",
    "tips.shape"
   ]
  },
  {
   "cell_type": "markdown",
   "metadata": {},
   "source": [
    "Las columna a eliminar es 'date’ ya que en el producto esa fecha no será relevante para la presentación de resultados. "
   ]
  },
  {
   "cell_type": "code",
   "execution_count": null,
   "metadata": {},
   "outputs": [],
   "source": [
    "tips.drop(columns= 'date', inplace = True)"
   ]
  },
  {
   "cell_type": "code",
   "execution_count": null,
   "metadata": {},
   "outputs": [
    {
     "data": {
      "text/html": [
       "<div>\n",
       "<style scoped>\n",
       "    .dataframe tbody tr th:only-of-type {\n",
       "        vertical-align: middle;\n",
       "    }\n",
       "\n",
       "    .dataframe tbody tr th {\n",
       "        vertical-align: top;\n",
       "    }\n",
       "\n",
       "    .dataframe thead th {\n",
       "        text-align: right;\n",
       "    }\n",
       "</style>\n",
       "<table border=\"1\" class=\"dataframe\">\n",
       "  <thead>\n",
       "    <tr style=\"text-align: right;\">\n",
       "      <th></th>\n",
       "      <th>user_id</th>\n",
       "      <th>business_id</th>\n",
       "      <th>text</th>\n",
       "      <th>compliment_count</th>\n",
       "    </tr>\n",
       "  </thead>\n",
       "  <tbody>\n",
       "    <tr>\n",
       "      <th>8</th>\n",
       "      <td>VL12EhEdT4OWqGq0nIqkzw</td>\n",
       "      <td>xODBZmX4EmlVvbqtKN7YKg</td>\n",
       "      <td>Tacos</td>\n",
       "      <td>0</td>\n",
       "    </tr>\n",
       "    <tr>\n",
       "      <th>13</th>\n",
       "      <td>MlnuJ7T14CE0JDK2ZIOx5g</td>\n",
       "      <td>MDr7KLYSPkEonvGojNEMBw</td>\n",
       "      <td>Let's go Yankees!</td>\n",
       "      <td>0</td>\n",
       "    </tr>\n",
       "    <tr>\n",
       "      <th>15</th>\n",
       "      <td>j2sEA3hiUcwHfq9Ml6M47g</td>\n",
       "      <td>EXYbKA1tocvOK_1tXxZXLA</td>\n",
       "      <td>Don't go for dinner. They close at 6. Really Y...</td>\n",
       "      <td>0</td>\n",
       "    </tr>\n",
       "    <tr>\n",
       "      <th>22</th>\n",
       "      <td>phKNHTaokisQkZ7qQbxryA</td>\n",
       "      <td>pWuoHHu0LuVrD0HjadDygg</td>\n",
       "      <td>Crepes please!!!</td>\n",
       "      <td>0</td>\n",
       "    </tr>\n",
       "    <tr>\n",
       "      <th>30</th>\n",
       "      <td>jDThlALkraoQLLBYHqY7FQ</td>\n",
       "      <td>9DJhhBqQSu-gTBwaqdhgpQ</td>\n",
       "      <td>Come early for the best service as they fill u...</td>\n",
       "      <td>0</td>\n",
       "    </tr>\n",
       "    <tr>\n",
       "      <th>41</th>\n",
       "      <td>XJDLaoN1PerKw2woiKeepA</td>\n",
       "      <td>t0zwddmbOGQOADrAxEPHQQ</td>\n",
       "      <td>Come by for some Jelly Bean sours this weekend!</td>\n",
       "      <td>0</td>\n",
       "    </tr>\n",
       "    <tr>\n",
       "      <th>43</th>\n",
       "      <td>nZB33t0RFtq_jTxJJJ6wfA</td>\n",
       "      <td>RNzhLU8zy1L5dBkjRK4xEA</td>\n",
       "      <td>Best steak tartare ever</td>\n",
       "      <td>0</td>\n",
       "    </tr>\n",
       "    <tr>\n",
       "      <th>57</th>\n",
       "      <td>9qZVikoJoqfQK9SBSynAGA</td>\n",
       "      <td>l-rGtJt0E7PAklT0IK7oFQ</td>\n",
       "      <td>Great atmosphere... Live music... Excellent dr...</td>\n",
       "      <td>0</td>\n",
       "    </tr>\n",
       "    <tr>\n",
       "      <th>69</th>\n",
       "      <td>VWJ8PSz6Sg5_AlBvQyGvpw</td>\n",
       "      <td>PcX8zGIJ_XHTAQAcEOwhLw</td>\n",
       "      <td>Nice resort, right by the powder white beach!</td>\n",
       "      <td>0</td>\n",
       "    </tr>\n",
       "    <tr>\n",
       "      <th>77</th>\n",
       "      <td>2idS8cD2zvsLnV5A9IImGg</td>\n",
       "      <td>ihYtslFvge9B9KK1S_E8rw</td>\n",
       "      <td>Great good and service.</td>\n",
       "      <td>0</td>\n",
       "    </tr>\n",
       "  </tbody>\n",
       "</table>\n",
       "</div>"
      ],
      "text/plain": [
       "                   user_id             business_id  \\\n",
       "8   VL12EhEdT4OWqGq0nIqkzw  xODBZmX4EmlVvbqtKN7YKg   \n",
       "13  MlnuJ7T14CE0JDK2ZIOx5g  MDr7KLYSPkEonvGojNEMBw   \n",
       "15  j2sEA3hiUcwHfq9Ml6M47g  EXYbKA1tocvOK_1tXxZXLA   \n",
       "22  phKNHTaokisQkZ7qQbxryA  pWuoHHu0LuVrD0HjadDygg   \n",
       "30  jDThlALkraoQLLBYHqY7FQ  9DJhhBqQSu-gTBwaqdhgpQ   \n",
       "41  XJDLaoN1PerKw2woiKeepA  t0zwddmbOGQOADrAxEPHQQ   \n",
       "43  nZB33t0RFtq_jTxJJJ6wfA  RNzhLU8zy1L5dBkjRK4xEA   \n",
       "57  9qZVikoJoqfQK9SBSynAGA  l-rGtJt0E7PAklT0IK7oFQ   \n",
       "69  VWJ8PSz6Sg5_AlBvQyGvpw  PcX8zGIJ_XHTAQAcEOwhLw   \n",
       "77  2idS8cD2zvsLnV5A9IImGg  ihYtslFvge9B9KK1S_E8rw   \n",
       "\n",
       "                                                 text  compliment_count  \n",
       "8                                               Tacos                 0  \n",
       "13                                  Let's go Yankees!                 0  \n",
       "15  Don't go for dinner. They close at 6. Really Y...                 0  \n",
       "22                                   Crepes please!!!                 0  \n",
       "30  Come early for the best service as they fill u...                 0  \n",
       "41    Come by for some Jelly Bean sours this weekend!                 0  \n",
       "43                            Best steak tartare ever                 0  \n",
       "57  Great atmosphere... Live music... Excellent dr...                 0  \n",
       "69      Nice resort, right by the powder white beach!                 0  \n",
       "77                            Great good and service.                 0  "
      ]
     },
     "metadata": {},
     "output_type": "display_data"
    }
   ],
   "source": [
    "#verificamos resultado\n",
    "tips.head(10)"
   ]
  },
  {
   "cell_type": "markdown",
   "metadata": {},
   "source": [
    "Al analizar la columna 'compliment_count', se observa que la gran mayoría de sus valores son 0. Solo hay alrededor de 1079 registros (aproximadamente un 1.6% del total) que contienen valores distintos de 0. Dado que esta proporción es bastante baja, hemos tomado la decisión de eliminar la columna 'compliment_count' de nuestros datos. Esto se debe a que los valores no son lo suficientemente significativos para influir en los resultados que estamos buscando presentar."
   ]
  },
  {
   "cell_type": "code",
   "execution_count": null,
   "metadata": {},
   "outputs": [
    {
     "data": {
      "text/plain": [
       "1079"
      ]
     },
     "metadata": {},
     "output_type": "display_data"
    }
   ],
   "source": [
    "#verificamos cantidad de datos distitnso a 0\n",
    "(tips['compliment_count'] != 0).sum()"
   ]
  },
  {
   "cell_type": "code",
   "execution_count": null,
   "metadata": {},
   "outputs": [
    {
     "data": {
      "text/html": [
       "<div>\n",
       "<style scoped>\n",
       "    .dataframe tbody tr th:only-of-type {\n",
       "        vertical-align: middle;\n",
       "    }\n",
       "\n",
       "    .dataframe tbody tr th {\n",
       "        vertical-align: top;\n",
       "    }\n",
       "\n",
       "    .dataframe thead th {\n",
       "        text-align: right;\n",
       "    }\n",
       "</style>\n",
       "<table border=\"1\" class=\"dataframe\">\n",
       "  <thead>\n",
       "    <tr style=\"text-align: right;\">\n",
       "      <th></th>\n",
       "      <th>user_id</th>\n",
       "      <th>business_id</th>\n",
       "      <th>text</th>\n",
       "    </tr>\n",
       "  </thead>\n",
       "  <tbody>\n",
       "    <tr>\n",
       "      <th>8</th>\n",
       "      <td>VL12EhEdT4OWqGq0nIqkzw</td>\n",
       "      <td>xODBZmX4EmlVvbqtKN7YKg</td>\n",
       "      <td>Tacos</td>\n",
       "    </tr>\n",
       "    <tr>\n",
       "      <th>13</th>\n",
       "      <td>MlnuJ7T14CE0JDK2ZIOx5g</td>\n",
       "      <td>MDr7KLYSPkEonvGojNEMBw</td>\n",
       "      <td>Let's go Yankees!</td>\n",
       "    </tr>\n",
       "    <tr>\n",
       "      <th>15</th>\n",
       "      <td>j2sEA3hiUcwHfq9Ml6M47g</td>\n",
       "      <td>EXYbKA1tocvOK_1tXxZXLA</td>\n",
       "      <td>Don't go for dinner. They close at 6. Really Y...</td>\n",
       "    </tr>\n",
       "    <tr>\n",
       "      <th>22</th>\n",
       "      <td>phKNHTaokisQkZ7qQbxryA</td>\n",
       "      <td>pWuoHHu0LuVrD0HjadDygg</td>\n",
       "      <td>Crepes please!!!</td>\n",
       "    </tr>\n",
       "    <tr>\n",
       "      <th>30</th>\n",
       "      <td>jDThlALkraoQLLBYHqY7FQ</td>\n",
       "      <td>9DJhhBqQSu-gTBwaqdhgpQ</td>\n",
       "      <td>Come early for the best service as they fill u...</td>\n",
       "    </tr>\n",
       "  </tbody>\n",
       "</table>\n",
       "</div>"
      ],
      "text/plain": [
       "                   user_id             business_id  \\\n",
       "8   VL12EhEdT4OWqGq0nIqkzw  xODBZmX4EmlVvbqtKN7YKg   \n",
       "13  MlnuJ7T14CE0JDK2ZIOx5g  MDr7KLYSPkEonvGojNEMBw   \n",
       "15  j2sEA3hiUcwHfq9Ml6M47g  EXYbKA1tocvOK_1tXxZXLA   \n",
       "22  phKNHTaokisQkZ7qQbxryA  pWuoHHu0LuVrD0HjadDygg   \n",
       "30  jDThlALkraoQLLBYHqY7FQ  9DJhhBqQSu-gTBwaqdhgpQ   \n",
       "\n",
       "                                                 text  \n",
       "8                                               Tacos  \n",
       "13                                  Let's go Yankees!  \n",
       "15  Don't go for dinner. They close at 6. Really Y...  \n",
       "22                                   Crepes please!!!  \n",
       "30  Come early for the best service as they fill u...  "
      ]
     },
     "metadata": {},
     "output_type": "display_data"
    }
   ],
   "source": [
    "#eliinamos la columna 'compliment_count'\n",
    "tips.drop(columns= 'compliment_count', inplace = True)\n",
    "#verificamos resultado\n",
    "tips.head()"
   ]
  },
  {
   "cell_type": "markdown",
   "metadata": {},
   "source": [
    "### Diccionario de tips \n"
   ]
  },
  {
   "cell_type": "markdown",
   "metadata": {},
   "source": [
    "user_id: Es un identificador único para cada usuario en Yelp que ha dejado un consejo (tip) en un negocio.\n",
    "\n",
    "business_id: Es un identificador único para el negocio en el que se dejó el consejo.\n",
    "\n",
    "text: Es el contenido del consejo que el usuario dejó para el negocio. Es un comentario o sugerencia que el usuario comparte."
   ]
  },
  {
   "cell_type": "code",
   "execution_count": null,
   "metadata": {},
   "outputs": [],
   "source": [
    "tips.to_parquet(r'Dataset_filtrados\\Total_tips')"
   ]
  },
  {
   "cell_type": "markdown",
   "metadata": {},
   "source": [
    "## user"
   ]
  },
  {
   "cell_type": "code",
   "execution_count": null,
   "metadata": {},
   "outputs": [
    {
     "data": {
      "text/html": [
       "<div>\n",
       "<style scoped>\n",
       "    .dataframe tbody tr th:only-of-type {\n",
       "        vertical-align: middle;\n",
       "    }\n",
       "\n",
       "    .dataframe tbody tr th {\n",
       "        vertical-align: top;\n",
       "    }\n",
       "\n",
       "    .dataframe thead th {\n",
       "        text-align: right;\n",
       "    }\n",
       "</style>\n",
       "<table border=\"1\" class=\"dataframe\">\n",
       "  <thead>\n",
       "    <tr style=\"text-align: right;\">\n",
       "      <th></th>\n",
       "      <th>user_id</th>\n",
       "      <th>name</th>\n",
       "      <th>review_count</th>\n",
       "      <th>yelping_since</th>\n",
       "      <th>useful</th>\n",
       "      <th>funny</th>\n",
       "      <th>cool</th>\n",
       "      <th>elite</th>\n",
       "      <th>friends</th>\n",
       "      <th>fans</th>\n",
       "      <th>average_stars</th>\n",
       "      <th>compliment_hot</th>\n",
       "      <th>compliment_more</th>\n",
       "      <th>compliment_profile</th>\n",
       "      <th>compliment_cute</th>\n",
       "      <th>compliment_list</th>\n",
       "      <th>compliment_note</th>\n",
       "      <th>compliment_plain</th>\n",
       "      <th>compliment_cool</th>\n",
       "      <th>compliment_funny</th>\n",
       "      <th>compliment_writer</th>\n",
       "      <th>compliment_photos</th>\n",
       "    </tr>\n",
       "  </thead>\n",
       "  <tbody>\n",
       "    <tr>\n",
       "      <th>0</th>\n",
       "      <td>qVc8ODYU5SZjKXVBgXdI7w</td>\n",
       "      <td>Walker</td>\n",
       "      <td>585</td>\n",
       "      <td>2007-01-25 16:47:26</td>\n",
       "      <td>7217</td>\n",
       "      <td>1259</td>\n",
       "      <td>5994</td>\n",
       "      <td>2007</td>\n",
       "      <td>NSCy54eWehBJyZdG2iE84w, pe42u7DcCH2QmI81NX-8qA...</td>\n",
       "      <td>267</td>\n",
       "      <td>3.91</td>\n",
       "      <td>250</td>\n",
       "      <td>65</td>\n",
       "      <td>55</td>\n",
       "      <td>56</td>\n",
       "      <td>18</td>\n",
       "      <td>232</td>\n",
       "      <td>844</td>\n",
       "      <td>467</td>\n",
       "      <td>467</td>\n",
       "      <td>239</td>\n",
       "      <td>180</td>\n",
       "    </tr>\n",
       "  </tbody>\n",
       "</table>\n",
       "</div>"
      ],
      "text/plain": [
       "                  user_id    name  review_count        yelping_since  useful  \\\n",
       "0  qVc8ODYU5SZjKXVBgXdI7w  Walker           585  2007-01-25 16:47:26    7217   \n",
       "\n",
       "   funny  cool elite                                            friends  fans  \\\n",
       "0   1259  5994  2007  NSCy54eWehBJyZdG2iE84w, pe42u7DcCH2QmI81NX-8qA...   267   \n",
       "\n",
       "   average_stars  compliment_hot  compliment_more  compliment_profile  \\\n",
       "0           3.91             250               65                  55   \n",
       "\n",
       "   compliment_cute  compliment_list  compliment_note  compliment_plain  \\\n",
       "0               56               18              232               844   \n",
       "\n",
       "   compliment_cool  compliment_funny  compliment_writer  compliment_photos  \n",
       "0              467               467                239                180  "
      ]
     },
     "metadata": {},
     "output_type": "display_data"
    }
   ],
   "source": [
    "#visualisamos datos de manera general\n",
    "user.head(1)"
   ]
  },
  {
   "cell_type": "code",
   "execution_count": null,
   "metadata": {},
   "outputs": [
    {
     "data": {
      "text/plain": [
       "Index(['user_id', 'name', 'review_count', 'yelping_since', 'useful', 'funny',\n",
       "       'cool', 'elite', 'friends', 'fans', 'average_stars', 'compliment_hot',\n",
       "       'compliment_more', 'compliment_profile', 'compliment_cute',\n",
       "       'compliment_list', 'compliment_note', 'compliment_plain',\n",
       "       'compliment_cool', 'compliment_funny', 'compliment_writer',\n",
       "       'compliment_photos'],\n",
       "      dtype='object')"
      ]
     },
     "metadata": {},
     "output_type": "display_data"
    }
   ],
   "source": [
    "#observamos columnas\n",
    "user.columns"
   ]
  },
  {
   "cell_type": "code",
   "execution_count": null,
   "metadata": {},
   "outputs": [
    {
     "data": {
      "text/plain": [
       "user_id               0\n",
       "name                  0\n",
       "review_count          0\n",
       "yelping_since         0\n",
       "useful                0\n",
       "funny                 0\n",
       "cool                  0\n",
       "elite                 0\n",
       "friends               0\n",
       "fans                  0\n",
       "average_stars         0\n",
       "compliment_hot        0\n",
       "compliment_more       0\n",
       "compliment_profile    0\n",
       "compliment_cute       0\n",
       "compliment_list       0\n",
       "compliment_note       0\n",
       "compliment_plain      0\n",
       "compliment_cool       0\n",
       "compliment_funny      0\n",
       "compliment_writer     0\n",
       "compliment_photos     0\n",
       "dtype: int64"
      ]
     },
     "metadata": {},
     "output_type": "display_data"
    }
   ],
   "source": [
    "# verificamos la existencia de datos nulos.\n",
    "user.isna().sum()"
   ]
  },
  {
   "cell_type": "markdown",
   "metadata": {},
   "source": [
    "Después de un análisis exhaustivo de los datos contenidos en cada columna, hemos llegado a la conclusión de que las siguientes columnas serán eliminadas de nuestro conjunto de datos: 'yelping_since', 'compliment_hot', 'compliment_more', 'compliment_profile', 'compliment_cute', 'compliment_list', 'compliment_note', 'compliment_plain', 'compliment_cool', 'compliment_funny', 'compliment_writer' y 'compliment_photos'. Hemos tomado esta decisión debido a que, en el contexto de mostrar los usuarios con más reseñas en cada negocio o nicho, estas columnas no aportan relevancia significativa. "
   ]
  },
  {
   "cell_type": "code",
   "execution_count": null,
   "metadata": {},
   "outputs": [
    {
     "data": {
      "text/html": [
       "<div>\n",
       "<style scoped>\n",
       "    .dataframe tbody tr th:only-of-type {\n",
       "        vertical-align: middle;\n",
       "    }\n",
       "\n",
       "    .dataframe tbody tr th {\n",
       "        vertical-align: top;\n",
       "    }\n",
       "\n",
       "    .dataframe thead th {\n",
       "        text-align: right;\n",
       "    }\n",
       "</style>\n",
       "<table border=\"1\" class=\"dataframe\">\n",
       "  <thead>\n",
       "    <tr style=\"text-align: right;\">\n",
       "      <th></th>\n",
       "      <th>user_id</th>\n",
       "      <th>name</th>\n",
       "      <th>review_count</th>\n",
       "      <th>useful</th>\n",
       "      <th>funny</th>\n",
       "      <th>cool</th>\n",
       "      <th>friends</th>\n",
       "      <th>fans</th>\n",
       "      <th>average_stars</th>\n",
       "    </tr>\n",
       "  </thead>\n",
       "  <tbody>\n",
       "    <tr>\n",
       "      <th>0</th>\n",
       "      <td>qVc8ODYU5SZjKXVBgXdI7w</td>\n",
       "      <td>Walker</td>\n",
       "      <td>585</td>\n",
       "      <td>7217</td>\n",
       "      <td>1259</td>\n",
       "      <td>5994</td>\n",
       "      <td>NSCy54eWehBJyZdG2iE84w, pe42u7DcCH2QmI81NX-8qA...</td>\n",
       "      <td>267</td>\n",
       "      <td>3.91</td>\n",
       "    </tr>\n",
       "    <tr>\n",
       "      <th>1</th>\n",
       "      <td>2WnXYQFK0hXEoTxPtV2zvg</td>\n",
       "      <td>Steph</td>\n",
       "      <td>665</td>\n",
       "      <td>2086</td>\n",
       "      <td>1010</td>\n",
       "      <td>1003</td>\n",
       "      <td>LuO3Bn4f3rlhyHIaNfTlnA, j9B4XdHUhDfTKVecyWQgyA...</td>\n",
       "      <td>52</td>\n",
       "      <td>3.32</td>\n",
       "    </tr>\n",
       "    <tr>\n",
       "      <th>2</th>\n",
       "      <td>q_QQ5kBBwlCcbL1s4NVK3g</td>\n",
       "      <td>Jane</td>\n",
       "      <td>1221</td>\n",
       "      <td>14953</td>\n",
       "      <td>9940</td>\n",
       "      <td>11211</td>\n",
       "      <td>xBDpTUbai0DXrvxCe3X16Q, 7GPNBO496aecrjJfW6UWtg...</td>\n",
       "      <td>1357</td>\n",
       "      <td>3.85</td>\n",
       "    </tr>\n",
       "    <tr>\n",
       "      <th>3</th>\n",
       "      <td>xoZvMJPDW6Q9pDAXI0e_Ww</td>\n",
       "      <td>Ryan</td>\n",
       "      <td>535</td>\n",
       "      <td>1130</td>\n",
       "      <td>487</td>\n",
       "      <td>573</td>\n",
       "      <td>6tbXpUIU6upoeqWNDo9k_A, Vlab9b73R5qPLIv6tE4DJA...</td>\n",
       "      <td>31</td>\n",
       "      <td>3.89</td>\n",
       "    </tr>\n",
       "    <tr>\n",
       "      <th>4</th>\n",
       "      <td>vVukUtqoLF5BvH_VtQFNoA</td>\n",
       "      <td>Charlene</td>\n",
       "      <td>37</td>\n",
       "      <td>63</td>\n",
       "      <td>3</td>\n",
       "      <td>27</td>\n",
       "      <td>zkK6c9BcDyqreU0fqI_JLQ, opI1hhhFqElB6pptNH9ZqA...</td>\n",
       "      <td>4</td>\n",
       "      <td>4.51</td>\n",
       "    </tr>\n",
       "  </tbody>\n",
       "</table>\n",
       "</div>"
      ],
      "text/plain": [
       "                  user_id      name  review_count  useful  funny   cool  \\\n",
       "0  qVc8ODYU5SZjKXVBgXdI7w    Walker           585    7217   1259   5994   \n",
       "1  2WnXYQFK0hXEoTxPtV2zvg     Steph           665    2086   1010   1003   \n",
       "2  q_QQ5kBBwlCcbL1s4NVK3g      Jane          1221   14953   9940  11211   \n",
       "3  xoZvMJPDW6Q9pDAXI0e_Ww      Ryan           535    1130    487    573   \n",
       "4  vVukUtqoLF5BvH_VtQFNoA  Charlene            37      63      3     27   \n",
       "\n",
       "                                             friends  fans  average_stars  \n",
       "0  NSCy54eWehBJyZdG2iE84w, pe42u7DcCH2QmI81NX-8qA...   267           3.91  \n",
       "1  LuO3Bn4f3rlhyHIaNfTlnA, j9B4XdHUhDfTKVecyWQgyA...    52           3.32  \n",
       "2  xBDpTUbai0DXrvxCe3X16Q, 7GPNBO496aecrjJfW6UWtg...  1357           3.85  \n",
       "3  6tbXpUIU6upoeqWNDo9k_A, Vlab9b73R5qPLIv6tE4DJA...    31           3.89  \n",
       "4  zkK6c9BcDyqreU0fqI_JLQ, opI1hhhFqElB6pptNH9ZqA...     4           4.51  "
      ]
     },
     "metadata": {},
     "output_type": "display_data"
    }
   ],
   "source": [
    "#establecemos una variable con las columnas a borrar\n",
    "columnas_drop= ['yelping_since','elite', 'compliment_hot', 'compliment_more', 'compliment_profile', 'compliment_cute', 'compliment_list', 'compliment_note', 'compliment_plain', 'compliment_cool', 'compliment_funny', 'compliment_writer','compliment_photos']\n",
    "#borramos columnas.\n",
    "user.drop(columns= columnas_drop, inplace = True)\n",
    "#verificamos resultados\n",
    "user.head()"
   ]
  },
  {
   "cell_type": "markdown",
   "metadata": {},
   "source": [
    "### Diccionario de user \n"
   ]
  },
  {
   "cell_type": "markdown",
   "metadata": {},
   "source": [
    "•\tuser_id: Es un identificador único para el usuario. Es una cadena de texto que identifica al usuario en Yelp.\n",
    "\n",
    "•\tname: Es el nombre del usuario. Es una cadena de texto que representa el nombre del usuario en Yelp.\n",
    "\n",
    "•\treview_count: Es la cantidad total de reseñas que el usuario ha escrito en Yelp. Es un número entero que indica cuántas reseñas ha dejado el usuario.\n",
    "\n",
    "\n",
    "•\tuseful: Representa la cantidad total de votos \"útiles\" que el usuario ha recibido en sus reseñas por parte de otros usuarios. Es un número entero que indica cuántos usuarios han encontrado útiles las reseñas del usuario.\n",
    "\n",
    "•\tfunny: Representa la cantidad total de votos \"graciosos\" que el usuario ha recibido en sus reseñas por parte de otros usuarios. Es un número entero que indica cuántos usuarios han encontrado graciosas las reseñas del usuario.\n",
    "\n",
    "•\tcool: Representa la cantidad total de votos \"frescos\" que el usuario ha recibido en sus reseñas por parte de otros usuarios. Es un número entero que indica cuántos usuarios han encontrado frescas las reseñas del usuario.\n",
    "\n",
    "•\tfriends: Indica la cantidad de amigos que el usuario tiene en Yelp. Puede estar en blanco (nulo) si el usuario no ha proporcionado esta información.\n",
    "\n",
    "•\tfans: Número de seguidores que el usuario tiene en Yelp.\n"
   ]
  },
  {
   "cell_type": "code",
   "execution_count": null,
   "metadata": {},
   "outputs": [],
   "source": [
    "user.to_parquet(r'Dataset_filtrados\\Total_user')\n"
   ]
  },
  {
   "cell_type": "code",
   "execution_count": null,
   "metadata": {},
   "outputs": [],
   "source": []
  }
 ],
 "metadata": {
  "kernelspec": {
   "display_name": "Python 3",
   "language": "python",
   "name": "python3"
  },
  "language_info": {
   "codemirror_mode": {
    "name": "ipython",
    "version": 3
   },
   "file_extension": ".py",
   "mimetype": "text/x-python",
   "name": "python",
   "nbconvert_exporter": "python",
   "pygments_lexer": "ipython3",
   "version": "3.11.3"
  },
  "orig_nbformat": 4
 },
 "nbformat": 4,
 "nbformat_minor": 2
}
