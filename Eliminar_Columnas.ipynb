{
 "cells": [
  {
   "cell_type": "markdown",
   "metadata": {},
   "source": [
    "Información a considerar para el siguiente ETL.\n",
    "- 1 se borrarán las columnas que no influyan en los KPI que se plantearon para este proyecto. \n",
    "- 2 debajo de cada conjunto de código de cada datase estará el diccionario explicativo del contenido de cada columna.\n",
    " \n"
   ]
  },
  {
   "cell_type": "code",
   "execution_count": 2,
   "metadata": {},
   "outputs": [],
   "source": [
    "import pandas as pd"
   ]
  },
  {
   "cell_type": "code",
   "execution_count": 2,
   "metadata": {},
   "outputs": [],
   "source": [
    "# Configurar para mostrar todas las columnas y filas en la salida\n",
    "pd.set_option('display.max_columns', None)\n",
    "pd.set_option('display.max_rows', None)\n",
    "pd.set_option('display.width', None)"
   ]
  },
  {
   "cell_type": "code",
   "execution_count": 3,
   "metadata": {},
   "outputs": [],
   "source": [
    "# cargamos cada uno de los dataset\n",
    "business = pd.read_parquet(r'Dataset_filtrados\\business_filtrado_completo')\n",
    "checkin = pd.read_parquet(r'Dataset_filtrados\\Total_checkin')\n",
    "review = pd.read_parquet(r'Dataset_filtrados\\Total_reviews')\n",
    "tips = pd.read_parquet(r'Dataset_filtrados\\Total_tips')\n",
    "user = pd.read_parquet(r'Dataset_filtrados\\Total_user')\n"
   ]
  },
  {
   "cell_type": "markdown",
   "metadata": {},
   "source": [
    "# business"
   ]
  },
  {
   "cell_type": "code",
   "execution_count": 4,
   "metadata": {},
   "outputs": [
    {
     "data": {
      "text/html": [
       "<div>\n",
       "<style scoped>\n",
       "    .dataframe tbody tr th:only-of-type {\n",
       "        vertical-align: middle;\n",
       "    }\n",
       "\n",
       "    .dataframe tbody tr th {\n",
       "        vertical-align: top;\n",
       "    }\n",
       "\n",
       "    .dataframe thead th {\n",
       "        text-align: right;\n",
       "    }\n",
       "</style>\n",
       "<table border=\"1\" class=\"dataframe\">\n",
       "  <thead>\n",
       "    <tr style=\"text-align: right;\">\n",
       "      <th></th>\n",
       "      <th>business_id</th>\n",
       "      <th>name</th>\n",
       "      <th>address</th>\n",
       "      <th>city</th>\n",
       "      <th>state</th>\n",
       "      <th>postal_code</th>\n",
       "      <th>latitude</th>\n",
       "      <th>longitude</th>\n",
       "      <th>stars</th>\n",
       "      <th>review_count</th>\n",
       "      <th>is_open</th>\n",
       "      <th>attributes</th>\n",
       "      <th>categories</th>\n",
       "      <th>hours</th>\n",
       "    </tr>\n",
       "  </thead>\n",
       "  <tbody>\n",
       "    <tr>\n",
       "      <th>39</th>\n",
       "      <td>fSCNwMtNNQY9QT69Cj9fiA</td>\n",
       "      <td>Sierra Pro Events</td>\n",
       "      <td></td>\n",
       "      <td>Sparks</td>\n",
       "      <td>NV</td>\n",
       "      <td>89431</td>\n",
       "      <td>39.540154</td>\n",
       "      <td>-119.748395</td>\n",
       "      <td>5.0</td>\n",
       "      <td>7</td>\n",
       "      <td>1</td>\n",
       "      <td>{'AcceptsInsurance': None, 'AgesAllowed': None...</td>\n",
       "      <td>Musicians, DJs, Karaoke, Event Planning &amp; Serv...</td>\n",
       "      <td>{'Friday': '9:0-17:0', 'Monday': '9:0-17:0', '...</td>\n",
       "    </tr>\n",
       "  </tbody>\n",
       "</table>\n",
       "</div>"
      ],
      "text/plain": [
       "               business_id               name address    city state  \\\n",
       "39  fSCNwMtNNQY9QT69Cj9fiA  Sierra Pro Events          Sparks    NV   \n",
       "\n",
       "   postal_code   latitude   longitude  stars  review_count  is_open  \\\n",
       "39       89431  39.540154 -119.748395    5.0             7        1   \n",
       "\n",
       "                                           attributes  \\\n",
       "39  {'AcceptsInsurance': None, 'AgesAllowed': None...   \n",
       "\n",
       "                                           categories  \\\n",
       "39  Musicians, DJs, Karaoke, Event Planning & Serv...   \n",
       "\n",
       "                                                hours  \n",
       "39  {'Friday': '9:0-17:0', 'Monday': '9:0-17:0', '...  "
      ]
     },
     "execution_count": 4,
     "metadata": {},
     "output_type": "execute_result"
    }
   ],
   "source": [
    "#verificamos informacion general\n",
    "business.head(1)"
   ]
  },
  {
   "cell_type": "code",
   "execution_count": 5,
   "metadata": {},
   "outputs": [
    {
     "data": {
      "text/plain": [
       "Index(['business_id', 'name', 'address', 'city', 'state', 'postal_code',\n",
       "       'latitude', 'longitude', 'stars', 'review_count', 'is_open',\n",
       "       'attributes', 'categories', 'hours'],\n",
       "      dtype='object')"
      ]
     },
     "execution_count": 5,
     "metadata": {},
     "output_type": "execute_result"
    }
   ],
   "source": [
    "#Visuaisamos columnas\n",
    "business.columns"
   ]
  },
  {
   "cell_type": "markdown",
   "metadata": {},
   "source": [
    "Considerando los kpis, se ha tomado la decisión de eliminar as columnas que no tendrían influencia en estos con el fin de aligerar el peso de los dataset y mejorar su almacenamiento.\n",
    "\n",
    "Por lo tanto las columnas 'is_open', 'hours', 'attributes’, al no tener información que se utilizara en el sistema de recomendación  y en la medición de los kpis serán eliminadas. \n"
   ]
  },
  {
   "cell_type": "code",
   "execution_count": 6,
   "metadata": {},
   "outputs": [],
   "source": [
    "columnas_a_eliminar = ['is_open', 'hours', 'attributes']\n",
    "business.drop(columns=columnas_a_eliminar, inplace=True)\n"
   ]
  },
  {
   "cell_type": "code",
   "execution_count": 7,
   "metadata": {},
   "outputs": [
    {
     "data": {
      "text/plain": [
       "Index(['business_id', 'name', 'address', 'city', 'state', 'postal_code',\n",
       "       'latitude', 'longitude', 'stars', 'review_count', 'categories'],\n",
       "      dtype='object')"
      ]
     },
     "execution_count": 7,
     "metadata": {},
     "output_type": "execute_result"
    }
   ],
   "source": [
    "#verificamos cambios \n",
    "business.columns"
   ]
  },
  {
   "cell_type": "code",
   "execution_count": 8,
   "metadata": {},
   "outputs": [
    {
     "data": {
      "text/plain": [
       "business_id     0\n",
       "name            0\n",
       "address         0\n",
       "city            0\n",
       "state           0\n",
       "postal_code     0\n",
       "latitude        0\n",
       "longitude       0\n",
       "stars           0\n",
       "review_count    0\n",
       "categories      0\n",
       "dtype: int64"
      ]
     },
     "execution_count": 8,
     "metadata": {},
     "output_type": "execute_result"
    }
   ],
   "source": [
    "#verificamos la existencia de datos nulos\n",
    "business.isna().sum()"
   ]
  },
  {
   "cell_type": "code",
   "execution_count": 9,
   "metadata": {},
   "outputs": [
    {
     "data": {
      "text/plain": [
       "array(['NV', 'FL', 'CA', 'IL'], dtype=object)"
      ]
     },
     "execution_count": 9,
     "metadata": {},
     "output_type": "execute_result"
    }
   ],
   "source": [
    "#ratificamos que los estads que se utilizaran son \n",
    "# 'NV': Nevada\n",
    "# 'FL': Florida\n",
    "# 'CA': California\n",
    "# 'IL': Illinois\n",
    "business['state'].unique()"
   ]
  },
  {
   "cell_type": "code",
   "execution_count": 10,
   "metadata": {},
   "outputs": [],
   "source": [
    "business.to_parquet(r'Dataset_filtrados\\business_filtrado_completo')"
   ]
  },
  {
   "cell_type": "markdown",
   "metadata": {},
   "source": [
    "## Diccionario de Bussines "
   ]
  },
  {
   "cell_type": "markdown",
   "metadata": {},
   "source": [
    "•\tbusiness_id: Un identificador único para cada negocio en la base de datos.\n",
    "\n",
    "•\tname: El nombre del negocio.\n",
    "\n",
    "•\taddress: La dirección del negocio.\n",
    "\n",
    "•\tcity: La ciudad donde se encuentra el negocio.\n",
    "\n",
    "•\tstate: El estado o provincia donde se encuentra el negocio.\n",
    "\n",
    "•\tpostal_code: El código postal del área donde se encuentra el negocio.\n",
    "\n",
    "•\tlatitude: La latitud geográfica del negocio.\n",
    "\n",
    "•\tlongitude: La longitud geográfica del negocio.\n",
    "\n",
    "•\tstars: La calificación promedio del negocio en Yelp, en una escala de 1 a 5 estrellas.\n",
    "\n",
    "•\treview_count: El número total de reseñas que ha recibido el negocio en Yelp.\n",
    "\n",
    "•\tcategories: Las categorías o etiquetas que describen el tipo de negocio, separadas por comas.\n"
   ]
  },
  {
   "cell_type": "markdown",
   "metadata": {},
   "source": [
    "# checkin"
   ]
  },
  {
   "cell_type": "code",
   "execution_count": 11,
   "metadata": {},
   "outputs": [
    {
     "data": {
      "text/html": [
       "<div>\n",
       "<style scoped>\n",
       "    .dataframe tbody tr th:only-of-type {\n",
       "        vertical-align: middle;\n",
       "    }\n",
       "\n",
       "    .dataframe tbody tr th {\n",
       "        vertical-align: top;\n",
       "    }\n",
       "\n",
       "    .dataframe thead th {\n",
       "        text-align: right;\n",
       "    }\n",
       "</style>\n",
       "<table border=\"1\" class=\"dataframe\">\n",
       "  <thead>\n",
       "    <tr style=\"text-align: right;\">\n",
       "      <th></th>\n",
       "      <th>business_id</th>\n",
       "      <th>date</th>\n",
       "    </tr>\n",
       "  </thead>\n",
       "  <tbody>\n",
       "    <tr>\n",
       "      <th>7</th>\n",
       "      <td>--ARBQr1WMsTWiwOKOj-FQ</td>\n",
       "      <td>2014-12-12 00:44:23, 2015-01-09 00:19:52, 2015...</td>\n",
       "    </tr>\n",
       "  </tbody>\n",
       "</table>\n",
       "</div>"
      ],
      "text/plain": [
       "              business_id                                               date\n",
       "7  --ARBQr1WMsTWiwOKOj-FQ  2014-12-12 00:44:23, 2015-01-09 00:19:52, 2015..."
      ]
     },
     "execution_count": 11,
     "metadata": {},
     "output_type": "execute_result"
    }
   ],
   "source": [
    "#visuaizamos datos de forma general\n",
    "checkin.head(1)"
   ]
  },
  {
   "cell_type": "code",
   "execution_count": 12,
   "metadata": {},
   "outputs": [
    {
     "data": {
      "text/plain": [
       "business_id    0\n",
       "date           0\n",
       "dtype: int64"
      ]
     },
     "execution_count": 12,
     "metadata": {},
     "output_type": "execute_result"
    }
   ],
   "source": [
    "#verificamos la existencia de datos nulos\n",
    "checkin.isna().sum()"
   ]
  },
  {
   "cell_type": "markdown",
   "metadata": {},
   "source": [
    "## Diccionario de checkin "
   ]
  },
  {
   "cell_type": "markdown",
   "metadata": {},
   "source": [
    "•\tbusiness_id: Es un identificador único para cada negocio en Yelp.\n",
    "\n",
    "•\tdate: Representa las fechas en las que se registraron los check-ins para el negocio. Puede haber múltiples fechas separadas por comas para un mismo negocio, lo que sugiere múltiples check-ins en diferentes momentos.\n"
   ]
  },
  {
   "cell_type": "code",
   "execution_count": 41,
   "metadata": {},
   "outputs": [],
   "source": [
    "checkin.to_parquet(r'Dataset_filtrados\\Total_checkin')\n"
   ]
  },
  {
   "cell_type": "markdown",
   "metadata": {},
   "source": [
    "# union de business y checkin"
   ]
  },
  {
   "cell_type": "markdown",
   "metadata": {},
   "source": [
    "Se ha pensado una nueva forma de abordar el área de negocio, a partir de este dataset, tomando en consideración las visitas a su página web y que hoy en día gran parte del mercadeos se da mediante internet, utilizaremos la columna date  para ver las visitas de un citio y según el promedio de las visitas de los negocios parecidos recomendar que se puede hacer desde el área de marketing"
   ]
  },
  {
   "cell_type": "code",
   "execution_count": 13,
   "metadata": {},
   "outputs": [],
   "source": [
    "# unimos los dataset de business y checkin para relacional las visitas a cada negocio \n",
    "Visitas = pd.merge(business, checkin, on='business_id')"
   ]
  },
  {
   "cell_type": "code",
   "execution_count": 14,
   "metadata": {},
   "outputs": [
    {
     "data": {
      "text/html": [
       "<div>\n",
       "<style scoped>\n",
       "    .dataframe tbody tr th:only-of-type {\n",
       "        vertical-align: middle;\n",
       "    }\n",
       "\n",
       "    .dataframe tbody tr th {\n",
       "        vertical-align: top;\n",
       "    }\n",
       "\n",
       "    .dataframe thead th {\n",
       "        text-align: right;\n",
       "    }\n",
       "</style>\n",
       "<table border=\"1\" class=\"dataframe\">\n",
       "  <thead>\n",
       "    <tr style=\"text-align: right;\">\n",
       "      <th></th>\n",
       "      <th>business_id</th>\n",
       "      <th>name</th>\n",
       "      <th>address</th>\n",
       "      <th>city</th>\n",
       "      <th>state</th>\n",
       "      <th>postal_code</th>\n",
       "      <th>latitude</th>\n",
       "      <th>longitude</th>\n",
       "      <th>stars</th>\n",
       "      <th>review_count</th>\n",
       "      <th>categories</th>\n",
       "      <th>date</th>\n",
       "    </tr>\n",
       "  </thead>\n",
       "  <tbody>\n",
       "    <tr>\n",
       "      <th>0</th>\n",
       "      <td>pJfh3Ct8iL58NZa8ta-a5w</td>\n",
       "      <td>Top Shelf Sports Lounge</td>\n",
       "      <td>3173 Cypress Ridge Blvd</td>\n",
       "      <td>Wesley Chapel</td>\n",
       "      <td>FL</td>\n",
       "      <td>33544</td>\n",
       "      <td>28.196252</td>\n",
       "      <td>-82.380615</td>\n",
       "      <td>4.5</td>\n",
       "      <td>95</td>\n",
       "      <td>Burgers, Sports Bars, Bars, Lounges, Restauran...</td>\n",
       "      <td>2018-02-09 22:40:05, 2018-03-25 21:01:21, 2018...</td>\n",
       "    </tr>\n",
       "  </tbody>\n",
       "</table>\n",
       "</div>"
      ],
      "text/plain": [
       "              business_id                     name                  address  \\\n",
       "0  pJfh3Ct8iL58NZa8ta-a5w  Top Shelf Sports Lounge  3173 Cypress Ridge Blvd   \n",
       "\n",
       "            city state postal_code   latitude  longitude  stars  review_count  \\\n",
       "0  Wesley Chapel    FL       33544  28.196252 -82.380615    4.5            95   \n",
       "\n",
       "                                          categories  \\\n",
       "0  Burgers, Sports Bars, Bars, Lounges, Restauran...   \n",
       "\n",
       "                                                date  \n",
       "0  2018-02-09 22:40:05, 2018-03-25 21:01:21, 2018...  "
      ]
     },
     "execution_count": 14,
     "metadata": {},
     "output_type": "execute_result"
    }
   ],
   "source": [
    "#visuaizamos datos de forma general\n",
    "Visitas.head(1)"
   ]
  },
  {
   "cell_type": "code",
   "execution_count": 15,
   "metadata": {},
   "outputs": [],
   "source": [
    "# A partir de la columna date, que como se menciono anteriormente contiene fechas de las visitas en la pagina web de cada negocio,\n",
    "# se genera una nueva columna que contiene la cantidad de visitas. \n",
    "Visitas['num_Visitas'] = Visitas['date'].apply(lambda x: len(x.split(',')))"
   ]
  },
  {
   "cell_type": "code",
   "execution_count": 16,
   "metadata": {},
   "outputs": [
    {
     "data": {
      "text/html": [
       "<div>\n",
       "<style scoped>\n",
       "    .dataframe tbody tr th:only-of-type {\n",
       "        vertical-align: middle;\n",
       "    }\n",
       "\n",
       "    .dataframe tbody tr th {\n",
       "        vertical-align: top;\n",
       "    }\n",
       "\n",
       "    .dataframe thead th {\n",
       "        text-align: right;\n",
       "    }\n",
       "</style>\n",
       "<table border=\"1\" class=\"dataframe\">\n",
       "  <thead>\n",
       "    <tr style=\"text-align: right;\">\n",
       "      <th></th>\n",
       "      <th>business_id</th>\n",
       "      <th>name</th>\n",
       "      <th>address</th>\n",
       "      <th>city</th>\n",
       "      <th>state</th>\n",
       "      <th>postal_code</th>\n",
       "      <th>latitude</th>\n",
       "      <th>longitude</th>\n",
       "      <th>stars</th>\n",
       "      <th>review_count</th>\n",
       "      <th>categories</th>\n",
       "      <th>date</th>\n",
       "      <th>num_Visitas</th>\n",
       "    </tr>\n",
       "  </thead>\n",
       "  <tbody>\n",
       "    <tr>\n",
       "      <th>0</th>\n",
       "      <td>pJfh3Ct8iL58NZa8ta-a5w</td>\n",
       "      <td>Top Shelf Sports Lounge</td>\n",
       "      <td>3173 Cypress Ridge Blvd</td>\n",
       "      <td>Wesley Chapel</td>\n",
       "      <td>FL</td>\n",
       "      <td>33544</td>\n",
       "      <td>28.196252</td>\n",
       "      <td>-82.380615</td>\n",
       "      <td>4.5</td>\n",
       "      <td>95</td>\n",
       "      <td>Burgers, Sports Bars, Bars, Lounges, Restauran...</td>\n",
       "      <td>2018-02-09 22:40:05, 2018-03-25 21:01:21, 2018...</td>\n",
       "      <td>111</td>\n",
       "    </tr>\n",
       "  </tbody>\n",
       "</table>\n",
       "</div>"
      ],
      "text/plain": [
       "              business_id                     name                  address  \\\n",
       "0  pJfh3Ct8iL58NZa8ta-a5w  Top Shelf Sports Lounge  3173 Cypress Ridge Blvd   \n",
       "\n",
       "            city state postal_code   latitude  longitude  stars  review_count  \\\n",
       "0  Wesley Chapel    FL       33544  28.196252 -82.380615    4.5            95   \n",
       "\n",
       "                                          categories  \\\n",
       "0  Burgers, Sports Bars, Bars, Lounges, Restauran...   \n",
       "\n",
       "                                                date  num_Visitas  \n",
       "0  2018-02-09 22:40:05, 2018-03-25 21:01:21, 2018...          111  "
      ]
     },
     "execution_count": 16,
     "metadata": {},
     "output_type": "execute_result"
    }
   ],
   "source": [
    "#verificamos datos.\n",
    "Visitas.head(1)"
   ]
  },
  {
   "cell_type": "markdown",
   "metadata": {},
   "source": [
    "A continuación, se calculará el promedio de visitas de cada nicho o negocio (hoteles, bars, nightlife) y para ello se crea la siguiente función"
   ]
  },
  {
   "cell_type": "code",
   "execution_count": 17,
   "metadata": {},
   "outputs": [],
   "source": [
    "def asignar_promedio(row):\n",
    "    #promedio de visitas para hoteles, Aquí se calcula el promedio de visitas de todas los negocios en los cuales la columna categoría contenga la palabra ‘hotel’ \n",
    "    promedio_hotel= Visitas[Visitas['categories'].str.lower().str.strip().str.contains('hotel')]['num_Visitas'].mean() \n",
    "    #promedio de visitas para nightlife, Aquí se calcula el promedio de visitas de todas los negocios en los cuales la columna categoría contenga la palabra ‘nightlife’ \n",
    "    promedio_nightlife = Visitas[Visitas['categories'].str.lower().str.strip().str.contains('nightlife')]['num_Visitas'].mean()\n",
    "    #promedio de visitas para bars, Aquí se calcula el promedio de visitas de todas los negocios en los cuales la columna categoría contenga la palabra ‘bars’ \n",
    "    promedio_bars= Visitas[Visitas['categories'].str.lower().str.strip().str.contains('bars')]['num_Visitas'].mean()\n",
    "    if 'hotel' in row['categories'].lower():\n",
    "        return promedio_hotel\n",
    "    elif 'nightlife' in row['categories'].lower():\n",
    "        return promedio_nightlife\n",
    "    elif 'bars' in row['categories'].lower():\n",
    "        return promedio_bars\n",
    "    else:\n",
    "        return None  # O el valor por defecto que desees"
   ]
  },
  {
   "cell_type": "code",
   "execution_count": 18,
   "metadata": {},
   "outputs": [],
   "source": [
    "#se crea una nueva columna aplicando la función previamente creada\n",
    "Visitas['promedio_visitas'] = Visitas.apply(asignar_promedio, axis=1)\n"
   ]
  },
  {
   "cell_type": "code",
   "execution_count": 19,
   "metadata": {},
   "outputs": [
    {
     "data": {
      "text/html": [
       "<div>\n",
       "<style scoped>\n",
       "    .dataframe tbody tr th:only-of-type {\n",
       "        vertical-align: middle;\n",
       "    }\n",
       "\n",
       "    .dataframe tbody tr th {\n",
       "        vertical-align: top;\n",
       "    }\n",
       "\n",
       "    .dataframe thead th {\n",
       "        text-align: right;\n",
       "    }\n",
       "</style>\n",
       "<table border=\"1\" class=\"dataframe\">\n",
       "  <thead>\n",
       "    <tr style=\"text-align: right;\">\n",
       "      <th></th>\n",
       "      <th>business_id</th>\n",
       "      <th>name</th>\n",
       "      <th>address</th>\n",
       "      <th>city</th>\n",
       "      <th>state</th>\n",
       "      <th>postal_code</th>\n",
       "      <th>latitude</th>\n",
       "      <th>longitude</th>\n",
       "      <th>stars</th>\n",
       "      <th>review_count</th>\n",
       "      <th>categories</th>\n",
       "      <th>date</th>\n",
       "      <th>num_Visitas</th>\n",
       "      <th>promedio_visitas</th>\n",
       "    </tr>\n",
       "  </thead>\n",
       "  <tbody>\n",
       "    <tr>\n",
       "      <th>0</th>\n",
       "      <td>pJfh3Ct8iL58NZa8ta-a5w</td>\n",
       "      <td>Top Shelf Sports Lounge</td>\n",
       "      <td>3173 Cypress Ridge Blvd</td>\n",
       "      <td>Wesley Chapel</td>\n",
       "      <td>FL</td>\n",
       "      <td>33544</td>\n",
       "      <td>28.196252</td>\n",
       "      <td>-82.380615</td>\n",
       "      <td>4.5</td>\n",
       "      <td>95</td>\n",
       "      <td>Burgers, Sports Bars, Bars, Lounges, Restauran...</td>\n",
       "      <td>2018-02-09 22:40:05, 2018-03-25 21:01:21, 2018...</td>\n",
       "      <td>111</td>\n",
       "      <td>258.313062</td>\n",
       "    </tr>\n",
       "  </tbody>\n",
       "</table>\n",
       "</div>"
      ],
      "text/plain": [
       "              business_id                     name                  address  \\\n",
       "0  pJfh3Ct8iL58NZa8ta-a5w  Top Shelf Sports Lounge  3173 Cypress Ridge Blvd   \n",
       "\n",
       "            city state postal_code   latitude  longitude  stars  review_count  \\\n",
       "0  Wesley Chapel    FL       33544  28.196252 -82.380615    4.5            95   \n",
       "\n",
       "                                          categories  \\\n",
       "0  Burgers, Sports Bars, Bars, Lounges, Restauran...   \n",
       "\n",
       "                                                date  num_Visitas  \\\n",
       "0  2018-02-09 22:40:05, 2018-03-25 21:01:21, 2018...          111   \n",
       "\n",
       "   promedio_visitas  \n",
       "0        258.313062  "
      ]
     },
     "execution_count": 19,
     "metadata": {},
     "output_type": "execute_result"
    }
   ],
   "source": [
    "Visitas.head(1)"
   ]
  },
  {
   "cell_type": "code",
   "execution_count": 20,
   "metadata": {},
   "outputs": [],
   "source": [
    "# Función para asignar mensajes en función de si el valor es menor o mayor que el promedio\n",
    "def resultado(row):\n",
    "    if row['num_Visitas'] < row['promedio_visitas']:\n",
    "        return 'menor al promedio'\n",
    "    elif row['num_Visitas'] > row['promedio_visitas']:\n",
    "        return 'mayor al promedio'\n",
    "    else:\n",
    "        return 'igual al promedio'\n"
   ]
  },
  {
   "cell_type": "code",
   "execution_count": 21,
   "metadata": {},
   "outputs": [],
   "source": [
    "\n",
    "# Aplicar la función a cada fila y crear una nueva columna 'mensaje_promedio'\n",
    "Visitas['mensaje_promedio'] = Visitas.apply(resultado, axis=1)\n"
   ]
  },
  {
   "cell_type": "code",
   "execution_count": 22,
   "metadata": {},
   "outputs": [
    {
     "data": {
      "text/html": [
       "<div>\n",
       "<style scoped>\n",
       "    .dataframe tbody tr th:only-of-type {\n",
       "        vertical-align: middle;\n",
       "    }\n",
       "\n",
       "    .dataframe tbody tr th {\n",
       "        vertical-align: top;\n",
       "    }\n",
       "\n",
       "    .dataframe thead th {\n",
       "        text-align: right;\n",
       "    }\n",
       "</style>\n",
       "<table border=\"1\" class=\"dataframe\">\n",
       "  <thead>\n",
       "    <tr style=\"text-align: right;\">\n",
       "      <th></th>\n",
       "      <th>business_id</th>\n",
       "      <th>name</th>\n",
       "      <th>address</th>\n",
       "      <th>city</th>\n",
       "      <th>state</th>\n",
       "      <th>postal_code</th>\n",
       "      <th>latitude</th>\n",
       "      <th>longitude</th>\n",
       "      <th>stars</th>\n",
       "      <th>review_count</th>\n",
       "      <th>categories</th>\n",
       "      <th>date</th>\n",
       "      <th>num_Visitas</th>\n",
       "      <th>promedio_visitas</th>\n",
       "      <th>mensaje_promedio</th>\n",
       "    </tr>\n",
       "  </thead>\n",
       "  <tbody>\n",
       "    <tr>\n",
       "      <th>0</th>\n",
       "      <td>pJfh3Ct8iL58NZa8ta-a5w</td>\n",
       "      <td>Top Shelf Sports Lounge</td>\n",
       "      <td>3173 Cypress Ridge Blvd</td>\n",
       "      <td>Wesley Chapel</td>\n",
       "      <td>FL</td>\n",
       "      <td>33544</td>\n",
       "      <td>28.196252</td>\n",
       "      <td>-82.380615</td>\n",
       "      <td>4.5</td>\n",
       "      <td>95</td>\n",
       "      <td>Burgers, Sports Bars, Bars, Lounges, Restauran...</td>\n",
       "      <td>2018-02-09 22:40:05, 2018-03-25 21:01:21, 2018...</td>\n",
       "      <td>111</td>\n",
       "      <td>258.313062</td>\n",
       "      <td>menor al promedio</td>\n",
       "    </tr>\n",
       "    <tr>\n",
       "      <th>1</th>\n",
       "      <td>SZU9c8V2GuREDN5KgyHFJw</td>\n",
       "      <td>Santa Barbara Shellfish Company</td>\n",
       "      <td>230 Stearns Wharf</td>\n",
       "      <td>Santa Barbara</td>\n",
       "      <td>CA</td>\n",
       "      <td>93101</td>\n",
       "      <td>34.408715</td>\n",
       "      <td>-119.685019</td>\n",
       "      <td>4.0</td>\n",
       "      <td>2404</td>\n",
       "      <td>Live/Raw Food, Restaurants, Seafood, Beer Bar,...</td>\n",
       "      <td>2010-03-07 05:23:49, 2010-03-21 05:07:50, 2010...</td>\n",
       "      <td>6148</td>\n",
       "      <td>258.313062</td>\n",
       "      <td>mayor al promedio</td>\n",
       "    </tr>\n",
       "    <tr>\n",
       "      <th>2</th>\n",
       "      <td>7Du9oW73YcYFmXdtU5aiSg</td>\n",
       "      <td>Kinjo's Japanese Restaurant</td>\n",
       "      <td>2875 Tyrone Blvd N</td>\n",
       "      <td>Saint Petersburg</td>\n",
       "      <td>FL</td>\n",
       "      <td>33710</td>\n",
       "      <td>27.797263</td>\n",
       "      <td>-82.733913</td>\n",
       "      <td>3.5</td>\n",
       "      <td>17</td>\n",
       "      <td>Japanese, Sushi Bars, Restaurants</td>\n",
       "      <td>2010-07-14 22:36:50, 2010-07-15 21:04:21, 2010...</td>\n",
       "      <td>31</td>\n",
       "      <td>253.113694</td>\n",
       "      <td>menor al promedio</td>\n",
       "    </tr>\n",
       "    <tr>\n",
       "      <th>3</th>\n",
       "      <td>znL4YrNbA2uwOQ3CchkmEA</td>\n",
       "      <td>Seaview Condominiums</td>\n",
       "      <td>14700 Gulf Blvd</td>\n",
       "      <td>Madeira Beach</td>\n",
       "      <td>FL</td>\n",
       "      <td>33708</td>\n",
       "      <td>27.798503</td>\n",
       "      <td>-82.798750</td>\n",
       "      <td>4.5</td>\n",
       "      <td>8</td>\n",
       "      <td>Home Services, Vacation Rentals, Real Estate, ...</td>\n",
       "      <td>2015-06-14 01:25:52, 2015-06-17 21:28:10, 2015...</td>\n",
       "      <td>3</td>\n",
       "      <td>152.773946</td>\n",
       "      <td>menor al promedio</td>\n",
       "    </tr>\n",
       "    <tr>\n",
       "      <th>4</th>\n",
       "      <td>ZU6NodDOWaabGkeNpOWdXw</td>\n",
       "      <td>530 Pub &amp; Grill</td>\n",
       "      <td>530 Cleveland St</td>\n",
       "      <td>Clearwater</td>\n",
       "      <td>FL</td>\n",
       "      <td>33755</td>\n",
       "      <td>27.965747</td>\n",
       "      <td>-82.798901</td>\n",
       "      <td>4.5</td>\n",
       "      <td>6</td>\n",
       "      <td>American (Traditional), Restaurants, Burgers, ...</td>\n",
       "      <td>2021-07-30 17:28:16</td>\n",
       "      <td>1</td>\n",
       "      <td>258.313062</td>\n",
       "      <td>menor al promedio</td>\n",
       "    </tr>\n",
       "  </tbody>\n",
       "</table>\n",
       "</div>"
      ],
      "text/plain": [
       "              business_id                             name  \\\n",
       "0  pJfh3Ct8iL58NZa8ta-a5w          Top Shelf Sports Lounge   \n",
       "1  SZU9c8V2GuREDN5KgyHFJw  Santa Barbara Shellfish Company   \n",
       "2  7Du9oW73YcYFmXdtU5aiSg      Kinjo's Japanese Restaurant   \n",
       "3  znL4YrNbA2uwOQ3CchkmEA             Seaview Condominiums   \n",
       "4  ZU6NodDOWaabGkeNpOWdXw                  530 Pub & Grill   \n",
       "\n",
       "                   address              city state postal_code   latitude  \\\n",
       "0  3173 Cypress Ridge Blvd     Wesley Chapel    FL       33544  28.196252   \n",
       "1        230 Stearns Wharf     Santa Barbara    CA       93101  34.408715   \n",
       "2       2875 Tyrone Blvd N  Saint Petersburg    FL       33710  27.797263   \n",
       "3          14700 Gulf Blvd     Madeira Beach    FL       33708  27.798503   \n",
       "4         530 Cleveland St        Clearwater    FL       33755  27.965747   \n",
       "\n",
       "    longitude  stars  review_count  \\\n",
       "0  -82.380615    4.5            95   \n",
       "1 -119.685019    4.0          2404   \n",
       "2  -82.733913    3.5            17   \n",
       "3  -82.798750    4.5             8   \n",
       "4  -82.798901    4.5             6   \n",
       "\n",
       "                                          categories  \\\n",
       "0  Burgers, Sports Bars, Bars, Lounges, Restauran...   \n",
       "1  Live/Raw Food, Restaurants, Seafood, Beer Bar,...   \n",
       "2                  Japanese, Sushi Bars, Restaurants   \n",
       "3  Home Services, Vacation Rentals, Real Estate, ...   \n",
       "4  American (Traditional), Restaurants, Burgers, ...   \n",
       "\n",
       "                                                date  num_Visitas  \\\n",
       "0  2018-02-09 22:40:05, 2018-03-25 21:01:21, 2018...          111   \n",
       "1  2010-03-07 05:23:49, 2010-03-21 05:07:50, 2010...         6148   \n",
       "2  2010-07-14 22:36:50, 2010-07-15 21:04:21, 2010...           31   \n",
       "3  2015-06-14 01:25:52, 2015-06-17 21:28:10, 2015...            3   \n",
       "4                                2021-07-30 17:28:16            1   \n",
       "\n",
       "   promedio_visitas   mensaje_promedio  \n",
       "0        258.313062  menor al promedio  \n",
       "1        258.313062  mayor al promedio  \n",
       "2        253.113694  menor al promedio  \n",
       "3        152.773946  menor al promedio  \n",
       "4        258.313062  menor al promedio  "
      ]
     },
     "execution_count": 22,
     "metadata": {},
     "output_type": "execute_result"
    }
   ],
   "source": [
    "Visitas.head()"
   ]
  },
  {
   "cell_type": "markdown",
   "metadata": {},
   "source": [
    "# review"
   ]
  },
  {
   "cell_type": "code",
   "execution_count": 4,
   "metadata": {},
   "outputs": [
    {
     "data": {
      "text/html": [
       "<div>\n",
       "<style scoped>\n",
       "    .dataframe tbody tr th:only-of-type {\n",
       "        vertical-align: middle;\n",
       "    }\n",
       "\n",
       "    .dataframe tbody tr th {\n",
       "        vertical-align: top;\n",
       "    }\n",
       "\n",
       "    .dataframe thead th {\n",
       "        text-align: right;\n",
       "    }\n",
       "</style>\n",
       "<table border=\"1\" class=\"dataframe\">\n",
       "  <thead>\n",
       "    <tr style=\"text-align: right;\">\n",
       "      <th></th>\n",
       "      <th>review_id</th>\n",
       "      <th>user_id</th>\n",
       "      <th>business_id</th>\n",
       "      <th>stars</th>\n",
       "      <th>useful</th>\n",
       "      <th>funny</th>\n",
       "      <th>cool</th>\n",
       "      <th>text</th>\n",
       "      <th>date</th>\n",
       "    </tr>\n",
       "  </thead>\n",
       "  <tbody>\n",
       "    <tr>\n",
       "      <th>0</th>\n",
       "      <td>pUycOfUwM8vqX7KjRRhUEA</td>\n",
       "      <td>59MxRhNVhU9MYndMkz0wtw</td>\n",
       "      <td>gebiRewfieSdtt17PTW6Zg</td>\n",
       "      <td>3.0</td>\n",
       "      <td>0</td>\n",
       "      <td>0</td>\n",
       "      <td>0</td>\n",
       "      <td>Had a party of 6 here for hibachi. Our waitres...</td>\n",
       "      <td>2016-07-25 07:31:06</td>\n",
       "    </tr>\n",
       "  </tbody>\n",
       "</table>\n",
       "</div>"
      ],
      "text/plain": [
       "                review_id                 user_id             business_id  \\\n",
       "0  pUycOfUwM8vqX7KjRRhUEA  59MxRhNVhU9MYndMkz0wtw  gebiRewfieSdtt17PTW6Zg   \n",
       "\n",
       "   stars  useful  funny  cool  \\\n",
       "0    3.0       0      0     0   \n",
       "\n",
       "                                                text                 date  \n",
       "0  Had a party of 6 here for hibachi. Our waitres...  2016-07-25 07:31:06  "
      ]
     },
     "execution_count": 4,
     "metadata": {},
     "output_type": "execute_result"
    }
   ],
   "source": [
    "#vemos datos en general\n",
    "review.head(1)"
   ]
  },
  {
   "cell_type": "code",
   "execution_count": 5,
   "metadata": {},
   "outputs": [
    {
     "data": {
      "text/plain": [
       "Index(['review_id', 'user_id', 'business_id', 'stars', 'useful', 'funny',\n",
       "       'cool', 'text', 'date'],\n",
       "      dtype='object')"
      ]
     },
     "execution_count": 5,
     "metadata": {},
     "output_type": "execute_result"
    }
   ],
   "source": [
    "#visualizamos columnas\n",
    "review.columns"
   ]
  },
  {
   "cell_type": "code",
   "execution_count": 6,
   "metadata": {},
   "outputs": [
    {
     "data": {
      "text/plain": [
       "review_id      0\n",
       "user_id        0\n",
       "business_id    0\n",
       "stars          0\n",
       "useful         0\n",
       "funny          0\n",
       "cool           0\n",
       "text           0\n",
       "date           0\n",
       "dtype: int64"
      ]
     },
     "execution_count": 6,
     "metadata": {},
     "output_type": "execute_result"
    }
   ],
   "source": [
    "# identificamos datos nulos\n",
    "review.isna().sum()"
   ]
  },
  {
   "cell_type": "markdown",
   "metadata": {},
   "source": [
    "Las columnas a eliminar son ‘review_id’ dado que las claves (ID) de bussines y usser serán suficientes para asociar las review a cada negocio y usuario "
   ]
  },
  {
   "cell_type": "code",
   "execution_count": 7,
   "metadata": {},
   "outputs": [],
   "source": [
    "columnas = ['review_id']\n",
    "review.drop(columns=columnas, inplace=True)"
   ]
  },
  {
   "cell_type": "code",
   "execution_count": 8,
   "metadata": {},
   "outputs": [
    {
     "data": {
      "text/html": [
       "<div>\n",
       "<style scoped>\n",
       "    .dataframe tbody tr th:only-of-type {\n",
       "        vertical-align: middle;\n",
       "    }\n",
       "\n",
       "    .dataframe tbody tr th {\n",
       "        vertical-align: top;\n",
       "    }\n",
       "\n",
       "    .dataframe thead th {\n",
       "        text-align: right;\n",
       "    }\n",
       "</style>\n",
       "<table border=\"1\" class=\"dataframe\">\n",
       "  <thead>\n",
       "    <tr style=\"text-align: right;\">\n",
       "      <th></th>\n",
       "      <th>user_id</th>\n",
       "      <th>business_id</th>\n",
       "      <th>stars</th>\n",
       "      <th>useful</th>\n",
       "      <th>funny</th>\n",
       "      <th>cool</th>\n",
       "      <th>text</th>\n",
       "      <th>date</th>\n",
       "    </tr>\n",
       "  </thead>\n",
       "  <tbody>\n",
       "    <tr>\n",
       "      <th>0</th>\n",
       "      <td>59MxRhNVhU9MYndMkz0wtw</td>\n",
       "      <td>gebiRewfieSdtt17PTW6Zg</td>\n",
       "      <td>3.0</td>\n",
       "      <td>0</td>\n",
       "      <td>0</td>\n",
       "      <td>0</td>\n",
       "      <td>Had a party of 6 here for hibachi. Our waitres...</td>\n",
       "      <td>2016-07-25 07:31:06</td>\n",
       "    </tr>\n",
       "  </tbody>\n",
       "</table>\n",
       "</div>"
      ],
      "text/plain": [
       "                  user_id             business_id  stars  useful  funny  cool  \\\n",
       "0  59MxRhNVhU9MYndMkz0wtw  gebiRewfieSdtt17PTW6Zg    3.0       0      0     0   \n",
       "\n",
       "                                                text                 date  \n",
       "0  Had a party of 6 here for hibachi. Our waitres...  2016-07-25 07:31:06  "
      ]
     },
     "execution_count": 8,
     "metadata": {},
     "output_type": "execute_result"
    }
   ],
   "source": [
    "#verificamos resultados\n",
    "review.head(1)"
   ]
  },
  {
   "cell_type": "markdown",
   "metadata": {},
   "source": [
    "## Diccionario de review "
   ]
  },
  {
   "cell_type": "markdown",
   "metadata": {},
   "source": [
    "•\tuser_id (cadena): Es el identificador único del usuario que ha escrito la reseña. Cada usuario tiene un id_usuario único que lo distingue de otros usuarios.\n",
    "\n",
    "•\tbusiness_id (cadena): Es el identificador único del negocio que recibió la reseña. Cada negocio tiene una Identificación del negocio única que lo distingue de otros negocios.\n",
    "\n",
    "•\tstars (entero): Es la calificación de la reseña en términos de estrellas. Puede ser un valor entero entre 1 y 5, donde 1 es la calificación más baja y 5 es la calificación más alta.\n",
    "\n",
    "•\tuseful (entero): Representa el número de votos útiles que ha recibido la reseña de otros usuarios. Los usuarios pueden votar si una reseña les resultó útil o no.\n",
    "\n",
    "•\tfunny (entero): Representa el número de votos de otros usuarios que encontraron la reseña divertida. Los usuarios pueden votar si una reseña les resultó divertida o no.\n",
    "\n",
    "•\tcool (entero): Representa el número de votos de otros usuarios que encontraron la reseña fría o poco útil. Los usuarios pueden votar si una reseña les resultó poco útil.\n",
    "\n",
    "•\ttext (cadena): Es el contenido de la reseña escrita por el usuario. Aquí se encuentra el texto completo de la reseña que describe la experiencia del usuario con el negocio.\n",
    "\n"
   ]
  },
  {
   "cell_type": "code",
   "execution_count": 9,
   "metadata": {},
   "outputs": [],
   "source": [
    "review.to_parquet(r'Dataset_filtrados\\Total_reviews')\n"
   ]
  },
  {
   "cell_type": "markdown",
   "metadata": {},
   "source": [
    "# tips"
   ]
  },
  {
   "cell_type": "code",
   "execution_count": 28,
   "metadata": {},
   "outputs": [
    {
     "data": {
      "text/html": [
       "<div>\n",
       "<style scoped>\n",
       "    .dataframe tbody tr th:only-of-type {\n",
       "        vertical-align: middle;\n",
       "    }\n",
       "\n",
       "    .dataframe tbody tr th {\n",
       "        vertical-align: top;\n",
       "    }\n",
       "\n",
       "    .dataframe thead th {\n",
       "        text-align: right;\n",
       "    }\n",
       "</style>\n",
       "<table border=\"1\" class=\"dataframe\">\n",
       "  <thead>\n",
       "    <tr style=\"text-align: right;\">\n",
       "      <th></th>\n",
       "      <th>user_id</th>\n",
       "      <th>business_id</th>\n",
       "      <th>text</th>\n",
       "      <th>date</th>\n",
       "      <th>compliment_count</th>\n",
       "    </tr>\n",
       "  </thead>\n",
       "  <tbody>\n",
       "    <tr>\n",
       "      <th>8</th>\n",
       "      <td>VL12EhEdT4OWqGq0nIqkzw</td>\n",
       "      <td>xODBZmX4EmlVvbqtKN7YKg</td>\n",
       "      <td>Tacos</td>\n",
       "      <td>2012-07-27 01:48:24</td>\n",
       "      <td>0</td>\n",
       "    </tr>\n",
       "  </tbody>\n",
       "</table>\n",
       "</div>"
      ],
      "text/plain": [
       "                  user_id             business_id   text                date  \\\n",
       "8  VL12EhEdT4OWqGq0nIqkzw  xODBZmX4EmlVvbqtKN7YKg  Tacos 2012-07-27 01:48:24   \n",
       "\n",
       "   compliment_count  \n",
       "8                 0  "
      ]
     },
     "execution_count": 28,
     "metadata": {},
     "output_type": "execute_result"
    }
   ],
   "source": [
    "#vemos datos en general\n",
    "tips.head(1)"
   ]
  },
  {
   "cell_type": "code",
   "execution_count": 29,
   "metadata": {},
   "outputs": [
    {
     "name": "stdout",
     "output_type": "stream",
     "text": [
      "<class 'pandas.core.frame.DataFrame'>\n",
      "Int64Index: 66363 entries, 8 to 908908\n",
      "Data columns (total 5 columns):\n",
      " #   Column            Non-Null Count  Dtype         \n",
      "---  ------            --------------  -----         \n",
      " 0   user_id           66363 non-null  object        \n",
      " 1   business_id       66363 non-null  object        \n",
      " 2   text              66363 non-null  object        \n",
      " 3   date              66363 non-null  datetime64[ns]\n",
      " 4   compliment_count  66363 non-null  int64         \n",
      "dtypes: datetime64[ns](1), int64(1), object(3)\n",
      "memory usage: 3.0+ MB\n"
     ]
    }
   ],
   "source": [
    "tips.info()"
   ]
  },
  {
   "cell_type": "code",
   "execution_count": 30,
   "metadata": {},
   "outputs": [
    {
     "data": {
      "text/plain": [
       "Index(['user_id', 'business_id', 'text', 'date', 'compliment_count'], dtype='object')"
      ]
     },
     "execution_count": 30,
     "metadata": {},
     "output_type": "execute_result"
    }
   ],
   "source": [
    "#visualizamos columnas\n",
    "tips.columns"
   ]
  },
  {
   "cell_type": "code",
   "execution_count": 31,
   "metadata": {},
   "outputs": [
    {
     "data": {
      "text/plain": [
       "user_id             0\n",
       "business_id         0\n",
       "text                0\n",
       "date                0\n",
       "compliment_count    0\n",
       "dtype: int64"
      ]
     },
     "execution_count": 31,
     "metadata": {},
     "output_type": "execute_result"
    }
   ],
   "source": [
    "# identificamos datos nulos\n",
    "tips.isna().sum()"
   ]
  },
  {
   "cell_type": "code",
   "execution_count": 32,
   "metadata": {},
   "outputs": [
    {
     "data": {
      "text/plain": [
       "(66363, 5)"
      ]
     },
     "execution_count": 32,
     "metadata": {},
     "output_type": "execute_result"
    }
   ],
   "source": [
    "# observamos dimensiones del dataset\n",
    "tips.shape"
   ]
  },
  {
   "cell_type": "markdown",
   "metadata": {},
   "source": [
    "Las columna a eliminar es 'date’ ya que en el producto esa fecha no será relevante para la presentación de resultados. "
   ]
  },
  {
   "cell_type": "code",
   "execution_count": 33,
   "metadata": {},
   "outputs": [],
   "source": [
    "tips.drop(columns= 'date', inplace = True)"
   ]
  },
  {
   "cell_type": "code",
   "execution_count": 34,
   "metadata": {},
   "outputs": [
    {
     "data": {
      "text/html": [
       "<div>\n",
       "<style scoped>\n",
       "    .dataframe tbody tr th:only-of-type {\n",
       "        vertical-align: middle;\n",
       "    }\n",
       "\n",
       "    .dataframe tbody tr th {\n",
       "        vertical-align: top;\n",
       "    }\n",
       "\n",
       "    .dataframe thead th {\n",
       "        text-align: right;\n",
       "    }\n",
       "</style>\n",
       "<table border=\"1\" class=\"dataframe\">\n",
       "  <thead>\n",
       "    <tr style=\"text-align: right;\">\n",
       "      <th></th>\n",
       "      <th>user_id</th>\n",
       "      <th>business_id</th>\n",
       "      <th>text</th>\n",
       "      <th>compliment_count</th>\n",
       "    </tr>\n",
       "  </thead>\n",
       "  <tbody>\n",
       "    <tr>\n",
       "      <th>8</th>\n",
       "      <td>VL12EhEdT4OWqGq0nIqkzw</td>\n",
       "      <td>xODBZmX4EmlVvbqtKN7YKg</td>\n",
       "      <td>Tacos</td>\n",
       "      <td>0</td>\n",
       "    </tr>\n",
       "    <tr>\n",
       "      <th>13</th>\n",
       "      <td>MlnuJ7T14CE0JDK2ZIOx5g</td>\n",
       "      <td>MDr7KLYSPkEonvGojNEMBw</td>\n",
       "      <td>Let's go Yankees!</td>\n",
       "      <td>0</td>\n",
       "    </tr>\n",
       "    <tr>\n",
       "      <th>15</th>\n",
       "      <td>j2sEA3hiUcwHfq9Ml6M47g</td>\n",
       "      <td>EXYbKA1tocvOK_1tXxZXLA</td>\n",
       "      <td>Don't go for dinner. They close at 6. Really Y...</td>\n",
       "      <td>0</td>\n",
       "    </tr>\n",
       "    <tr>\n",
       "      <th>22</th>\n",
       "      <td>phKNHTaokisQkZ7qQbxryA</td>\n",
       "      <td>pWuoHHu0LuVrD0HjadDygg</td>\n",
       "      <td>Crepes please!!!</td>\n",
       "      <td>0</td>\n",
       "    </tr>\n",
       "    <tr>\n",
       "      <th>30</th>\n",
       "      <td>jDThlALkraoQLLBYHqY7FQ</td>\n",
       "      <td>9DJhhBqQSu-gTBwaqdhgpQ</td>\n",
       "      <td>Come early for the best service as they fill u...</td>\n",
       "      <td>0</td>\n",
       "    </tr>\n",
       "    <tr>\n",
       "      <th>41</th>\n",
       "      <td>XJDLaoN1PerKw2woiKeepA</td>\n",
       "      <td>t0zwddmbOGQOADrAxEPHQQ</td>\n",
       "      <td>Come by for some Jelly Bean sours this weekend!</td>\n",
       "      <td>0</td>\n",
       "    </tr>\n",
       "    <tr>\n",
       "      <th>43</th>\n",
       "      <td>nZB33t0RFtq_jTxJJJ6wfA</td>\n",
       "      <td>RNzhLU8zy1L5dBkjRK4xEA</td>\n",
       "      <td>Best steak tartare ever</td>\n",
       "      <td>0</td>\n",
       "    </tr>\n",
       "    <tr>\n",
       "      <th>57</th>\n",
       "      <td>9qZVikoJoqfQK9SBSynAGA</td>\n",
       "      <td>l-rGtJt0E7PAklT0IK7oFQ</td>\n",
       "      <td>Great atmosphere... Live music... Excellent dr...</td>\n",
       "      <td>0</td>\n",
       "    </tr>\n",
       "    <tr>\n",
       "      <th>69</th>\n",
       "      <td>VWJ8PSz6Sg5_AlBvQyGvpw</td>\n",
       "      <td>PcX8zGIJ_XHTAQAcEOwhLw</td>\n",
       "      <td>Nice resort, right by the powder white beach!</td>\n",
       "      <td>0</td>\n",
       "    </tr>\n",
       "    <tr>\n",
       "      <th>77</th>\n",
       "      <td>2idS8cD2zvsLnV5A9IImGg</td>\n",
       "      <td>ihYtslFvge9B9KK1S_E8rw</td>\n",
       "      <td>Great good and service.</td>\n",
       "      <td>0</td>\n",
       "    </tr>\n",
       "  </tbody>\n",
       "</table>\n",
       "</div>"
      ],
      "text/plain": [
       "                   user_id             business_id  \\\n",
       "8   VL12EhEdT4OWqGq0nIqkzw  xODBZmX4EmlVvbqtKN7YKg   \n",
       "13  MlnuJ7T14CE0JDK2ZIOx5g  MDr7KLYSPkEonvGojNEMBw   \n",
       "15  j2sEA3hiUcwHfq9Ml6M47g  EXYbKA1tocvOK_1tXxZXLA   \n",
       "22  phKNHTaokisQkZ7qQbxryA  pWuoHHu0LuVrD0HjadDygg   \n",
       "30  jDThlALkraoQLLBYHqY7FQ  9DJhhBqQSu-gTBwaqdhgpQ   \n",
       "41  XJDLaoN1PerKw2woiKeepA  t0zwddmbOGQOADrAxEPHQQ   \n",
       "43  nZB33t0RFtq_jTxJJJ6wfA  RNzhLU8zy1L5dBkjRK4xEA   \n",
       "57  9qZVikoJoqfQK9SBSynAGA  l-rGtJt0E7PAklT0IK7oFQ   \n",
       "69  VWJ8PSz6Sg5_AlBvQyGvpw  PcX8zGIJ_XHTAQAcEOwhLw   \n",
       "77  2idS8cD2zvsLnV5A9IImGg  ihYtslFvge9B9KK1S_E8rw   \n",
       "\n",
       "                                                 text  compliment_count  \n",
       "8                                               Tacos                 0  \n",
       "13                                  Let's go Yankees!                 0  \n",
       "15  Don't go for dinner. They close at 6. Really Y...                 0  \n",
       "22                                   Crepes please!!!                 0  \n",
       "30  Come early for the best service as they fill u...                 0  \n",
       "41    Come by for some Jelly Bean sours this weekend!                 0  \n",
       "43                            Best steak tartare ever                 0  \n",
       "57  Great atmosphere... Live music... Excellent dr...                 0  \n",
       "69      Nice resort, right by the powder white beach!                 0  \n",
       "77                            Great good and service.                 0  "
      ]
     },
     "execution_count": 34,
     "metadata": {},
     "output_type": "execute_result"
    }
   ],
   "source": [
    "#verificamos resultado\n",
    "tips.head(10)"
   ]
  },
  {
   "cell_type": "markdown",
   "metadata": {},
   "source": [
    "Al analizar la columna 'compliment_count', se observa que la gran mayoría de sus valores son 0. Solo hay alrededor de 1079 registros (aproximadamente un 1.6% del total) que contienen valores distintos de 0. Dado que esta proporción es bastante baja, hemos tomado la decisión de eliminar la columna 'compliment_count' de nuestros datos. Esto se debe a que los valores no son lo suficientemente significativos para influir en los resultados que estamos buscando presentar."
   ]
  },
  {
   "cell_type": "code",
   "execution_count": 35,
   "metadata": {},
   "outputs": [
    {
     "data": {
      "text/plain": [
       "1079"
      ]
     },
     "execution_count": 35,
     "metadata": {},
     "output_type": "execute_result"
    }
   ],
   "source": [
    "#verificamos cantidad de datos distitnso a 0\n",
    "(tips['compliment_count'] != 0).sum()"
   ]
  },
  {
   "cell_type": "code",
   "execution_count": 36,
   "metadata": {},
   "outputs": [
    {
     "data": {
      "text/html": [
       "<div>\n",
       "<style scoped>\n",
       "    .dataframe tbody tr th:only-of-type {\n",
       "        vertical-align: middle;\n",
       "    }\n",
       "\n",
       "    .dataframe tbody tr th {\n",
       "        vertical-align: top;\n",
       "    }\n",
       "\n",
       "    .dataframe thead th {\n",
       "        text-align: right;\n",
       "    }\n",
       "</style>\n",
       "<table border=\"1\" class=\"dataframe\">\n",
       "  <thead>\n",
       "    <tr style=\"text-align: right;\">\n",
       "      <th></th>\n",
       "      <th>user_id</th>\n",
       "      <th>business_id</th>\n",
       "      <th>text</th>\n",
       "    </tr>\n",
       "  </thead>\n",
       "  <tbody>\n",
       "    <tr>\n",
       "      <th>8</th>\n",
       "      <td>VL12EhEdT4OWqGq0nIqkzw</td>\n",
       "      <td>xODBZmX4EmlVvbqtKN7YKg</td>\n",
       "      <td>Tacos</td>\n",
       "    </tr>\n",
       "    <tr>\n",
       "      <th>13</th>\n",
       "      <td>MlnuJ7T14CE0JDK2ZIOx5g</td>\n",
       "      <td>MDr7KLYSPkEonvGojNEMBw</td>\n",
       "      <td>Let's go Yankees!</td>\n",
       "    </tr>\n",
       "    <tr>\n",
       "      <th>15</th>\n",
       "      <td>j2sEA3hiUcwHfq9Ml6M47g</td>\n",
       "      <td>EXYbKA1tocvOK_1tXxZXLA</td>\n",
       "      <td>Don't go for dinner. They close at 6. Really Y...</td>\n",
       "    </tr>\n",
       "    <tr>\n",
       "      <th>22</th>\n",
       "      <td>phKNHTaokisQkZ7qQbxryA</td>\n",
       "      <td>pWuoHHu0LuVrD0HjadDygg</td>\n",
       "      <td>Crepes please!!!</td>\n",
       "    </tr>\n",
       "    <tr>\n",
       "      <th>30</th>\n",
       "      <td>jDThlALkraoQLLBYHqY7FQ</td>\n",
       "      <td>9DJhhBqQSu-gTBwaqdhgpQ</td>\n",
       "      <td>Come early for the best service as they fill u...</td>\n",
       "    </tr>\n",
       "  </tbody>\n",
       "</table>\n",
       "</div>"
      ],
      "text/plain": [
       "                   user_id             business_id  \\\n",
       "8   VL12EhEdT4OWqGq0nIqkzw  xODBZmX4EmlVvbqtKN7YKg   \n",
       "13  MlnuJ7T14CE0JDK2ZIOx5g  MDr7KLYSPkEonvGojNEMBw   \n",
       "15  j2sEA3hiUcwHfq9Ml6M47g  EXYbKA1tocvOK_1tXxZXLA   \n",
       "22  phKNHTaokisQkZ7qQbxryA  pWuoHHu0LuVrD0HjadDygg   \n",
       "30  jDThlALkraoQLLBYHqY7FQ  9DJhhBqQSu-gTBwaqdhgpQ   \n",
       "\n",
       "                                                 text  \n",
       "8                                               Tacos  \n",
       "13                                  Let's go Yankees!  \n",
       "15  Don't go for dinner. They close at 6. Really Y...  \n",
       "22                                   Crepes please!!!  \n",
       "30  Come early for the best service as they fill u...  "
      ]
     },
     "execution_count": 36,
     "metadata": {},
     "output_type": "execute_result"
    }
   ],
   "source": [
    "#eliinamos la columna 'compliment_count'\n",
    "tips.drop(columns= 'compliment_count', inplace = True)\n",
    "#verificamos resultado\n",
    "tips.head()"
   ]
  },
  {
   "cell_type": "markdown",
   "metadata": {},
   "source": [
    "## Diccionario de tips \n"
   ]
  },
  {
   "cell_type": "markdown",
   "metadata": {},
   "source": [
    "user_id: Es un identificador único para cada usuario en Yelp que ha dejado un consejo (tip) en un negocio.\n",
    "\n",
    "business_id: Es un identificador único para el negocio en el que se dejó el consejo.\n",
    "\n",
    "text: Es el contenido del consejo que el usuario dejó para el negocio. Es un comentario o sugerencia que el usuario comparte."
   ]
  },
  {
   "cell_type": "code",
   "execution_count": 43,
   "metadata": {},
   "outputs": [],
   "source": [
    "tips.to_parquet(r'Dataset_filtrados\\Total_tips')"
   ]
  },
  {
   "cell_type": "markdown",
   "metadata": {},
   "source": [
    "# user"
   ]
  },
  {
   "cell_type": "code",
   "execution_count": 37,
   "metadata": {},
   "outputs": [
    {
     "data": {
      "text/html": [
       "<div>\n",
       "<style scoped>\n",
       "    .dataframe tbody tr th:only-of-type {\n",
       "        vertical-align: middle;\n",
       "    }\n",
       "\n",
       "    .dataframe tbody tr th {\n",
       "        vertical-align: top;\n",
       "    }\n",
       "\n",
       "    .dataframe thead th {\n",
       "        text-align: right;\n",
       "    }\n",
       "</style>\n",
       "<table border=\"1\" class=\"dataframe\">\n",
       "  <thead>\n",
       "    <tr style=\"text-align: right;\">\n",
       "      <th></th>\n",
       "      <th>user_id</th>\n",
       "      <th>name</th>\n",
       "      <th>review_count</th>\n",
       "      <th>yelping_since</th>\n",
       "      <th>useful</th>\n",
       "      <th>funny</th>\n",
       "      <th>cool</th>\n",
       "      <th>elite</th>\n",
       "      <th>friends</th>\n",
       "      <th>fans</th>\n",
       "      <th>average_stars</th>\n",
       "      <th>compliment_hot</th>\n",
       "      <th>compliment_more</th>\n",
       "      <th>compliment_profile</th>\n",
       "      <th>compliment_cute</th>\n",
       "      <th>compliment_list</th>\n",
       "      <th>compliment_note</th>\n",
       "      <th>compliment_plain</th>\n",
       "      <th>compliment_cool</th>\n",
       "      <th>compliment_funny</th>\n",
       "      <th>compliment_writer</th>\n",
       "      <th>compliment_photos</th>\n",
       "    </tr>\n",
       "  </thead>\n",
       "  <tbody>\n",
       "    <tr>\n",
       "      <th>0</th>\n",
       "      <td>qVc8ODYU5SZjKXVBgXdI7w</td>\n",
       "      <td>Walker</td>\n",
       "      <td>585</td>\n",
       "      <td>2007-01-25 16:47:26</td>\n",
       "      <td>7217</td>\n",
       "      <td>1259</td>\n",
       "      <td>5994</td>\n",
       "      <td>2007</td>\n",
       "      <td>NSCy54eWehBJyZdG2iE84w, pe42u7DcCH2QmI81NX-8qA...</td>\n",
       "      <td>267</td>\n",
       "      <td>3.91</td>\n",
       "      <td>250</td>\n",
       "      <td>65</td>\n",
       "      <td>55</td>\n",
       "      <td>56</td>\n",
       "      <td>18</td>\n",
       "      <td>232</td>\n",
       "      <td>844</td>\n",
       "      <td>467</td>\n",
       "      <td>467</td>\n",
       "      <td>239</td>\n",
       "      <td>180</td>\n",
       "    </tr>\n",
       "  </tbody>\n",
       "</table>\n",
       "</div>"
      ],
      "text/plain": [
       "                  user_id    name  review_count        yelping_since  useful  \\\n",
       "0  qVc8ODYU5SZjKXVBgXdI7w  Walker           585  2007-01-25 16:47:26    7217   \n",
       "\n",
       "   funny  cool elite                                            friends  fans  \\\n",
       "0   1259  5994  2007  NSCy54eWehBJyZdG2iE84w, pe42u7DcCH2QmI81NX-8qA...   267   \n",
       "\n",
       "   average_stars  compliment_hot  compliment_more  compliment_profile  \\\n",
       "0           3.91             250               65                  55   \n",
       "\n",
       "   compliment_cute  compliment_list  compliment_note  compliment_plain  \\\n",
       "0               56               18              232               844   \n",
       "\n",
       "   compliment_cool  compliment_funny  compliment_writer  compliment_photos  \n",
       "0              467               467                239                180  "
      ]
     },
     "execution_count": 37,
     "metadata": {},
     "output_type": "execute_result"
    }
   ],
   "source": [
    "#visualisamos datos de manera general\n",
    "user.head(1)"
   ]
  },
  {
   "cell_type": "code",
   "execution_count": 38,
   "metadata": {},
   "outputs": [
    {
     "data": {
      "text/plain": [
       "Index(['user_id', 'name', 'review_count', 'yelping_since', 'useful', 'funny',\n",
       "       'cool', 'elite', 'friends', 'fans', 'average_stars', 'compliment_hot',\n",
       "       'compliment_more', 'compliment_profile', 'compliment_cute',\n",
       "       'compliment_list', 'compliment_note', 'compliment_plain',\n",
       "       'compliment_cool', 'compliment_funny', 'compliment_writer',\n",
       "       'compliment_photos'],\n",
       "      dtype='object')"
      ]
     },
     "execution_count": 38,
     "metadata": {},
     "output_type": "execute_result"
    }
   ],
   "source": [
    "#observamos columnas\n",
    "user.columns"
   ]
  },
  {
   "cell_type": "code",
   "execution_count": 39,
   "metadata": {},
   "outputs": [
    {
     "data": {
      "text/plain": [
       "user_id               0\n",
       "name                  0\n",
       "review_count          0\n",
       "yelping_since         0\n",
       "useful                0\n",
       "funny                 0\n",
       "cool                  0\n",
       "elite                 0\n",
       "friends               0\n",
       "fans                  0\n",
       "average_stars         0\n",
       "compliment_hot        0\n",
       "compliment_more       0\n",
       "compliment_profile    0\n",
       "compliment_cute       0\n",
       "compliment_list       0\n",
       "compliment_note       0\n",
       "compliment_plain      0\n",
       "compliment_cool       0\n",
       "compliment_funny      0\n",
       "compliment_writer     0\n",
       "compliment_photos     0\n",
       "dtype: int64"
      ]
     },
     "execution_count": 39,
     "metadata": {},
     "output_type": "execute_result"
    }
   ],
   "source": [
    "# verificamos la existencia de datos nulos.\n",
    "user.isna().sum()"
   ]
  },
  {
   "cell_type": "markdown",
   "metadata": {},
   "source": [
    "Después de un análisis exhaustivo de los datos contenidos en cada columna, hemos llegado a la conclusión de que las siguientes columnas serán eliminadas de nuestro conjunto de datos: 'yelping_since', 'compliment_hot', 'compliment_more', 'compliment_profile', 'compliment_cute', 'compliment_list', 'compliment_note', 'compliment_plain', 'compliment_cool', 'compliment_funny', 'compliment_writer' y 'compliment_photos'. Hemos tomado esta decisión debido a que, en el contexto de mostrar los usuarios con más reseñas en cada negocio o nicho, estas columnas no aportan relevancia significativa. "
   ]
  },
  {
   "cell_type": "code",
   "execution_count": 40,
   "metadata": {},
   "outputs": [
    {
     "data": {
      "text/html": [
       "<div>\n",
       "<style scoped>\n",
       "    .dataframe tbody tr th:only-of-type {\n",
       "        vertical-align: middle;\n",
       "    }\n",
       "\n",
       "    .dataframe tbody tr th {\n",
       "        vertical-align: top;\n",
       "    }\n",
       "\n",
       "    .dataframe thead th {\n",
       "        text-align: right;\n",
       "    }\n",
       "</style>\n",
       "<table border=\"1\" class=\"dataframe\">\n",
       "  <thead>\n",
       "    <tr style=\"text-align: right;\">\n",
       "      <th></th>\n",
       "      <th>user_id</th>\n",
       "      <th>name</th>\n",
       "      <th>review_count</th>\n",
       "      <th>useful</th>\n",
       "      <th>funny</th>\n",
       "      <th>cool</th>\n",
       "      <th>friends</th>\n",
       "      <th>fans</th>\n",
       "      <th>average_stars</th>\n",
       "    </tr>\n",
       "  </thead>\n",
       "  <tbody>\n",
       "    <tr>\n",
       "      <th>0</th>\n",
       "      <td>qVc8ODYU5SZjKXVBgXdI7w</td>\n",
       "      <td>Walker</td>\n",
       "      <td>585</td>\n",
       "      <td>7217</td>\n",
       "      <td>1259</td>\n",
       "      <td>5994</td>\n",
       "      <td>NSCy54eWehBJyZdG2iE84w, pe42u7DcCH2QmI81NX-8qA...</td>\n",
       "      <td>267</td>\n",
       "      <td>3.91</td>\n",
       "    </tr>\n",
       "    <tr>\n",
       "      <th>1</th>\n",
       "      <td>2WnXYQFK0hXEoTxPtV2zvg</td>\n",
       "      <td>Steph</td>\n",
       "      <td>665</td>\n",
       "      <td>2086</td>\n",
       "      <td>1010</td>\n",
       "      <td>1003</td>\n",
       "      <td>LuO3Bn4f3rlhyHIaNfTlnA, j9B4XdHUhDfTKVecyWQgyA...</td>\n",
       "      <td>52</td>\n",
       "      <td>3.32</td>\n",
       "    </tr>\n",
       "    <tr>\n",
       "      <th>2</th>\n",
       "      <td>q_QQ5kBBwlCcbL1s4NVK3g</td>\n",
       "      <td>Jane</td>\n",
       "      <td>1221</td>\n",
       "      <td>14953</td>\n",
       "      <td>9940</td>\n",
       "      <td>11211</td>\n",
       "      <td>xBDpTUbai0DXrvxCe3X16Q, 7GPNBO496aecrjJfW6UWtg...</td>\n",
       "      <td>1357</td>\n",
       "      <td>3.85</td>\n",
       "    </tr>\n",
       "    <tr>\n",
       "      <th>3</th>\n",
       "      <td>xoZvMJPDW6Q9pDAXI0e_Ww</td>\n",
       "      <td>Ryan</td>\n",
       "      <td>535</td>\n",
       "      <td>1130</td>\n",
       "      <td>487</td>\n",
       "      <td>573</td>\n",
       "      <td>6tbXpUIU6upoeqWNDo9k_A, Vlab9b73R5qPLIv6tE4DJA...</td>\n",
       "      <td>31</td>\n",
       "      <td>3.89</td>\n",
       "    </tr>\n",
       "    <tr>\n",
       "      <th>4</th>\n",
       "      <td>vVukUtqoLF5BvH_VtQFNoA</td>\n",
       "      <td>Charlene</td>\n",
       "      <td>37</td>\n",
       "      <td>63</td>\n",
       "      <td>3</td>\n",
       "      <td>27</td>\n",
       "      <td>zkK6c9BcDyqreU0fqI_JLQ, opI1hhhFqElB6pptNH9ZqA...</td>\n",
       "      <td>4</td>\n",
       "      <td>4.51</td>\n",
       "    </tr>\n",
       "  </tbody>\n",
       "</table>\n",
       "</div>"
      ],
      "text/plain": [
       "                  user_id      name  review_count  useful  funny   cool  \\\n",
       "0  qVc8ODYU5SZjKXVBgXdI7w    Walker           585    7217   1259   5994   \n",
       "1  2WnXYQFK0hXEoTxPtV2zvg     Steph           665    2086   1010   1003   \n",
       "2  q_QQ5kBBwlCcbL1s4NVK3g      Jane          1221   14953   9940  11211   \n",
       "3  xoZvMJPDW6Q9pDAXI0e_Ww      Ryan           535    1130    487    573   \n",
       "4  vVukUtqoLF5BvH_VtQFNoA  Charlene            37      63      3     27   \n",
       "\n",
       "                                             friends  fans  average_stars  \n",
       "0  NSCy54eWehBJyZdG2iE84w, pe42u7DcCH2QmI81NX-8qA...   267           3.91  \n",
       "1  LuO3Bn4f3rlhyHIaNfTlnA, j9B4XdHUhDfTKVecyWQgyA...    52           3.32  \n",
       "2  xBDpTUbai0DXrvxCe3X16Q, 7GPNBO496aecrjJfW6UWtg...  1357           3.85  \n",
       "3  6tbXpUIU6upoeqWNDo9k_A, Vlab9b73R5qPLIv6tE4DJA...    31           3.89  \n",
       "4  zkK6c9BcDyqreU0fqI_JLQ, opI1hhhFqElB6pptNH9ZqA...     4           4.51  "
      ]
     },
     "execution_count": 40,
     "metadata": {},
     "output_type": "execute_result"
    }
   ],
   "source": [
    "#establecemos una variable con las columnas a borrar\n",
    "columnas_drop= ['yelping_since','elite', 'compliment_hot', 'compliment_more', 'compliment_profile', 'compliment_cute', 'compliment_list', 'compliment_note', 'compliment_plain', 'compliment_cool', 'compliment_funny', 'compliment_writer','compliment_photos']\n",
    "#borramos columnas.\n",
    "user.drop(columns= columnas_drop, inplace = True)\n",
    "#verificamos resultados\n",
    "user.head()"
   ]
  },
  {
   "cell_type": "markdown",
   "metadata": {},
   "source": [
    "## Diccionario de user \n"
   ]
  },
  {
   "cell_type": "markdown",
   "metadata": {},
   "source": [
    "•\tuser_id: Es un identificador único para el usuario. Es una cadena de texto que identifica al usuario en Yelp.\n",
    "\n",
    "•\tname: Es el nombre del usuario. Es una cadena de texto que representa el nombre del usuario en Yelp.\n",
    "\n",
    "•\treview_count: Es la cantidad total de reseñas que el usuario ha escrito en Yelp. Es un número entero que indica cuántas reseñas ha dejado el usuario.\n",
    "\n",
    "\n",
    "•\tuseful: Representa la cantidad total de votos \"útiles\" que el usuario ha recibido en sus reseñas por parte de otros usuarios. Es un número entero que indica cuántos usuarios han encontrado útiles las reseñas del usuario.\n",
    "\n",
    "•\tfunny: Representa la cantidad total de votos \"graciosos\" que el usuario ha recibido en sus reseñas por parte de otros usuarios. Es un número entero que indica cuántos usuarios han encontrado graciosas las reseñas del usuario.\n",
    "\n",
    "•\tcool: Representa la cantidad total de votos \"frescos\" que el usuario ha recibido en sus reseñas por parte de otros usuarios. Es un número entero que indica cuántos usuarios han encontrado frescas las reseñas del usuario.\n",
    "\n",
    "•\tfriends: Indica la cantidad de amigos que el usuario tiene en Yelp. Puede estar en blanco (nulo) si el usuario no ha proporcionado esta información.\n",
    "\n",
    "•\tfans: Número de seguidores que el usuario tiene en Yelp.\n"
   ]
  },
  {
   "cell_type": "code",
   "execution_count": 44,
   "metadata": {},
   "outputs": [],
   "source": [
    "user.to_parquet(r'Dataset_filtrados\\Total_user')\n"
   ]
  }
 ],
 "metadata": {
  "kernelspec": {
   "display_name": "Python 3",
   "language": "python",
   "name": "python3"
  },
  "language_info": {
   "codemirror_mode": {
    "name": "ipython",
    "version": 3
   },
   "file_extension": ".py",
   "mimetype": "text/x-python",
   "name": "python",
   "nbconvert_exporter": "python",
   "pygments_lexer": "ipython3",
   "version": "3.11.1"
  },
  "orig_nbformat": 4
 },
 "nbformat": 4,
 "nbformat_minor": 2
}
